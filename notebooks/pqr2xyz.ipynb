{
 "cells": [
  {
   "cell_type": "code",
   "execution_count": 1,
   "id": "585175e9-db70-4449-9e12-20f9b66875e3",
   "metadata": {
    "execution": {
     "iopub.execute_input": "2025-10-02T08:32:45.322993Z",
     "iopub.status.busy": "2025-10-02T08:32:45.322668Z",
     "iopub.status.idle": "2025-10-02T08:32:45.628074Z",
     "shell.execute_reply": "2025-10-02T08:32:45.627846Z",
     "shell.execute_reply.started": "2025-10-02T08:32:45.322981Z"
    }
   },
   "outputs": [],
   "source": [
    "import argparse\n",
    "import jinja2\n",
    "import logging\n",
    "import MDAnalysis as mda\n",
    "import numpy as np\n",
    "from pdb2pqr import run_pdb2pqr\n",
    "import propka.run as pkrun\n",
    "import itertools\n",
    "import os"
   ]
  },
  {
   "cell_type": "code",
   "execution_count": 2,
   "id": "06b349d1-bbaf-4bc2-9c88-144a701c9510",
   "metadata": {
    "execution": {
     "iopub.execute_input": "2025-10-02T08:32:45.643178Z",
     "iopub.status.busy": "2025-10-02T08:32:45.642853Z",
     "iopub.status.idle": "2025-10-02T08:32:45.644806Z",
     "shell.execute_reply": "2025-10-02T08:32:45.644564Z",
     "shell.execute_reply.started": "2025-10-02T08:32:45.643164Z"
    }
   },
   "outputs": [],
   "source": [
    "#git_dir='/Users/anze/Git/pdb2xyz/'\n",
    "git_dir='/home/anze/Work/Git/pdb2xyz/'\n",
    "\n",
    "#os.chdir(git_dir + 'lysozyme_test/')\n",
    "os.chdir(git_dir + 'cgn_test/')"
   ]
  },
  {
   "cell_type": "markdown",
   "id": "b3006cc5-ab46-4758-bcb8-415f077df682",
   "metadata": {},
   "source": [
    "### If necessary, split a PDB into separate chains"
   ]
  },
  {
   "cell_type": "code",
   "execution_count": 8,
   "id": "d6fb6f91-9eef-49a5-87cf-3b75b9956114",
   "metadata": {
    "execution": {
     "iopub.execute_input": "2025-09-30T10:39:49.370336Z",
     "iopub.status.busy": "2025-09-30T10:39:49.370158Z",
     "iopub.status.idle": "2025-09-30T10:39:49.376159Z",
     "shell.execute_reply": "2025-09-30T10:39:49.375905Z",
     "shell.execute_reply.started": "2025-09-30T10:39:49.370322Z"
    }
   },
   "outputs": [
    {
     "data": {
      "text/plain": [
       "'\\n%%capture --no-stdout\\n\\n# split a PDB file into separate chains\\n\\nPDB_id=\\'4F5S\\'\\npdb_file=\\'%s.pdb\\' % PDB_id\\n\\nfrom Bio.PDB import PDBParser\\nfrom Bio.PDB.PDBIO import PDBIO\\n\\nparser = PDBParser()\\nio = PDBIO()\\n\\nstructure = parser.get_structure(PDB_id, pdb_file)\\npdb_chains = structure.get_chains()\\nfor chain in pdb_chains:\\n    io.set_structure(chain)\\n    io.save(structure.get_id() + \"_\" + chain.get_id() + \".pdb\")\\n'"
      ]
     },
     "execution_count": 8,
     "metadata": {},
     "output_type": "execute_result"
    }
   ],
   "source": [
    "'''\n",
    "%%capture --no-stdout\n",
    "\n",
    "# split a PDB file into separate chains\n",
    "\n",
    "PDB_id='4F5S'\n",
    "pdb_file='%s.pdb' % PDB_id\n",
    "\n",
    "from Bio.PDB import PDBParser\n",
    "from Bio.PDB.PDBIO import PDBIO\n",
    "\n",
    "parser = PDBParser()\n",
    "io = PDBIO()\n",
    "\n",
    "structure = parser.get_structure(PDB_id, pdb_file)\n",
    "pdb_chains = structure.get_chains()\n",
    "for chain in pdb_chains:\n",
    "    io.set_structure(chain)\n",
    "    io.save(structure.get_id() + \"_\" + chain.get_id() + \".pdb\")\n",
    "'''"
   ]
  },
  {
   "cell_type": "markdown",
   "id": "8e7ffeaa-82dc-4e21-b5a1-2b9d96052bb7",
   "metadata": {},
   "source": [
    "### Get protonation states via propka"
   ]
  },
  {
   "cell_type": "code",
   "execution_count": 6,
   "id": "ac684e03-3223-4c45-baf5-0359738c3ca5",
   "metadata": {
    "execution": {
     "iopub.execute_input": "2025-10-02T08:33:50.706371Z",
     "iopub.status.busy": "2025-10-02T08:33:50.706126Z",
     "iopub.status.idle": "2025-10-02T08:33:50.707974Z",
     "shell.execute_reply": "2025-10-02T08:33:50.707743Z",
     "shell.execute_reply.started": "2025-10-02T08:33:50.706359Z"
    }
   },
   "outputs": [],
   "source": [
    "#PDB_id='4LZT'\n",
    "PDB_id='7KTZ'\n",
    "pdb_file='%s.pdb' % PDB_id"
   ]
  },
  {
   "cell_type": "code",
   "execution_count": 17,
   "id": "0b5b27b6-0a1e-4e6a-9d03-c9389a7e0591",
   "metadata": {
    "execution": {
     "iopub.execute_input": "2025-09-30T11:23:36.806981Z",
     "iopub.status.busy": "2025-09-30T11:23:36.806702Z",
     "iopub.status.idle": "2025-09-30T11:23:37.451156Z",
     "shell.execute_reply": "2025-09-30T11:23:37.450907Z",
     "shell.execute_reply.started": "2025-09-30T11:23:36.806968Z"
    }
   },
   "outputs": [
    {
     "name": "stderr",
     "output_type": "stream",
     "text": [
      "WARNING:propka.group:Missing atoms or failed protonation for THR 151 A (BBN) -- please check the structure\n",
      "WARNING:propka.group:Group (BBN) for  1098-   N   151-THR (A) [  29.970    5.578   12.368] N\n",
      "WARNING:propka.group:Expected 2 interaction atoms for acids, found:\n",
      "WARNING:propka.group:                 0-  H1   151-THR (A) [  30.000    4.571   12.302] H\n",
      "WARNING:propka.group:                 0-  H2   151-THR (A) [  29.013    5.879   12.484] H\n",
      "WARNING:propka.group:              1098-   N   151-THR (A) [  29.970    5.578   12.368] N\n",
      "WARNING:propka.group:Expected 2 interaction atoms for bases, found:\n",
      "WARNING:propka.group:                 0-  H1   151-THR (A) [  30.000    4.571   12.302] H\n",
      "WARNING:propka.group:                 0-  H2   151-THR (A) [  29.013    5.879   12.484] H\n",
      "WARNING:propka.group:              1098-   N   151-THR (A) [  29.970    5.578   12.368] N\n",
      "WARNING:propka.group:Missing atoms or failed protonation for THR 151 A (BBN) -- please check the structure\n",
      "WARNING:propka.group:Group (BBN) for  1098-   N   151-THR (A) [  29.970    5.578   12.368] N\n",
      "WARNING:propka.group:Expected 2 interaction atoms for acids, found:\n",
      "WARNING:propka.group:                 0-  H1   151-THR (A) [  30.000    4.571   12.302] H\n",
      "WARNING:propka.group:                 0-  H2   151-THR (A) [  29.013    5.879   12.484] H\n",
      "WARNING:propka.group:              1098-   N   151-THR (A) [  29.970    5.578   12.368] N\n",
      "WARNING:propka.group:Expected 2 interaction atoms for bases, found:\n",
      "WARNING:propka.group:                 0-  H1   151-THR (A) [  30.000    4.571   12.302] H\n",
      "WARNING:propka.group:                 0-  H2   151-THR (A) [  29.013    5.879   12.484] H\n",
      "WARNING:propka.group:              1098-   N   151-THR (A) [  29.970    5.578   12.368] N\n"
     ]
    },
    {
     "data": {
      "text/plain": [
       "<propka.molecular_container.MolecularContainer at 0x76ef4f158f80>"
      ]
     },
     "execution_count": 17,
     "metadata": {},
     "output_type": "execute_result"
    }
   ],
   "source": [
    "pkrun.single(pdb_file)"
   ]
  },
  {
   "cell_type": "code",
   "execution_count": 18,
   "id": "69111eca-0820-422f-8174-6b9f75400cf4",
   "metadata": {
    "execution": {
     "iopub.execute_input": "2025-09-30T11:23:49.623591Z",
     "iopub.status.busy": "2025-09-30T11:23:49.623423Z",
     "iopub.status.idle": "2025-09-30T11:23:49.632943Z",
     "shell.execute_reply": "2025-09-30T11:23:49.632638Z",
     "shell.execute_reply.started": "2025-09-30T11:23:49.623579Z"
    }
   },
   "outputs": [],
   "source": [
    "# obtain a list of partial charges based on propka-determined pKa values\n",
    "def partial_charges(propka_file,pH):\n",
    "\n",
    "    with open(propka_file) as fp:\n",
    "        result = list(itertools.takewhile(lambda x: '---' not in x, \n",
    "            itertools.dropwhile(lambda x: 'Group' not in x, fp)))\n",
    "\n",
    "    result=result[1:]\n",
    "    result=np.array([line.split()[:4] for line in result])\n",
    "\n",
    "    negative=['C-','ASP','GLU','TYR','CYS']\n",
    "    positive=['N+','ARG','LYS','HIS']\n",
    "\n",
    "    pqr={}\n",
    "\n",
    "    for i,entry in enumerate(result):\n",
    "\n",
    "        AA=str(entry[0])\n",
    "        resid=str(entry[1])\n",
    "        segid=str(entry[2])\n",
    "        pKa=float(entry[-1])\n",
    "\n",
    "        if AA in negative: pqr[(AA,resid,segid)] = - 10**(pH-pKa) / (1 + 10**(pH-pKa)) #pqr[i,-1] = '%.6f' % (- 10**(pH-pKa) / (1 + 10**(pH-pKa)))\n",
    "        elif AA in positive: pqr[(AA,resid,segid)] = 1.0 - 10**(pH-pKa) / (1 + 10**(pH-pKa)) #pqr[i,-1] = '%.6f' % (1.0 - 10**(pH-pKa) / (1 + 10**(pH-pKa)))\n",
    "        else: continue\n",
    "\n",
    "    return pqr"
   ]
  },
  {
   "cell_type": "code",
   "execution_count": 19,
   "id": "a54e6739-4346-4336-9f22-4b440157634d",
   "metadata": {
    "execution": {
     "iopub.execute_input": "2025-09-30T11:23:49.974047Z",
     "iopub.status.busy": "2025-09-30T11:23:49.973871Z",
     "iopub.status.idle": "2025-09-30T11:23:49.980514Z",
     "shell.execute_reply": "2025-09-30T11:23:49.980215Z",
     "shell.execute_reply.started": "2025-09-30T11:23:49.974035Z"
    }
   },
   "outputs": [
    {
     "name": "stdout",
     "output_type": "stream",
     "text": [
      "\n",
      "Total charge on chain A at pH = 7.00 is Q = 5.22\n"
     ]
    }
   ],
   "source": [
    "pka_file='%s.pka' % PDB_id\n",
    "pH=7.0\n",
    "\n",
    "pcr=partial_charges(pka_file,pH)\n",
    "\n",
    "tc=np.sum([charge for (AA, resid, segid), charge in pcr.items() if segid in ['A']])\n",
    "\n",
    "print('\\nTotal charge on chain A at pH = %.2f is Q = %.2f' % (pH,tc))"
   ]
  },
  {
   "cell_type": "markdown",
   "id": "79f02e99-7c09-413e-924a-8e66e136375e",
   "metadata": {},
   "source": [
    "### Convert to XYZ based on propka-determined pKa"
   ]
  },
  {
   "cell_type": "code",
   "execution_count": 20,
   "id": "090f8a9a-9eef-483d-8085-ed636e69cf0e",
   "metadata": {
    "execution": {
     "iopub.execute_input": "2025-09-30T11:23:52.183911Z",
     "iopub.status.busy": "2025-09-30T11:23:52.183703Z",
     "iopub.status.idle": "2025-09-30T11:23:52.195027Z",
     "shell.execute_reply": "2025-09-30T11:23:52.194698Z",
     "shell.execute_reply.started": "2025-09-30T11:23:52.183892Z"
    }
   },
   "outputs": [],
   "source": [
    "# chains is a list of identifiers\n",
    "def convert_propka(pdb_file: str, propka_file: str, output_prefix: str, pH=7.0, chains=None):\n",
    "    \"\"\"Convert propka-parsed PDB to coarse grained XYZ file; one bead per amino acid, adding sidechain beads for ionizable amino acid\"\"\"\n",
    "\n",
    "    pdb=mda.Universe(pdb_file)\n",
    "    pdb.atoms.translate(-pdb.atoms.center_of_mass()) # moves COM to [0,0,0]\n",
    "\n",
    "    # keep only protein atoms and optionally selected chains\n",
    "    # omit hydrogen atoms\n",
    "    if chains: traj=pdb.select_atoms('protein and not name H* and segid %s' % ' '.join(chains))\n",
    "    else: traj=pdb.select_atoms('protein and not name H*')\n",
    "\n",
    "    # load partial charges\n",
    "    pcr=partial_charges(propka_file,pH)\n",
    "\n",
    "    residues = []\n",
    "    chrdict = {}\n",
    "    \n",
    "    for res in traj.residues:\n",
    "\n",
    "        name = res.resname\n",
    "        com = res.atoms.center_of_mass()\n",
    "\n",
    "        residues.append(dict(name=name,cm=com))\n",
    "\n",
    "        # Map residue and atom names to sidechain bead names\n",
    "        sidechain_map = {\n",
    "            \"ASP\": (\"Dsc\", \"OD1\"),\n",
    "            \"GLU\": (\"Esc\", \"OE1\"),\n",
    "            \"TYR\": (\"Tsc\", \"OH\"),\n",
    "            \"ARG\": (\"Rsc\", \"CZ\"),\n",
    "            \"LYS\": (\"Ksc\", \"NZ\"),\n",
    "            \"HIS\": (\"Hsc\", \"NE2\"),\n",
    "            \"CYS\": (\"Csc\", \"SG\"),\n",
    "        }\n",
    "\n",
    "        chr_=pcr.get((name,str(res.resid),res.segid),0.0)\n",
    "\n",
    "        # consider only charges above some cutoff\n",
    "        if abs(chr_) > 1e-3:\n",
    "\n",
    "            bead_name, atom_name = sidechain_map.get(name,(None,None))\n",
    "            \n",
    "            if bead_name:\n",
    "\n",
    "                bn = '%s%i%s' % (bead_name,res.resid,res.segid)\n",
    "                residues.append(dict(name=bn, cm=traj.select_atoms('resid %i and name %s' % (res.resid,atom_name)).positions[0]))\n",
    "\n",
    "            else:\n",
    "\n",
    "                bn = 'TRC%i%s' % (res.resid,res.segid)\n",
    "                residues.append(dict(name=bn, cm=res.atoms.center_of_charge())) # we have a terminal charge\n",
    "\n",
    "            chrdict[bn] = chr_\n",
    "\n",
    "    with open(output_prefix+'.xyz', \"w\") as f:\n",
    "        \n",
    "        f.write(f\"{len(residues)}\\n\")\n",
    "        f.write(\n",
    "            f\"Converted with propka pqr2xyz.py with {pdb_file} (https://github.com/mlund/pdb2xyz)\\n\"\n",
    "        )\n",
    "        \n",
    "        for i in residues:\n",
    "            \n",
    "            f.write(f\"{i['name']} {i['cm'][0]:.3f} {i['cm'][1]:.3f} {i['cm'][2]:.3f}\\n\")\n",
    "        logging.info(\n",
    "            f\"Converted {pdb_file} -> {output_prefix+'.xyz'} with {len(residues)} residues.\"\n",
    "        )\n",
    "\n",
    "    with open(output_prefix+'.yaml', \"w\") as f:\n",
    "        f.write(\n",
    "\"\"\"comment: \"Calvados 3 coarse grained amino acid model for use with Duello / Faunus\"\n",
    "pH: %.2f\n",
    "version: 0.1.0\n",
    "atoms:\"\"\" % pH\n",
    "    )\n",
    "        for key in chrdict.keys(): f.write(\n",
    "\"\"\"\n",
    "  - {charge: %.3f, hydrophobicity: !Lambda 0, mass: 0, name: %s, σ: 2.0, ε: 0.8368}\"\"\" % (chrdict[key],key)\n",
    "    )\n",
    "        f.write(\n",
    "\"\"\"\n",
    "  - {charge: 0.0, hydrophobicity: !Lambda 0.7407902764839954, mass: 156.19, name: ARG, σ: 6.56, ε: 0.8368}\n",
    "  - {charge: 0.0, hydrophobicity: !Lambda 0.092587557536158,  mass: 115.09, name: ASP, σ: 5.58, ε: 0.8368}\n",
    "  - {charge: 0.0, hydrophobicity: !Lambda 0.000249590539426,  mass: 129.11, name: GLU, σ: 5.92, ε: 0.8368}\n",
    "  - {charge: 0.0, hydrophobicity: !Lambda 0.1380602542039267, mass: 128.17, name: LYS, σ: 6.36, ε: 0.8368}\n",
    "  - {charge: 0.0, hydrophobicity: !Lambda 0.4087176216525476, mass: 137.14, name: HIS, σ: 6.08, ε: 0.8368}\n",
    "  - {charge: 0.0, hydrophobicity: !Lambda 0.3706962163690402, mass: 114.1,  name: ASN, σ: 5.68, ε: 0.8368}\n",
    "  - {charge: 0.0, hydrophobicity: !Lambda 0.3143449791669133, mass: 128.13, name: GLN, σ: 6.02, ε: 0.8368}\n",
    "  - {charge: 0.0, hydrophobicity: !Lambda 0.4473142572693176, mass: 87.08,  name: SER, σ: 5.18, ε: 0.8368}\n",
    "  - {charge: 0.0, hydrophobicity: !Lambda 0.7538308115197386, mass: 57.05,  name: GLY, σ: 4.5,  ε: 0.8368}\n",
    "  - {charge: 0.0, hydrophobicity: !Lambda 0.2672387936544146, mass: 101.11, name: THR, σ: 5.62, ε: 0.8368}\n",
    "  - {charge: 0.0, hydrophobicity: !Lambda 0.3377244362031627, mass: 71.07,  name: ALA, σ: 5.04, ε: 0.8368}\n",
    "  - {charge: 0.0, hydrophobicity: !Lambda 0.5170874160398543, mass: 131.2,  name: MET, σ: 6.18, ε: 0.8368}\n",
    "  - {charge: 0.0, hydrophobicity: !Lambda 0.950628687301107,  mass: 163.18, name: TYR, σ: 6.46, ε: 0.8368}\n",
    "  - {charge: 0.0, hydrophobicity: !Lambda 0.2936174211771383, mass: 99.13,  name: VAL, σ: 5.86, ε: 0.8368}\n",
    "  - {charge: 0.0, hydrophobicity: !Lambda 1.033450123574512,  mass: 186.22, name: TRP, σ: 6.78, ε: 0.8368}\n",
    "  - {charge: 0.0, hydrophobicity: !Lambda 0.5548615312993875, mass: 113.16, name: LEU, σ: 6.18, ε: 0.8368}\n",
    "  - {charge: 0.0, hydrophobicity: !Lambda 0.5130398874425708, mass: 113.16, name: ILE, σ: 6.18, ε: 0.8368}\n",
    "  - {charge: 0.0, hydrophobicity: !Lambda 0.3469777523519372, mass: 97.12,  name: PRO, σ: 5.56, ε: 0.8368}\n",
    "  - {charge: 0.0, hydrophobicity: !Lambda 0.8906449355499866, mass: 147.18, name: PHE, σ: 6.36, ε: 0.8368}\n",
    "  - {charge: 0.0, hydrophobicity: !Lambda 0.5922529084601322, mass: 103.14, name: CYS, σ: 5.48, ε: 0.8368}\n",
    "\"\"\"\n",
    "    )\n",
    "        f.write(\n",
    "\"\"\"\n",
    "system:\n",
    "  energy:\n",
    "    nonbonded:\n",
    "      # Note that a Coulomb term is automatically added, so don't specify one here!\n",
    "      default:\n",
    "        - !AshbaughHatch {mixing: arithmetic, cutoff: 20.0}\n",
    "\"\"\"\n",
    "    )\n",
    "\n",
    "    return True"
   ]
  },
  {
   "cell_type": "code",
   "execution_count": 21,
   "id": "9f75b73d-4a4c-4c05-ae23-f99846dc5790",
   "metadata": {
    "execution": {
     "iopub.execute_input": "2025-09-30T11:23:54.782448Z",
     "iopub.status.busy": "2025-09-30T11:23:54.782276Z",
     "iopub.status.idle": "2025-09-30T11:23:54.970818Z",
     "shell.execute_reply": "2025-09-30T11:23:54.970512Z",
     "shell.execute_reply.started": "2025-09-30T11:23:54.782436Z"
    }
   },
   "outputs": [
    {
     "name": "stdout",
     "output_type": "stream",
     "text": [
      "Success!\n",
      "Success!\n",
      "Success!\n"
     ]
    }
   ],
   "source": [
    "for pH in [5.0,7.0,9.0]:\n",
    "\n",
    "    out_file='%s_propka_pH%.2f' % (PDB_id,pH)\n",
    "    if convert_propka(pdb_file,pka_file,out_file,pH=pH): print(\"Success!\")"
   ]
  },
  {
   "cell_type": "code",
   "execution_count": 9,
   "id": "7c4e1438-6f81-4b40-b8f2-ec9823d99606",
   "metadata": {
    "execution": {
     "iopub.execute_input": "2025-09-25T20:25:23.161981Z",
     "iopub.status.busy": "2025-09-25T20:25:23.161387Z",
     "iopub.status.idle": "2025-09-25T20:25:23.168275Z",
     "shell.execute_reply": "2025-09-25T20:25:23.167439Z",
     "shell.execute_reply.started": "2025-09-25T20:25:23.161928Z"
    }
   },
   "outputs": [
    {
     "data": {
      "text/plain": [
       "'\\npH=7.0\\nout_file=\\'%s_A_propka_pH%.1f\\' % (PDB_id,pH)\\n\\nif convert_propka(pdb_file,pka_file,out_file,pH=pH,chains=[\\'A\\']): print(\"Success!\")\\n'"
      ]
     },
     "execution_count": 9,
     "metadata": {},
     "output_type": "execute_result"
    }
   ],
   "source": [
    "'''\n",
    "pH=7.0\n",
    "out_file='%s_A_propka_pH%.1f' % (PDB_id,pH)\n",
    "\n",
    "if convert_propka(pdb_file,pka_file,out_file,pH=pH,chains=['A']): print(\"Success!\")\n",
    "'''"
   ]
  },
  {
   "cell_type": "code",
   "execution_count": 10,
   "id": "7a55b46f-98f8-4c25-a6a6-6cfce68f827e",
   "metadata": {
    "execution": {
     "iopub.execute_input": "2025-09-25T10:01:36.678347Z",
     "iopub.status.busy": "2025-09-25T10:01:36.677960Z",
     "iopub.status.idle": "2025-09-25T10:01:36.685200Z",
     "shell.execute_reply": "2025-09-25T10:01:36.683671Z",
     "shell.execute_reply.started": "2025-09-25T10:01:36.678314Z"
    }
   },
   "outputs": [],
   "source": [
    "# Separate function fi needed\n",
    "def write_topology(cdr,topology_file):\n",
    "\n",
    "    #with open('topology.yaml', \"w\") as f:\n",
    "    with open(topology_file, \"w\") as f:\n",
    "        f.write(\n",
    "\"\"\"comment: \"Calvados 3 coarse grained amino acid model for use with Duello / Faunus\"\n",
    "pH: %.2f\n",
    "version: 0.1.0\n",
    "atoms:\"\"\" % 7.20\n",
    "    )\n",
    "        for key in cdr.keys(): f.write(\n",
    "\"\"\"\n",
    "  - {charge: %.2f, hydrophobicity: !Lambda 0, mass: 0, name: %s, σ: 2.0, ε: 0.8368}\"\"\" % (cdr[key],key)\n",
    "        )\n",
    "        f.write(\n",
    "\"\"\"\n",
    "  - {charge: 0.0, hydrophobicity: !Lambda 0.7407902764839954, mass: 156.19, name: ARG, σ: 6.56, ε: 0.8368}\n",
    "  - {charge: 0.0, hydrophobicity: !Lambda 0.092587557536158,  mass: 115.09, name: ASP, σ: 5.58, ε: 0.8368}\n",
    "  - {charge: 0.0, hydrophobicity: !Lambda 0.000249590539426,  mass: 129.11, name: GLU, σ: 5.92, ε: 0.8368}\n",
    "  - {charge: 0.0, hydrophobicity: !Lambda 0.1380602542039267, mass: 128.17, name: LYS, σ: 6.36, ε: 0.8368}\n",
    "  - {charge: 0.0, hydrophobicity: !Lambda 0.4087176216525476, mass: 137.14, name: HIS, σ: 6.08, ε: 0.8368}\n",
    "  - {charge: 0.0, hydrophobicity: !Lambda 0.3706962163690402, mass: 114.1,  name: ASN, σ: 5.68, ε: 0.8368}\n",
    "  - {charge: 0.0, hydrophobicity: !Lambda 0.3143449791669133, mass: 128.13, name: GLN, σ: 6.02, ε: 0.8368}\n",
    "  - {charge: 0.0, hydrophobicity: !Lambda 0.4473142572693176, mass: 87.08,  name: SER, σ: 5.18, ε: 0.8368}\n",
    "  - {charge: 0.0, hydrophobicity: !Lambda 0.7538308115197386, mass: 57.05,  name: GLY, σ: 4.5,  ε: 0.8368}\n",
    "  - {charge: 0.0, hydrophobicity: !Lambda 0.2672387936544146, mass: 101.11, name: THR, σ: 5.62, ε: 0.8368}\n",
    "  - {charge: 0.0, hydrophobicity: !Lambda 0.3377244362031627, mass: 71.07,  name: ALA, σ: 5.04, ε: 0.8368}\n",
    "  - {charge: 0.0, hydrophobicity: !Lambda 0.5170874160398543, mass: 131.2,  name: MET, σ: 6.18, ε: 0.8368}\n",
    "  - {charge: 0.0, hydrophobicity: !Lambda 0.950628687301107,  mass: 163.18, name: TYR, σ: 6.46, ε: 0.8368}\n",
    "  - {charge: 0.0, hydrophobicity: !Lambda 0.2936174211771383, mass: 99.13,  name: VAL, σ: 5.86, ε: 0.8368}\n",
    "  - {charge: 0.0, hydrophobicity: !Lambda 1.033450123574512,  mass: 186.22, name: TRP, σ: 6.78, ε: 0.8368}\n",
    "  - {charge: 0.0, hydrophobicity: !Lambda 0.5548615312993875, mass: 113.16, name: LEU, σ: 6.18, ε: 0.8368}\n",
    "  - {charge: 0.0, hydrophobicity: !Lambda 0.5130398874425708, mass: 113.16, name: ILE, σ: 6.18, ε: 0.8368}\n",
    "  - {charge: 0.0, hydrophobicity: !Lambda 0.3469777523519372, mass: 97.12,  name: PRO, σ: 5.56, ε: 0.8368}\n",
    "  - {charge: 0.0, hydrophobicity: !Lambda 0.8906449355499866, mass: 147.18, name: PHE, σ: 6.36, ε: 0.8368}\n",
    "  - {charge: 0.0, hydrophobicity: !Lambda 0.5922529084601322, mass: 103.14, name: CYS, σ: 5.48, ε: 0.8368}\n",
    "\"\"\"\n",
    "    )\n",
    "        f.write(\n",
    "\"\"\"\n",
    "system:\n",
    "  energy:\n",
    "    nonbonded:\n",
    "      # Note that a Coulomb term is automatically added, so don't specify one here!\n",
    "      default:\n",
    "        - !AshbaughHatch {mixing: arithmetic, cutoff: 20.0}\n",
    "\"\"\"\n",
    "    )"
   ]
  },
  {
   "cell_type": "markdown",
   "id": "a782320d-83f6-41aa-8101-fd4b177b15a6",
   "metadata": {},
   "source": [
    "### Get protonation states via pdb2pqr"
   ]
  },
  {
   "cell_type": "code",
   "execution_count": 4,
   "id": "3d83cc57-8541-4599-bca2-150040e4fcf8",
   "metadata": {
    "execution": {
     "iopub.execute_input": "2025-10-02T08:33:01.042848Z",
     "iopub.status.busy": "2025-10-02T08:33:01.042558Z",
     "iopub.status.idle": "2025-10-02T08:33:01.044355Z",
     "shell.execute_reply": "2025-10-02T08:33:01.044155Z",
     "shell.execute_reply.started": "2025-10-02T08:33:01.042834Z"
    }
   },
   "outputs": [],
   "source": [
    "#PDB_id='4LZT'\n",
    "#PDB_id='7KTZ'\n",
    "#pdb_file='%s.pdb' % PDB_id"
   ]
  },
  {
   "cell_type": "code",
   "execution_count": 22,
   "id": "363b54d3-1509-4dff-8969-259ddcea994d",
   "metadata": {
    "execution": {
     "iopub.execute_input": "2025-09-30T11:24:22.857235Z",
     "iopub.status.busy": "2025-09-30T11:24:22.856806Z",
     "iopub.status.idle": "2025-09-30T11:24:26.348224Z",
     "shell.execute_reply": "2025-09-30T11:24:26.347920Z",
     "shell.execute_reply.started": "2025-09-30T11:24:22.857221Z"
    },
    "scrolled": true
   },
   "outputs": [
    {
     "name": "stderr",
     "output_type": "stream",
     "text": [
      "WARNING:PDB2PQR3.7.1:Multiple occupancies found: N in GLU A 49.\n",
      "WARNING:PDB2PQR3.7.1:Multiple occupancies found: CA in GLU A 49.\n",
      "WARNING:PDB2PQR3.7.1:Multiple occupancies found: C in GLU A 49.\n",
      "WARNING:PDB2PQR3.7.1:Multiple occupancies found: O in GLU A 49.\n",
      "WARNING:PDB2PQR3.7.1:Multiple occupancies found: CB in GLU A 49.\n",
      "WARNING:PDB2PQR3.7.1:Multiple occupancies found: CG in GLU A 49.\n",
      "WARNING:PDB2PQR3.7.1:Multiple occupancies found: CD in GLU A 49.\n",
      "WARNING:PDB2PQR3.7.1:Multiple occupancies found: OE1 in GLU A 49.\n",
      "WARNING:PDB2PQR3.7.1:Multiple occupancies found: OE2 in GLU A 49.\n",
      "WARNING:PDB2PQR3.7.1:Multiple occupancies found in GLU A 49. At least one of the instances is being ignored.\n",
      "WARNING:PDB2PQR3.7.1:Multiple occupancies found: N in SER A 113.\n",
      "WARNING:PDB2PQR3.7.1:Multiple occupancies found: CA in SER A 113.\n",
      "WARNING:PDB2PQR3.7.1:Multiple occupancies found: C in SER A 113.\n",
      "WARNING:PDB2PQR3.7.1:Multiple occupancies found: O in SER A 113.\n",
      "WARNING:PDB2PQR3.7.1:Multiple occupancies found: CB in SER A 113.\n",
      "WARNING:PDB2PQR3.7.1:Multiple occupancies found: OG in SER A 113.\n",
      "WARNING:PDB2PQR3.7.1:Multiple occupancies found in SER A 113. At least one of the instances is being ignored.\n",
      "WARNING:pdb2pqr.biomolecule:Gap in backbone detected between TYR A 146 and THR A 151!\n",
      "WARNING:propka.group:Missing atoms or failed protonation for THR 151 A (BBN) -- please check the structure\n",
      "WARNING:propka.group:Group (BBN) for  1083-   N   151-THR (A) [  29.970    5.578   12.368] N\n",
      "WARNING:propka.group:Expected 2 interaction atoms for acids, found:\n",
      "WARNING:propka.group:                 0-  H1   151-THR (A) [  30.000    4.571   12.302] H\n",
      "WARNING:propka.group:                 0-  H2   151-THR (A) [  29.013    5.879   12.484] H\n",
      "WARNING:propka.group:              1083-   N   151-THR (A) [  29.970    5.578   12.368] N\n",
      "WARNING:propka.group:Expected 2 interaction atoms for bases, found:\n",
      "WARNING:propka.group:                 0-  H1   151-THR (A) [  30.000    4.571   12.302] H\n",
      "WARNING:propka.group:                 0-  H2   151-THR (A) [  29.013    5.879   12.484] H\n",
      "WARNING:propka.group:              1083-   N   151-THR (A) [  29.970    5.578   12.368] N\n",
      "WARNING:PDB2PQR3.7.1:Ignoring 1325 header lines in output.\n",
      "WARNING:PDB2PQR3.7.1:Ignoring 15 missing lines in output.\n",
      "WARNING:PDB2PQR3.7.1:Multiple occupancies found: N in GLU A 49.\n",
      "WARNING:PDB2PQR3.7.1:Multiple occupancies found: CA in GLU A 49.\n",
      "WARNING:PDB2PQR3.7.1:Multiple occupancies found: C in GLU A 49.\n",
      "WARNING:PDB2PQR3.7.1:Multiple occupancies found: O in GLU A 49.\n",
      "WARNING:PDB2PQR3.7.1:Multiple occupancies found: CB in GLU A 49.\n",
      "WARNING:PDB2PQR3.7.1:Multiple occupancies found: CG in GLU A 49.\n",
      "WARNING:PDB2PQR3.7.1:Multiple occupancies found: CD in GLU A 49.\n",
      "WARNING:PDB2PQR3.7.1:Multiple occupancies found: OE1 in GLU A 49.\n",
      "WARNING:PDB2PQR3.7.1:Multiple occupancies found: OE2 in GLU A 49.\n",
      "WARNING:PDB2PQR3.7.1:Multiple occupancies found in GLU A 49. At least one of the instances is being ignored.\n",
      "WARNING:PDB2PQR3.7.1:Multiple occupancies found: N in SER A 113.\n",
      "WARNING:PDB2PQR3.7.1:Multiple occupancies found: CA in SER A 113.\n",
      "WARNING:PDB2PQR3.7.1:Multiple occupancies found: C in SER A 113.\n",
      "WARNING:PDB2PQR3.7.1:Multiple occupancies found: O in SER A 113.\n",
      "WARNING:PDB2PQR3.7.1:Multiple occupancies found: CB in SER A 113.\n",
      "WARNING:PDB2PQR3.7.1:Multiple occupancies found: OG in SER A 113.\n",
      "WARNING:PDB2PQR3.7.1:Multiple occupancies found in SER A 113. At least one of the instances is being ignored.\n",
      "WARNING:pdb2pqr.biomolecule:Gap in backbone detected between TYR A 146 and THR A 151!\n",
      "WARNING:propka.group:Missing atoms or failed protonation for THR 151 A (BBN) -- please check the structure\n",
      "WARNING:propka.group:Group (BBN) for  1083-   N   151-THR (A) [  29.970    5.578   12.368] N\n",
      "WARNING:propka.group:Expected 2 interaction atoms for acids, found:\n",
      "WARNING:propka.group:                 0-  H1   151-THR (A) [  30.000    4.571   12.302] H\n",
      "WARNING:propka.group:                 0-  H2   151-THR (A) [  29.013    5.879   12.484] H\n",
      "WARNING:propka.group:              1083-   N   151-THR (A) [  29.970    5.578   12.368] N\n",
      "WARNING:propka.group:Expected 2 interaction atoms for bases, found:\n",
      "WARNING:propka.group:                 0-  H1   151-THR (A) [  30.000    4.571   12.302] H\n",
      "WARNING:propka.group:                 0-  H2   151-THR (A) [  29.013    5.879   12.484] H\n",
      "WARNING:propka.group:              1083-   N   151-THR (A) [  29.970    5.578   12.368] N\n",
      "WARNING:PDB2PQR3.7.1:Ignoring 1325 header lines in output.\n",
      "WARNING:PDB2PQR3.7.1:Ignoring 15 missing lines in output.\n",
      "WARNING:PDB2PQR3.7.1:Multiple occupancies found: N in GLU A 49.\n",
      "WARNING:PDB2PQR3.7.1:Multiple occupancies found: CA in GLU A 49.\n",
      "WARNING:PDB2PQR3.7.1:Multiple occupancies found: C in GLU A 49.\n",
      "WARNING:PDB2PQR3.7.1:Multiple occupancies found: O in GLU A 49.\n",
      "WARNING:PDB2PQR3.7.1:Multiple occupancies found: CB in GLU A 49.\n",
      "WARNING:PDB2PQR3.7.1:Multiple occupancies found: CG in GLU A 49.\n",
      "WARNING:PDB2PQR3.7.1:Multiple occupancies found: CD in GLU A 49.\n",
      "WARNING:PDB2PQR3.7.1:Multiple occupancies found: OE1 in GLU A 49.\n",
      "WARNING:PDB2PQR3.7.1:Multiple occupancies found: OE2 in GLU A 49.\n",
      "WARNING:PDB2PQR3.7.1:Multiple occupancies found in GLU A 49. At least one of the instances is being ignored.\n",
      "WARNING:PDB2PQR3.7.1:Multiple occupancies found: N in SER A 113.\n",
      "WARNING:PDB2PQR3.7.1:Multiple occupancies found: CA in SER A 113.\n",
      "WARNING:PDB2PQR3.7.1:Multiple occupancies found: C in SER A 113.\n",
      "WARNING:PDB2PQR3.7.1:Multiple occupancies found: O in SER A 113.\n",
      "WARNING:PDB2PQR3.7.1:Multiple occupancies found: CB in SER A 113.\n",
      "WARNING:PDB2PQR3.7.1:Multiple occupancies found: OG in SER A 113.\n",
      "WARNING:PDB2PQR3.7.1:Multiple occupancies found in SER A 113. At least one of the instances is being ignored.\n",
      "WARNING:pdb2pqr.biomolecule:Gap in backbone detected between TYR A 146 and THR A 151!\n",
      "WARNING:propka.group:Missing atoms or failed protonation for THR 151 A (BBN) -- please check the structure\n",
      "WARNING:propka.group:Group (BBN) for  1083-   N   151-THR (A) [  29.970    5.578   12.368] N\n",
      "WARNING:propka.group:Expected 2 interaction atoms for acids, found:\n",
      "WARNING:propka.group:                 0-  H1   151-THR (A) [  30.000    4.571   12.302] H\n",
      "WARNING:propka.group:                 0-  H2   151-THR (A) [  29.013    5.879   12.484] H\n",
      "WARNING:propka.group:              1083-   N   151-THR (A) [  29.970    5.578   12.368] N\n",
      "WARNING:propka.group:Expected 2 interaction atoms for bases, found:\n",
      "WARNING:propka.group:                 0-  H1   151-THR (A) [  30.000    4.571   12.302] H\n",
      "WARNING:propka.group:                 0-  H2   151-THR (A) [  29.013    5.879   12.484] H\n",
      "WARNING:propka.group:              1083-   N   151-THR (A) [  29.970    5.578   12.368] N\n",
      "WARNING:PDB2PQR3.7.1:Ignoring 1325 header lines in output.\n",
      "WARNING:PDB2PQR3.7.1:Ignoring 15 missing lines in output.\n"
     ]
    }
   ],
   "source": [
    "%%capture --no-stdout\n",
    "\n",
    "for pH in [5.0,7.0,9.0]:\n",
    "\n",
    "    pqr_file='%s_pH%.2f.pqr' % (PDB_id,pH)\n",
    "\n",
    "    pqr=run_pdb2pqr([pdb_file,pqr_file,\n",
    "                 '--keep-chain',\n",
    "                 '--titration-state-method=propka',\n",
    "                 '--with-ph=%.2f' % pH,\n",
    "                 '--ff=PARSE',\n",
    "                 '--drop-water',\n",
    "                 '-q',\n",
    "                 '--whitespace'])"
   ]
  },
  {
   "cell_type": "markdown",
   "id": "be05b18f-bd87-405e-ac89-ffd4b1fcd36a",
   "metadata": {},
   "source": [
    "### Convert PQR to XYZ"
   ]
  },
  {
   "cell_type": "code",
   "execution_count": 7,
   "id": "79ed99f9-cc63-4d4a-909c-025b564daae2",
   "metadata": {
    "execution": {
     "iopub.execute_input": "2025-10-02T08:34:02.548987Z",
     "iopub.status.busy": "2025-10-02T08:34:02.548575Z",
     "iopub.status.idle": "2025-10-02T08:34:02.553893Z",
     "shell.execute_reply": "2025-10-02T08:34:02.553628Z",
     "shell.execute_reply.started": "2025-10-02T08:34:02.548975Z"
    }
   },
   "outputs": [],
   "source": [
    "def convert_pqr(pqr_file: str, output_prefix: str, chains=None):\n",
    "    \"\"\"Convert PQR to coarse grained XYZ file; one bead per amino acid, adding sidechain beads for ionizable amino acid\"\"\"\n",
    "\n",
    "    pqr=mda.Universe(pqr_file)\n",
    "    pqr.atoms.translate(-pqr.atoms.center_of_mass()) # moves COM to [0,0,0]\n",
    "\n",
    "    # keep only protein atoms and optionally selected chains\n",
    "    # omit hydrogen atoms\n",
    "    if chains: traj=pqr.select_atoms('protein and not name H* and segid %s' % chains)\n",
    "    else: traj=pqr.select_atoms('protein and not name H*')\n",
    "\n",
    "    residues = []\n",
    "    chrdict = {}\n",
    "    \n",
    "    for res in traj.residues:\n",
    "\n",
    "        name = res.resname\n",
    "        com = res.atoms.center_of_mass()\n",
    "\n",
    "        residues.append(dict(name=name,cm=com))\n",
    "\n",
    "        # Map residue and atom names to sidechain bead names\n",
    "        sidechain_map = {\n",
    "            \"ASP\": (\"Dsc\", \"OD1\"),\n",
    "            \"GLU\": (\"Esc\", \"OE1\"),\n",
    "            \"TYR\": (\"Tsc\", \"OH\"),\n",
    "            \"ARG\": (\"Rsc\", \"CZ\"),\n",
    "            \"LYS\": (\"Ksc\", \"NZ\"),\n",
    "            \"HIS\": (\"Hsc\", \"NE2\"),\n",
    "            \"CYS\": (\"Csc\", \"SG\"),\n",
    "        }\n",
    "\n",
    "        chr_=0.0\n",
    "        for atom in res.atoms: chr_+=np.float32(atom.charge)\n",
    "\n",
    "        #chr_ = res.atoms.total_charge()\n",
    "\n",
    "        # consider only charges above some cutoff\n",
    "        if abs(chr_) > 1e-3:\n",
    "\n",
    "            bead_name, atom_name = sidechain_map.get(name,(None,None))\n",
    "            \n",
    "            if bead_name:\n",
    "\n",
    "                bn = '%s%s%i' % (bead_name,res.segid,res.resid)\n",
    "                residues.append(dict(name=bn, cm=traj.select_atoms('resid %i and name %s' % (res.resid,atom_name)).positions[0]))\n",
    "\n",
    "            else:\n",
    "\n",
    "                bn = 'TRC%s%i' % (res.segid,res.resid)\n",
    "                residues.append(dict(name=bn, cm=res.atoms.center_of_charge())) # we have a terminal charge\n",
    "\n",
    "            chrdict[bn] = chr_\n",
    "\n",
    "    with open(output_prefix+'.xyz', \"w\") as f:\n",
    "        \n",
    "        f.write(f\"{len(residues)}\\n\")\n",
    "        f.write(\n",
    "            f\"Converted with propka pqr2xyz.py with {pdb_file} (https://github.com/mlund/pdb2xyz)\\n\"\n",
    "        )\n",
    "        \n",
    "        for i in residues:\n",
    "            \n",
    "            f.write(f\"{i['name']} {i['cm'][0]:.3f} {i['cm'][1]:.3f} {i['cm'][2]:.3f}\\n\")\n",
    "        logging.info(\n",
    "            f\"Converted {pdb_file} -> {output_prefix+'.xyz'} with {len(residues)} residues.\"\n",
    "        )\n",
    "\n",
    "    with open(output_prefix+'.yaml', \"w\") as f:\n",
    "        f.write(\n",
    "\"\"\"comment: \"Calvados 3 coarse grained amino acid model for use with Duello / Faunus\"\n",
    "pH: %.2f\n",
    "version: 0.1.0\n",
    "atoms:\"\"\" % pH\n",
    "    )\n",
    "        for key in chrdict.keys(): f.write(\n",
    "\"\"\"\n",
    "  - {charge: %.3f, hydrophobicity: !Lambda 0, mass: 0, name: %s, σ: 2.0, ε: 0.8368}\"\"\" % (chrdict[key],key)\n",
    "        )\n",
    "        f.write(\n",
    "\"\"\"\n",
    "  - {charge: 0.0, hydrophobicity: !Lambda 0.7407902764839954, mass: 156.19, name: ARG, σ: 6.56, ε: 0.8368}\n",
    "  - {charge: 0.0, hydrophobicity: !Lambda 0.092587557536158,  mass: 115.09, name: ASP, σ: 5.58, ε: 0.8368}\n",
    "  - {charge: 0.0, hydrophobicity: !Lambda 0.000249590539426,  mass: 129.11, name: GLU, σ: 5.92, ε: 0.8368}\n",
    "  - {charge: 0.0, hydrophobicity: !Lambda 0.1380602542039267, mass: 128.17, name: LYS, σ: 6.36, ε: 0.8368}\n",
    "  - {charge: 0.0, hydrophobicity: !Lambda 0.4087176216525476, mass: 137.14, name: HIS, σ: 6.08, ε: 0.8368}\n",
    "  - {charge: 0.0, hydrophobicity: !Lambda 0.3706962163690402, mass: 114.1,  name: ASN, σ: 5.68, ε: 0.8368}\n",
    "  - {charge: 0.0, hydrophobicity: !Lambda 0.3143449791669133, mass: 128.13, name: GLN, σ: 6.02, ε: 0.8368}\n",
    "  - {charge: 0.0, hydrophobicity: !Lambda 0.4473142572693176, mass: 87.08,  name: SER, σ: 5.18, ε: 0.8368}\n",
    "  - {charge: 0.0, hydrophobicity: !Lambda 0.7538308115197386, mass: 57.05,  name: GLY, σ: 4.5,  ε: 0.8368}\n",
    "  - {charge: 0.0, hydrophobicity: !Lambda 0.2672387936544146, mass: 101.11, name: THR, σ: 5.62, ε: 0.8368}\n",
    "  - {charge: 0.0, hydrophobicity: !Lambda 0.3377244362031627, mass: 71.07,  name: ALA, σ: 5.04, ε: 0.8368}\n",
    "  - {charge: 0.0, hydrophobicity: !Lambda 0.5170874160398543, mass: 131.2,  name: MET, σ: 6.18, ε: 0.8368}\n",
    "  - {charge: 0.0, hydrophobicity: !Lambda 0.950628687301107,  mass: 163.18, name: TYR, σ: 6.46, ε: 0.8368}\n",
    "  - {charge: 0.0, hydrophobicity: !Lambda 0.2936174211771383, mass: 99.13,  name: VAL, σ: 5.86, ε: 0.8368}\n",
    "  - {charge: 0.0, hydrophobicity: !Lambda 1.033450123574512,  mass: 186.22, name: TRP, σ: 6.78, ε: 0.8368}\n",
    "  - {charge: 0.0, hydrophobicity: !Lambda 0.5548615312993875, mass: 113.16, name: LEU, σ: 6.18, ε: 0.8368}\n",
    "  - {charge: 0.0, hydrophobicity: !Lambda 0.5130398874425708, mass: 113.16, name: ILE, σ: 6.18, ε: 0.8368}\n",
    "  - {charge: 0.0, hydrophobicity: !Lambda 0.3469777523519372, mass: 97.12,  name: PRO, σ: 5.56, ε: 0.8368}\n",
    "  - {charge: 0.0, hydrophobicity: !Lambda 0.8906449355499866, mass: 147.18, name: PHE, σ: 6.36, ε: 0.8368}\n",
    "  - {charge: 0.0, hydrophobicity: !Lambda 0.5922529084601322, mass: 103.14, name: CYS, σ: 5.48, ε: 0.8368}\n",
    "\"\"\"\n",
    "    )\n",
    "        f.write(\n",
    "\"\"\"\n",
    "system:\n",
    "  energy:\n",
    "    nonbonded:\n",
    "      # Note that a Coulomb term is automatically added, so don't specify one here!\n",
    "      default:\n",
    "        - !AshbaughHatch {mixing: arithmetic, cutoff: 20.0}\n",
    "\"\"\"\n",
    "    )\n",
    "\n",
    "    return True"
   ]
  },
  {
   "cell_type": "code",
   "execution_count": 8,
   "id": "9f9267bb-0643-49a1-9dd6-8822a63434e0",
   "metadata": {
    "execution": {
     "iopub.execute_input": "2025-10-02T08:34:05.434864Z",
     "iopub.status.busy": "2025-10-02T08:34:05.434614Z",
     "iopub.status.idle": "2025-10-02T08:34:05.538450Z",
     "shell.execute_reply": "2025-10-02T08:34:05.538181Z",
     "shell.execute_reply.started": "2025-10-02T08:34:05.434853Z"
    }
   },
   "outputs": [
    {
     "name": "stdout",
     "output_type": "stream",
     "text": [
      "Success!\n",
      "Success!\n",
      "Success!\n"
     ]
    }
   ],
   "source": [
    "#PQR_id='4LZT'\n",
    "PQR_id='7KTZ'\n",
    "\n",
    "for pH in [5.0,7.0,9.0]:\n",
    "\n",
    "    pqr_file='%s_pH%.2f.pqr' % (PQR_id,pH)\n",
    "    out_file='%s_pqr_pH%.2f' % (PQR_id,pH)\n",
    "\n",
    "    if convert_pqr(pqr_file,out_file): print(\"Success!\")"
   ]
  },
  {
   "cell_type": "markdown",
   "id": "edbb160e-a251-4b25-944b-c9515a7b389b",
   "metadata": {},
   "source": [
    "## OLD"
   ]
  },
  {
   "cell_type": "code",
   "execution_count": 107,
   "id": "33b3eb43-598b-4144-bada-49119baaf791",
   "metadata": {
    "execution": {
     "iopub.execute_input": "2025-09-16T12:44:39.506589Z",
     "iopub.status.busy": "2025-09-16T12:44:39.505908Z",
     "iopub.status.idle": "2025-09-16T12:44:39.516348Z",
     "shell.execute_reply": "2025-09-16T12:44:39.515097Z",
     "shell.execute_reply.started": "2025-09-16T12:44:39.506533Z"
    }
   },
   "outputs": [],
   "source": [
    "def calvados_template():\n",
    "    return \"\"\"\n",
    "{%- set f = 1.0 - sidechains -%}\n",
    "{%- set zCTR = - 10**(pH-3.16) / (1 + 10**(pH-3.16)) -%}\n",
    "{%- set zASP = - 10**(pH-3.43) / (1 + 10**(pH-3.43)) -%}\n",
    "{%- set zGLU = - 10**(pH-4.14) / (1 + 10**(pH-4.14)) -%}\n",
    "{%- set zCYS = 10**(pH-6.25) / (1 + 10**(pH-6.25)) -%}\n",
    "{%- set zHIS = 1 - 10**(pH-6.45) / (1 + 10**(pH-6.45)) -%}\n",
    "{%- set zNTR = 1 - 10**(pH-7.64) / (1 + 10**(pH-7.64)) -%}\n",
    "{%- set zLYS = 1 - 10**(pH-10.68) / (1 + 10**(pH-10.68)) -%}\n",
    "{%- set zARG = 1 - 10**(pH-12.5) / (1 + 10**(pH-12.5)) -%}\n",
    "comment: \"Calvados 3 coarse grained amino acid model for use with Duello / Faunus\"\n",
    "pH: {{ pH }}\n",
    "sidechains: {{ sidechains }}\n",
    "version: 0.1.0\n",
    "atoms:\n",
    "  - {charge: {{ \"%.2f\" % zCTR }}, hydrophobicity: !Lambda 0, mass: 0, name: CTR, σ: 2.0, ε: 0.8368}\n",
    "  - {charge: {{ \"%.2f\" % zNTR }}, hydrophobicity: !Lambda 0, mass: 0, name: NTR, σ: 2.0, ε: 0.8368}\n",
    "{%- if sidechains %}\n",
    "  - {charge: {{ \"%.2f\" % zGLU }}, hydrophobicity: !Lambda 0, mass: 0, name: Esc, σ: 2.0, ε: 0.8368}\n",
    "  - {charge: {{ \"%.2f\" % zASP }}, hydrophobicity: !Lambda 0, mass: 0, name: Dsc, σ: 2.0, ε: 0.8368}\n",
    "  - {charge: {{ \"%.2f\" % zHIS }}, hydrophobicity: !Lambda 0, mass: 0, name: Hsc, σ: 2.0, ε: 0.8368}\n",
    "  - {charge: {{ \"%.2f\" % zARG }}, hydrophobicity: !Lambda 0, mass: 0, name: Rsc, σ: 2.0, ε: 0.8368}\n",
    "  - {charge: {{ \"%.2f\" % zLYS }}, hydrophobicity: !Lambda 0, mass: 0, name: Ksc, σ: 2.0, ε: 0.8368}\n",
    "  - {charge: {{ \"%.2f\" % zCYS }}, hydrophobicity: !Lambda 0, mass: 0, name: Csc, σ: 2.0, ε: 0.8368}\n",
    "{%- endif %}\n",
    "  - {charge: {{ \"%.2f\" % (zARG * f) }}, hydrophobicity: !Lambda 0.7407902764839954, mass: 156.19, name: ARG, σ: 6.56, ε: 0.8368, custom: {alpha: {{ f * alpha }}}}\n",
    "  - {charge: {{ \"%.2f\" % (zASP * f) }}, hydrophobicity: !Lambda 0.092587557536158,  mass: 115.09, name: ASP, σ: 5.58, ε: 0.8368, custom: {alpha: {{ f * alpha }}}}\n",
    "  - {charge: {{ \"%.2f\" % (zGLU * f) }}, hydrophobicity: !Lambda 0.000249590539426,  mass: 129.11, name: GLU, σ: 5.92, ε: 0.8368, custom: {alpha: {{ f * alpha }}}}\n",
    "  - {charge: {{ \"%.2f\" % (zLYS * f) }}, hydrophobicity: !Lambda 0.1380602542039267, mass: 128.17, name: LYS, σ: 6.36, ε: 0.8368, custom: {alpha: {{ f * alpha }}}}\n",
    "  - {charge: {{ \"%.2f\" % (zHIS * f) }}, hydrophobicity: !Lambda 0.4087176216525476, mass: 137.14, name: HIS, σ: 6.08, ε: 0.8368, custom: {alpha: {{ f * alpha }}}}\n",
    "  - {charge: 0.0, hydrophobicity: !Lambda 0.3706962163690402, mass: 114.1,  name: ASN, σ: 5.68, ε: 0.8368}\n",
    "  - {charge: 0.0, hydrophobicity: !Lambda 0.3143449791669133, mass: 128.13, name: GLN, σ: 6.02, ε: 0.8368}\n",
    "  - {charge: 0.0, hydrophobicity: !Lambda 0.4473142572693176, mass: 87.08,  name: SER, σ: 5.18, ε: 0.8368}\n",
    "  - {charge: 0.0, hydrophobicity: !Lambda 0.7538308115197386, mass: 57.05,  name: GLY, σ: 4.5,  ε: 0.8368}\n",
    "  - {charge: 0.0, hydrophobicity: !Lambda 0.2672387936544146, mass: 101.11, name: THR, σ: 5.62, ε: 0.8368}\n",
    "  - {charge: 0.0, hydrophobicity: !Lambda 0.3377244362031627, mass: 71.07,  name: ALA, σ: 5.04, ε: 0.8368}\n",
    "  - {charge: 0.0, hydrophobicity: !Lambda 0.5170874160398543, mass: 131.2,  name: MET, σ: 6.18, ε: 0.8368}\n",
    "  - {charge: 0.0, hydrophobicity: !Lambda 0.950628687301107,  mass: 163.18, name: TYR, σ: 6.46, ε: 0.8368}\n",
    "  - {charge: 0.0, hydrophobicity: !Lambda 0.2936174211771383, mass: 99.13,  name: VAL, σ: 5.86, ε: 0.8368}\n",
    "  - {charge: 0.0, hydrophobicity: !Lambda 1.033450123574512,  mass: 186.22, name: TRP, σ: 6.78, ε: 0.8368}\n",
    "  - {charge: 0.0, hydrophobicity: !Lambda 0.5548615312993875, mass: 113.16, name: LEU, σ: 6.18, ε: 0.8368}\n",
    "  - {charge: 0.0, hydrophobicity: !Lambda 0.5130398874425708, mass: 113.16, name: ILE, σ: 6.18, ε: 0.8368}\n",
    "  - {charge: 0.0, hydrophobicity: !Lambda 0.3469777523519372, mass: 97.12,  name: PRO, σ: 5.56, ε: 0.8368}\n",
    "  - {charge: 0.0, hydrophobicity: !Lambda 0.8906449355499866, mass: 147.18, name: PHE, σ: 6.36, ε: 0.8368}\n",
    "  - {charge: {{ \"%.2f\" % (zCYS * f) }}, hydrophobicity: !Lambda 0.5922529084601322, mass: 103.14, name: CYS, σ: 5.48, ε: 0.8368, custom: {alpha: {{ f * alpha }}}}\n",
    "  - {charge: 0.0, hydrophobicity: !Lambda 0.5922529084601322, mass: 103.14, name: CSS, σ: 5.48, ε: 0.8368}\n",
    "\n",
    "system:\n",
    "  energy:\n",
    "    nonbonded:\n",
    "      # Note that a Coulomb term is automatically added, so don't specify one here!\n",
    "      default:\n",
    "        - !AshbaughHatch {mixing: arithmetic, cutoff: 20.0}\n",
    "\"\"\""
   ]
  },
  {
   "cell_type": "code",
   "execution_count": null,
   "id": "ddc970c0-c340-4b00-973e-b0ef676a4dad",
   "metadata": {},
   "outputs": [],
   "source": []
  }
 ],
 "metadata": {
  "kernelspec": {
   "display_name": "Python 3 (ipykernel)",
   "language": "python",
   "name": "python3"
  },
  "language_info": {
   "codemirror_mode": {
    "name": "ipython",
    "version": 3
   },
   "file_extension": ".py",
   "mimetype": "text/x-python",
   "name": "python",
   "nbconvert_exporter": "python",
   "pygments_lexer": "ipython3",
   "version": "3.12.3"
  }
 },
 "nbformat": 4,
 "nbformat_minor": 5
}

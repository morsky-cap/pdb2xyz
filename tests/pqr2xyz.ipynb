{
 "cells": [
  {
   "cell_type": "code",
   "execution_count": 1,
   "id": "585175e9-db70-4449-9e12-20f9b66875e3",
   "metadata": {
    "execution": {
     "iopub.execute_input": "2025-09-26T19:52:48.386013Z",
     "iopub.status.busy": "2025-09-26T19:52:48.385321Z",
     "iopub.status.idle": "2025-09-26T19:52:49.148686Z",
     "shell.execute_reply": "2025-09-26T19:52:49.148402Z",
     "shell.execute_reply.started": "2025-09-26T19:52:48.385960Z"
    }
   },
   "outputs": [],
   "source": [
    "import argparse\n",
    "import jinja2\n",
    "import logging\n",
    "import MDAnalysis as mda\n",
    "import numpy as np\n",
    "from pdb2pqr import run_pdb2pqr\n",
    "import propka.run as pkrun\n",
    "import itertools\n",
    "import os\n",
    "import matplotlib.pyplot as plt\n",
    "\n",
    "%matplotlib inline\n",
    "plt.rc('text', usetex=True)\n",
    "plt.rc('font', size=12, family='serif')\n",
    "plt.rcParams['text.latex.preamble'] = r'\\usepackage{amssymb}\\usepackage{amsmath}'\n",
    "plt.rcParams['figure.dpi'] = 300\n",
    "\n",
    "#from math import *\n",
    "#import ipywidgets as widgets\n",
    "#from IPython.display import display"
   ]
  },
  {
   "cell_type": "code",
   "execution_count": 2,
   "id": "06b349d1-bbaf-4bc2-9c88-144a701c9510",
   "metadata": {
    "execution": {
     "iopub.execute_input": "2025-09-26T19:52:49.722984Z",
     "iopub.status.busy": "2025-09-26T19:52:49.722119Z",
     "iopub.status.idle": "2025-09-26T19:52:49.728445Z",
     "shell.execute_reply": "2025-09-26T19:52:49.727354Z",
     "shell.execute_reply.started": "2025-09-26T19:52:49.722936Z"
    }
   },
   "outputs": [],
   "source": [
    "os.chdir('/Users/anze/Git/pdb2xyz/tests')"
   ]
  },
  {
   "cell_type": "markdown",
   "id": "8e7ffeaa-82dc-4e21-b5a1-2b9d96052bb7",
   "metadata": {},
   "source": [
    "### Get protonation states via propka"
   ]
  },
  {
   "cell_type": "code",
   "execution_count": 3,
   "id": "ac684e03-3223-4c45-baf5-0359738c3ca5",
   "metadata": {
    "execution": {
     "iopub.execute_input": "2025-09-26T19:52:53.405489Z",
     "iopub.status.busy": "2025-09-26T19:52:53.404746Z",
     "iopub.status.idle": "2025-09-26T19:52:53.410775Z",
     "shell.execute_reply": "2025-09-26T19:52:53.409501Z",
     "shell.execute_reply.started": "2025-09-26T19:52:53.405425Z"
    }
   },
   "outputs": [],
   "source": [
    "PDB_id='4F5S_A'\n",
    "pdb_file='%s.pdb' % PDB_id"
   ]
  },
  {
   "cell_type": "code",
   "execution_count": 4,
   "id": "0b5b27b6-0a1e-4e6a-9d03-c9389a7e0591",
   "metadata": {
    "execution": {
     "iopub.execute_input": "2025-09-26T19:52:54.666826Z",
     "iopub.status.busy": "2025-09-26T19:52:54.666174Z",
     "iopub.status.idle": "2025-09-26T19:52:56.924357Z",
     "shell.execute_reply": "2025-09-26T19:52:56.924090Z",
     "shell.execute_reply.started": "2025-09-26T19:52:54.666775Z"
    }
   },
   "outputs": [
    {
     "data": {
      "text/plain": [
       "<propka.molecular_container.MolecularContainer at 0x17f14bd60>"
      ]
     },
     "execution_count": 4,
     "metadata": {},
     "output_type": "execute_result"
    }
   ],
   "source": [
    "pkrun.single(pdb_file)"
   ]
  },
  {
   "cell_type": "code",
   "execution_count": 5,
   "id": "69111eca-0820-422f-8174-6b9f75400cf4",
   "metadata": {
    "execution": {
     "iopub.execute_input": "2025-09-26T19:52:59.275786Z",
     "iopub.status.busy": "2025-09-26T19:52:59.275140Z",
     "iopub.status.idle": "2025-09-26T19:52:59.286380Z",
     "shell.execute_reply": "2025-09-26T19:52:59.285652Z",
     "shell.execute_reply.started": "2025-09-26T19:52:59.275738Z"
    }
   },
   "outputs": [],
   "source": [
    "# obtain a list of partial charges based on propka-determined pKa values\n",
    "def partial_charges(propka_file,pH):\n",
    "\n",
    "    with open(propka_file) as fp:\n",
    "        result = list(itertools.takewhile(lambda x: '---' not in x, \n",
    "            itertools.dropwhile(lambda x: 'Group' not in x, fp)))\n",
    "\n",
    "    result=result[1:]\n",
    "    result=np.array([line.split()[:-1] for line in result])\n",
    "\n",
    "    negative=['C-','ASP','GLU','TYR','CYS']\n",
    "    positive=['N+','ARG','LYS','HIS']\n",
    "\n",
    "    pqr={}\n",
    "\n",
    "    for i,entry in enumerate(result):\n",
    "\n",
    "        AA=str(entry[0])\n",
    "        resid=int(entry[1])\n",
    "        segid=str(entry[2])\n",
    "        pKa=float(entry[-1])\n",
    "\n",
    "        if AA in negative: pqr[(AA,resid,segid)] = - 10**(pH-pKa) / (1 + 10**(pH-pKa)) #pqr[i,-1] = '%.6f' % (- 10**(pH-pKa) / (1 + 10**(pH-pKa)))\n",
    "        elif AA in positive: pqr[(AA,resid,segid)] = 1.0 - 10**(pH-pKa) / (1 + 10**(pH-pKa)) #pqr[i,-1] = '%.6f' % (1.0 - 10**(pH-pKa) / (1 + 10**(pH-pKa)))\n",
    "        else: pqr[(AA,resid,segid)] = 0.0 #pqr[i,-1] = 0.0\n",
    "\n",
    "    return pqr"
   ]
  },
  {
   "cell_type": "code",
   "execution_count": 13,
   "id": "a54e6739-4346-4336-9f22-4b440157634d",
   "metadata": {
    "execution": {
     "iopub.execute_input": "2025-09-26T19:54:51.858366Z",
     "iopub.status.busy": "2025-09-26T19:54:51.857722Z",
     "iopub.status.idle": "2025-09-26T19:54:51.868553Z",
     "shell.execute_reply": "2025-09-26T19:54:51.867700Z",
     "shell.execute_reply.started": "2025-09-26T19:54:51.858305Z"
    }
   },
   "outputs": [
    {
     "name": "stdout",
     "output_type": "stream",
     "text": [
      "\n",
      "Total charge on chain A at pH = 7.20 is Q = -13.07\n"
     ]
    }
   ],
   "source": [
    "pka_file='%s.pka' % PDB_id\n",
    "pH=7.2\n",
    "\n",
    "pcr=partial_charges(pka_file,pH)\n",
    "\n",
    "tc=np.sum([charge for (AA, resid, segid), charge in pcr.items() if segid in ['A']])\n",
    "\n",
    "print('\\nTotal charge on chain A at pH = %.2f is Q = %.2f' % (pH,tc))"
   ]
  },
  {
   "cell_type": "markdown",
   "id": "79f02e99-7c09-413e-924a-8e66e136375e",
   "metadata": {},
   "source": [
    "### Convert to XYZ based on propka-determined pKa"
   ]
  },
  {
   "cell_type": "code",
   "execution_count": 7,
   "id": "090f8a9a-9eef-483d-8085-ed636e69cf0e",
   "metadata": {
    "execution": {
     "iopub.execute_input": "2025-09-26T19:53:04.849524Z",
     "iopub.status.busy": "2025-09-26T19:53:04.848857Z",
     "iopub.status.idle": "2025-09-26T19:53:04.865777Z",
     "shell.execute_reply": "2025-09-26T19:53:04.865081Z",
     "shell.execute_reply.started": "2025-09-26T19:53:04.849471Z"
    }
   },
   "outputs": [],
   "source": [
    "# chains is a list of identifiers\n",
    "def convert_propka(pdb_file: str, propka_file: str, output_prefix: str, pH=7.0, chains=None):\n",
    "    \"\"\"Convert propka-parsed PDB to coarse grained XYZ file; one bead per amino acid, adding sidechain beads for ionizable amino acid\"\"\"\n",
    "\n",
    "    pdb=mda.Universe(pdb_file)\n",
    "    pdb.atoms.translate(-pdb.atoms.center_of_mass()) # moves COM to [0,0,0]\n",
    "\n",
    "    # keep only protein atoms and optionally selected chains\n",
    "    # omit hydrogen atoms\n",
    "    if chains: traj=pdb.select_atoms('protein and not name H* and segid %s' % ' '.join(chains))\n",
    "    else: traj=pdb.select_atoms('protein and not name H*')\n",
    "\n",
    "    # load partial charges\n",
    "    pcr=partial_charges(propka_file,pH)\n",
    "\n",
    "    residues = []\n",
    "    chrdict = {}\n",
    "    \n",
    "    for res in traj.residues:\n",
    "\n",
    "        name = res.resname\n",
    "        com = res.atoms.center_of_mass()\n",
    "\n",
    "        residues.append(dict(name=name,cm=com))\n",
    "\n",
    "        # Map residue and atom names to sidechain bead names\n",
    "        sidechain_map = {\n",
    "            \"ASP\": (\"Dsc\", \"OD1\"),\n",
    "            \"GLU\": (\"Esc\", \"OE1\"),\n",
    "            \"TYR\": (\"Tsc\", \"OH\"),\n",
    "            \"ARG\": (\"Rsc\", \"CZ\"),\n",
    "            \"LYS\": (\"Ksc\", \"NZ\"),\n",
    "            \"HIS\": (\"Hsc\", \"NE2\"),\n",
    "            \"CYS\": (\"Csc\", \"SG\"),\n",
    "        }\n",
    "\n",
    "        chr_=pcr.get((name,res.resid,res.segid),0.0)\n",
    "\n",
    "        # consider only charges above some cutoff\n",
    "        if abs(chr_) > 1e-3:\n",
    "\n",
    "            bead_name, atom_name = sidechain_map.get(name,(None,None))\n",
    "            \n",
    "            if bead_name:\n",
    "\n",
    "                bn = '%s%i%s' % (bead_name,res.resid,res.segid)\n",
    "                residues.append(dict(name=bn, cm=traj.select_atoms('resid %i and name %s' % (res.resid,atom_name)).positions[0]))\n",
    "\n",
    "            else:\n",
    "\n",
    "                bn = 'TRC%i%s' % (res.resid,res.segid)\n",
    "                residues.append(dict(name=bn, cm=res.atoms.center_of_charge())) # we have a terminal charge\n",
    "\n",
    "            chrdict[bn] = chr_\n",
    "\n",
    "    with open(output_prefix+'.xyz', \"w\") as f:\n",
    "        \n",
    "        f.write(f\"{len(residues)}\\n\")\n",
    "        f.write(\n",
    "            f\"Converted with propka pqr2xyz.py with {pdb_file} (https://github.com/mlund/pdb2xyz)\\n\"\n",
    "        )\n",
    "        \n",
    "        for i in residues:\n",
    "            \n",
    "            f.write(f\"{i['name']} {i['cm'][0]:.3f} {i['cm'][1]:.3f} {i['cm'][2]:.3f}\\n\")\n",
    "        logging.info(\n",
    "            f\"Converted {pdb_file} -> {output_prefix+'.xyz'} with {len(residues)} residues.\"\n",
    "        )\n",
    "\n",
    "    with open(output_prefix+'.yaml', \"w\") as f:\n",
    "        f.write(\n",
    "\"\"\"comment: \"Calvados 3 coarse grained amino acid model for use with Duello / Faunus\"\n",
    "pH: %.2f\n",
    "version: 0.1.0\n",
    "atoms:\"\"\" % pH\n",
    "    )\n",
    "        for key in chrdict.keys(): f.write(\n",
    "\"\"\"\n",
    "  - {charge: %.3f, hydrophobicity: !Lambda 0, mass: 0, name: %s, σ: 2.0, ε: 0.8368}\"\"\" % (chrdict[key],key)\n",
    "        )\n",
    "        f.write(\n",
    "\"\"\"\n",
    "  - {charge: 0.0, hydrophobicity: !Lambda 0.7407902764839954, mass: 156.19, name: ARG, σ: 6.56, ε: 0.8368}\n",
    "  - {charge: 0.0, hydrophobicity: !Lambda 0.092587557536158,  mass: 115.09, name: ASP, σ: 5.58, ε: 0.8368}\n",
    "  - {charge: 0.0, hydrophobicity: !Lambda 0.000249590539426,  mass: 129.11, name: GLU, σ: 5.92, ε: 0.8368}\n",
    "  - {charge: 0.0, hydrophobicity: !Lambda 0.1380602542039267, mass: 128.17, name: LYS, σ: 6.36, ε: 0.8368}\n",
    "  - {charge: 0.0, hydrophobicity: !Lambda 0.4087176216525476, mass: 137.14, name: HIS, σ: 6.08, ε: 0.8368}\n",
    "  - {charge: 0.0, hydrophobicity: !Lambda 0.3706962163690402, mass: 114.1,  name: ASN, σ: 5.68, ε: 0.8368}\n",
    "  - {charge: 0.0, hydrophobicity: !Lambda 0.3143449791669133, mass: 128.13, name: GLN, σ: 6.02, ε: 0.8368}\n",
    "  - {charge: 0.0, hydrophobicity: !Lambda 0.4473142572693176, mass: 87.08,  name: SER, σ: 5.18, ε: 0.8368}\n",
    "  - {charge: 0.0, hydrophobicity: !Lambda 0.7538308115197386, mass: 57.05,  name: GLY, σ: 4.5,  ε: 0.8368}\n",
    "  - {charge: 0.0, hydrophobicity: !Lambda 0.2672387936544146, mass: 101.11, name: THR, σ: 5.62, ε: 0.8368}\n",
    "  - {charge: 0.0, hydrophobicity: !Lambda 0.3377244362031627, mass: 71.07,  name: ALA, σ: 5.04, ε: 0.8368}\n",
    "  - {charge: 0.0, hydrophobicity: !Lambda 0.5170874160398543, mass: 131.2,  name: MET, σ: 6.18, ε: 0.8368}\n",
    "  - {charge: 0.0, hydrophobicity: !Lambda 0.950628687301107,  mass: 163.18, name: TYR, σ: 6.46, ε: 0.8368}\n",
    "  - {charge: 0.0, hydrophobicity: !Lambda 0.2936174211771383, mass: 99.13,  name: VAL, σ: 5.86, ε: 0.8368}\n",
    "  - {charge: 0.0, hydrophobicity: !Lambda 1.033450123574512,  mass: 186.22, name: TRP, σ: 6.78, ε: 0.8368}\n",
    "  - {charge: 0.0, hydrophobicity: !Lambda 0.5548615312993875, mass: 113.16, name: LEU, σ: 6.18, ε: 0.8368}\n",
    "  - {charge: 0.0, hydrophobicity: !Lambda 0.5130398874425708, mass: 113.16, name: ILE, σ: 6.18, ε: 0.8368}\n",
    "  - {charge: 0.0, hydrophobicity: !Lambda 0.3469777523519372, mass: 97.12,  name: PRO, σ: 5.56, ε: 0.8368}\n",
    "  - {charge: 0.0, hydrophobicity: !Lambda 0.8906449355499866, mass: 147.18, name: PHE, σ: 6.36, ε: 0.8368}\n",
    "  - {charge: 0.0, hydrophobicity: !Lambda 0.5922529084601322, mass: 103.14, name: CYS, σ: 5.48, ε: 0.8368}\n",
    "\"\"\"\n",
    "    )\n",
    "        f.write(\n",
    "\"\"\"\n",
    "system:\n",
    "  energy:\n",
    "    nonbonded:\n",
    "      # Note that a Coulomb term is automatically added, so don't specify one here!\n",
    "      default:\n",
    "        - !AshbaughHatch {mixing: arithmetic, cutoff: 20.0}\n",
    "\"\"\"\n",
    "    )\n",
    "\n",
    "    return True"
   ]
  },
  {
   "cell_type": "code",
   "execution_count": 14,
   "id": "9f75b73d-4a4c-4c05-ae23-f99846dc5790",
   "metadata": {
    "execution": {
     "iopub.execute_input": "2025-09-26T19:55:06.803958Z",
     "iopub.status.busy": "2025-09-26T19:55:06.803316Z",
     "iopub.status.idle": "2025-09-26T19:55:06.941433Z",
     "shell.execute_reply": "2025-09-26T19:55:06.941120Z",
     "shell.execute_reply.started": "2025-09-26T19:55:06.803911Z"
    }
   },
   "outputs": [
    {
     "name": "stdout",
     "output_type": "stream",
     "text": [
      "Success!\n",
      "Success!\n"
     ]
    }
   ],
   "source": [
    "pH=7.2\n",
    "out_file='%s_propka_pH%.2f' % (PDB_id,pH)\n",
    "\n",
    "if convert_propka(pdb_file,pka_file,out_file,pH=pH): print(\"Success!\")\n",
    "\n",
    "pH=4.84\n",
    "out_file='%s_propka_pH%.2f' % (PDB_id,pH)\n",
    "\n",
    "if convert_propka(pdb_file,pka_file,out_file,pH=pH): print(\"Success!\")"
   ]
  },
  {
   "cell_type": "code",
   "execution_count": 9,
   "id": "7c4e1438-6f81-4b40-b8f2-ec9823d99606",
   "metadata": {
    "execution": {
     "iopub.execute_input": "2025-09-25T20:25:23.161981Z",
     "iopub.status.busy": "2025-09-25T20:25:23.161387Z",
     "iopub.status.idle": "2025-09-25T20:25:23.168275Z",
     "shell.execute_reply": "2025-09-25T20:25:23.167439Z",
     "shell.execute_reply.started": "2025-09-25T20:25:23.161928Z"
    }
   },
   "outputs": [
    {
     "data": {
      "text/plain": [
       "'\\npH=7.0\\nout_file=\\'%s_A_propka_pH%.1f\\' % (PDB_id,pH)\\n\\nif convert_propka(pdb_file,pka_file,out_file,pH=pH,chains=[\\'A\\']): print(\"Success!\")\\n'"
      ]
     },
     "execution_count": 9,
     "metadata": {},
     "output_type": "execute_result"
    }
   ],
   "source": [
    "'''\n",
    "pH=7.0\n",
    "out_file='%s_A_propka_pH%.1f' % (PDB_id,pH)\n",
    "\n",
    "if convert_propka(pdb_file,pka_file,out_file,pH=pH,chains=['A']): print(\"Success!\")\n",
    "'''"
   ]
  },
  {
   "cell_type": "code",
   "execution_count": 10,
   "id": "7a55b46f-98f8-4c25-a6a6-6cfce68f827e",
   "metadata": {
    "execution": {
     "iopub.execute_input": "2025-09-25T10:01:36.678347Z",
     "iopub.status.busy": "2025-09-25T10:01:36.677960Z",
     "iopub.status.idle": "2025-09-25T10:01:36.685200Z",
     "shell.execute_reply": "2025-09-25T10:01:36.683671Z",
     "shell.execute_reply.started": "2025-09-25T10:01:36.678314Z"
    }
   },
   "outputs": [],
   "source": [
    "# Separate function fi needed\n",
    "def write_topology(cdr,topology_file):\n",
    "\n",
    "    #with open('topology.yaml', \"w\") as f:\n",
    "    with open(topology_file, \"w\") as f:\n",
    "        f.write(\n",
    "\"\"\"comment: \"Calvados 3 coarse grained amino acid model for use with Duello / Faunus\"\n",
    "pH: %.2f\n",
    "version: 0.1.0\n",
    "atoms:\"\"\" % 7.20\n",
    "    )\n",
    "        for key in cdr.keys(): f.write(\n",
    "\"\"\"\n",
    "  - {charge: %.2f, hydrophobicity: !Lambda 0, mass: 0, name: %s, σ: 2.0, ε: 0.8368}\"\"\" % (cdr[key],key)\n",
    "        )\n",
    "        f.write(\n",
    "\"\"\"\n",
    "  - {charge: 0.0, hydrophobicity: !Lambda 0.7407902764839954, mass: 156.19, name: ARG, σ: 6.56, ε: 0.8368}\n",
    "  - {charge: 0.0, hydrophobicity: !Lambda 0.092587557536158,  mass: 115.09, name: ASP, σ: 5.58, ε: 0.8368}\n",
    "  - {charge: 0.0, hydrophobicity: !Lambda 0.000249590539426,  mass: 129.11, name: GLU, σ: 5.92, ε: 0.8368}\n",
    "  - {charge: 0.0, hydrophobicity: !Lambda 0.1380602542039267, mass: 128.17, name: LYS, σ: 6.36, ε: 0.8368}\n",
    "  - {charge: 0.0, hydrophobicity: !Lambda 0.4087176216525476, mass: 137.14, name: HIS, σ: 6.08, ε: 0.8368}\n",
    "  - {charge: 0.0, hydrophobicity: !Lambda 0.3706962163690402, mass: 114.1,  name: ASN, σ: 5.68, ε: 0.8368}\n",
    "  - {charge: 0.0, hydrophobicity: !Lambda 0.3143449791669133, mass: 128.13, name: GLN, σ: 6.02, ε: 0.8368}\n",
    "  - {charge: 0.0, hydrophobicity: !Lambda 0.4473142572693176, mass: 87.08,  name: SER, σ: 5.18, ε: 0.8368}\n",
    "  - {charge: 0.0, hydrophobicity: !Lambda 0.7538308115197386, mass: 57.05,  name: GLY, σ: 4.5,  ε: 0.8368}\n",
    "  - {charge: 0.0, hydrophobicity: !Lambda 0.2672387936544146, mass: 101.11, name: THR, σ: 5.62, ε: 0.8368}\n",
    "  - {charge: 0.0, hydrophobicity: !Lambda 0.3377244362031627, mass: 71.07,  name: ALA, σ: 5.04, ε: 0.8368}\n",
    "  - {charge: 0.0, hydrophobicity: !Lambda 0.5170874160398543, mass: 131.2,  name: MET, σ: 6.18, ε: 0.8368}\n",
    "  - {charge: 0.0, hydrophobicity: !Lambda 0.950628687301107,  mass: 163.18, name: TYR, σ: 6.46, ε: 0.8368}\n",
    "  - {charge: 0.0, hydrophobicity: !Lambda 0.2936174211771383, mass: 99.13,  name: VAL, σ: 5.86, ε: 0.8368}\n",
    "  - {charge: 0.0, hydrophobicity: !Lambda 1.033450123574512,  mass: 186.22, name: TRP, σ: 6.78, ε: 0.8368}\n",
    "  - {charge: 0.0, hydrophobicity: !Lambda 0.5548615312993875, mass: 113.16, name: LEU, σ: 6.18, ε: 0.8368}\n",
    "  - {charge: 0.0, hydrophobicity: !Lambda 0.5130398874425708, mass: 113.16, name: ILE, σ: 6.18, ε: 0.8368}\n",
    "  - {charge: 0.0, hydrophobicity: !Lambda 0.3469777523519372, mass: 97.12,  name: PRO, σ: 5.56, ε: 0.8368}\n",
    "  - {charge: 0.0, hydrophobicity: !Lambda 0.8906449355499866, mass: 147.18, name: PHE, σ: 6.36, ε: 0.8368}\n",
    "  - {charge: 0.0, hydrophobicity: !Lambda 0.5922529084601322, mass: 103.14, name: CYS, σ: 5.48, ε: 0.8368}\n",
    "\"\"\"\n",
    "    )\n",
    "        f.write(\n",
    "\"\"\"\n",
    "system:\n",
    "  energy:\n",
    "    nonbonded:\n",
    "      # Note that a Coulomb term is automatically added, so don't specify one here!\n",
    "      default:\n",
    "        - !AshbaughHatch {mixing: arithmetic, cutoff: 20.0}\n",
    "\"\"\"\n",
    "    )"
   ]
  },
  {
   "cell_type": "markdown",
   "id": "a782320d-83f6-41aa-8101-fd4b177b15a6",
   "metadata": {},
   "source": [
    "### Get protonation states via pdb2pqr"
   ]
  },
  {
   "cell_type": "code",
   "execution_count": 9,
   "id": "3d83cc57-8541-4599-bca2-150040e4fcf8",
   "metadata": {
    "execution": {
     "iopub.execute_input": "2025-09-26T19:53:26.584240Z",
     "iopub.status.busy": "2025-09-26T19:53:26.583609Z",
     "iopub.status.idle": "2025-09-26T19:53:26.589313Z",
     "shell.execute_reply": "2025-09-26T19:53:26.588139Z",
     "shell.execute_reply.started": "2025-09-26T19:53:26.584192Z"
    }
   },
   "outputs": [],
   "source": [
    "PDB_id='4F5S_A'\n",
    "pdb_file='%s.pdb' % PDB_id"
   ]
  },
  {
   "cell_type": "code",
   "execution_count": 12,
   "id": "667dd07f-97e5-40db-8254-6eda8554bfbb",
   "metadata": {
    "execution": {
     "iopub.execute_input": "2025-09-25T20:30:11.926234Z",
     "iopub.status.busy": "2025-09-25T20:30:11.925895Z",
     "iopub.status.idle": "2025-09-25T20:30:12.161487Z",
     "shell.execute_reply": "2025-09-25T20:30:12.161040Z",
     "shell.execute_reply.started": "2025-09-25T20:30:11.926208Z"
    }
   },
   "outputs": [
    {
     "name": "stderr",
     "output_type": "stream",
     "text": [
      "WARNING:py.warnings:/opt/homebrew/Caskroom/mambaforge/base/lib/python3.10/site-packages/Bio/PDB/StructureBuilder.py:100: PDBConstructionWarning: WARNING: Chain A is discontinuous at line 19672.\n",
      "  warnings.warn(\n",
      "\n",
      "WARNING:py.warnings:/opt/homebrew/Caskroom/mambaforge/base/lib/python3.10/site-packages/Bio/PDB/StructureBuilder.py:100: PDBConstructionWarning: WARNING: Chain B is discontinuous at line 19848.\n",
      "  warnings.warn(\n",
      "\n"
     ]
    }
   ],
   "source": [
    "%%capture --no-stdout\n",
    "\n",
    "#if needed at this stage, split into chains\n",
    "\n",
    "from Bio.PDB import PDBParser\n",
    "from Bio.PDB.PDBIO import PDBIO\n",
    "\n",
    "parser = PDBParser()\n",
    "io = PDBIO()\n",
    "\n",
    "structure = parser.get_structure(PDB_id, pdb_file)\n",
    "pdb_chains = structure.get_chains()\n",
    "for chain in pdb_chains:\n",
    "    io.set_structure(chain)\n",
    "    io.save(structure.get_id() + \"_\" + chain.get_id() + \".pdb\")"
   ]
  },
  {
   "cell_type": "code",
   "execution_count": 15,
   "id": "363b54d3-1509-4dff-8969-259ddcea994d",
   "metadata": {
    "execution": {
     "iopub.execute_input": "2025-09-26T19:55:24.044922Z",
     "iopub.status.busy": "2025-09-26T19:55:24.044291Z",
     "iopub.status.idle": "2025-09-26T19:55:28.567471Z",
     "shell.execute_reply": "2025-09-26T19:55:28.567194Z",
     "shell.execute_reply.started": "2025-09-26T19:55:24.044875Z"
    }
   },
   "outputs": [
    {
     "name": "stderr",
     "output_type": "stream",
     "text": [
      "WARNING:pdb2pqr.biomolecule:Unable to find amino or nucleic acid definition for PGE.  Parsing as new residue.\n",
      "WARNING:PDB2PQR3.7.1:Multiple occupancies found: CA in SER A 65.\n",
      "WARNING:PDB2PQR3.7.1:Multiple occupancies found: CB in SER A 65.\n",
      "WARNING:PDB2PQR3.7.1:Multiple occupancies found: OG in SER A 65.\n",
      "WARNING:PDB2PQR3.7.1:Multiple occupancies found in SER A 65. At least one of the instances is being ignored.\n",
      "WARNING:PDB2PQR3.7.1:Multiple occupancies found: CA in ARG A 81.\n",
      "WARNING:PDB2PQR3.7.1:Multiple occupancies found: CB in ARG A 81.\n",
      "WARNING:PDB2PQR3.7.1:Multiple occupancies found: CG in ARG A 81.\n",
      "WARNING:PDB2PQR3.7.1:Multiple occupancies found: CD in ARG A 81.\n",
      "WARNING:PDB2PQR3.7.1:Multiple occupancies found: NE in ARG A 81.\n",
      "WARNING:PDB2PQR3.7.1:Multiple occupancies found: CZ in ARG A 81.\n",
      "WARNING:PDB2PQR3.7.1:Multiple occupancies found: NH1 in ARG A 81.\n",
      "WARNING:PDB2PQR3.7.1:Multiple occupancies found: NH2 in ARG A 81.\n",
      "WARNING:PDB2PQR3.7.1:Multiple occupancies found in ARG A 81. At least one of the instances is being ignored.\n",
      "WARNING:PDB2PQR3.7.1:Multiple occupancies found: CA in ARG A 185.\n",
      "WARNING:PDB2PQR3.7.1:Multiple occupancies found: CB in ARG A 185.\n",
      "WARNING:PDB2PQR3.7.1:Multiple occupancies found: CG in ARG A 185.\n",
      "WARNING:PDB2PQR3.7.1:Multiple occupancies found: CD in ARG A 185.\n",
      "WARNING:PDB2PQR3.7.1:Multiple occupancies found: NE in ARG A 185.\n",
      "WARNING:PDB2PQR3.7.1:Multiple occupancies found: CZ in ARG A 185.\n",
      "WARNING:PDB2PQR3.7.1:Multiple occupancies found: NH1 in ARG A 185.\n",
      "WARNING:PDB2PQR3.7.1:Multiple occupancies found: NH2 in ARG A 185.\n",
      "WARNING:PDB2PQR3.7.1:Multiple occupancies found in ARG A 185. At least one of the instances is being ignored.\n",
      "WARNING:PDB2PQR3.7.1:Ignoring 1165 header lines in output.\n",
      "WARNING:PDB2PQR3.7.1:Ignoring 10 missing lines in output.\n",
      "WARNING:pdb2pqr.biomolecule:Unable to find amino or nucleic acid definition for PGE.  Parsing as new residue.\n",
      "WARNING:PDB2PQR3.7.1:Multiple occupancies found: CA in SER A 65.\n",
      "WARNING:PDB2PQR3.7.1:Multiple occupancies found: CB in SER A 65.\n",
      "WARNING:PDB2PQR3.7.1:Multiple occupancies found: OG in SER A 65.\n",
      "WARNING:PDB2PQR3.7.1:Multiple occupancies found in SER A 65. At least one of the instances is being ignored.\n",
      "WARNING:PDB2PQR3.7.1:Multiple occupancies found: CA in ARG A 81.\n",
      "WARNING:PDB2PQR3.7.1:Multiple occupancies found: CB in ARG A 81.\n",
      "WARNING:PDB2PQR3.7.1:Multiple occupancies found: CG in ARG A 81.\n",
      "WARNING:PDB2PQR3.7.1:Multiple occupancies found: CD in ARG A 81.\n",
      "WARNING:PDB2PQR3.7.1:Multiple occupancies found: NE in ARG A 81.\n",
      "WARNING:PDB2PQR3.7.1:Multiple occupancies found: CZ in ARG A 81.\n",
      "WARNING:PDB2PQR3.7.1:Multiple occupancies found: NH1 in ARG A 81.\n",
      "WARNING:PDB2PQR3.7.1:Multiple occupancies found: NH2 in ARG A 81.\n",
      "WARNING:PDB2PQR3.7.1:Multiple occupancies found in ARG A 81. At least one of the instances is being ignored.\n",
      "WARNING:PDB2PQR3.7.1:Multiple occupancies found: CA in ARG A 185.\n",
      "WARNING:PDB2PQR3.7.1:Multiple occupancies found: CB in ARG A 185.\n",
      "WARNING:PDB2PQR3.7.1:Multiple occupancies found: CG in ARG A 185.\n",
      "WARNING:PDB2PQR3.7.1:Multiple occupancies found: CD in ARG A 185.\n",
      "WARNING:PDB2PQR3.7.1:Multiple occupancies found: NE in ARG A 185.\n",
      "WARNING:PDB2PQR3.7.1:Multiple occupancies found: CZ in ARG A 185.\n",
      "WARNING:PDB2PQR3.7.1:Multiple occupancies found: NH1 in ARG A 185.\n",
      "WARNING:PDB2PQR3.7.1:Multiple occupancies found: NH2 in ARG A 185.\n",
      "WARNING:PDB2PQR3.7.1:Multiple occupancies found in ARG A 185. At least one of the instances is being ignored.\n",
      "WARNING:PDB2PQR3.7.1:Ignoring 1163 header lines in output.\n",
      "WARNING:PDB2PQR3.7.1:Ignoring 10 missing lines in output.\n"
     ]
    }
   ],
   "source": [
    "%%capture --no-stdout\n",
    "\n",
    "pH=7.2\n",
    "pqr_file='%s_pH%.2f.pqr' % (PDB_id,pH)\n",
    "\n",
    "pqr=run_pdb2pqr([pdb_file,pqr_file,\n",
    "                 '--keep-chain',\n",
    "                 '--titration-state-method=propka',\n",
    "                 '--with-ph=%.2f' % pH,\n",
    "                 '--ff=PARSE',\n",
    "                 '--drop-water',\n",
    "                 '-q',\n",
    "                 '--whitespace'])\n",
    "\n",
    "pH=4.84\n",
    "pqr_file='../tests/%s_pH%.2f.pqr' % (PDB_id,pH)\n",
    "\n",
    "pqr=run_pdb2pqr([pdb_file,pqr_file,\n",
    "                 '--keep-chain',\n",
    "                 '--titration-state-method=propka',\n",
    "                 '--with-ph=%.2f' % pH,\n",
    "                 '--ff=PARSE',\n",
    "                 '--drop-water',\n",
    "                 '-q',\n",
    "                 '--whitespace'])"
   ]
  },
  {
   "cell_type": "markdown",
   "id": "be05b18f-bd87-405e-ac89-ffd4b1fcd36a",
   "metadata": {},
   "source": [
    "### Convert PQR to XYZ"
   ]
  },
  {
   "cell_type": "code",
   "execution_count": 11,
   "id": "79ed99f9-cc63-4d4a-909c-025b564daae2",
   "metadata": {
    "execution": {
     "iopub.execute_input": "2025-09-26T19:53:56.070991Z",
     "iopub.status.busy": "2025-09-26T19:53:56.070330Z",
     "iopub.status.idle": "2025-09-26T19:53:56.085682Z",
     "shell.execute_reply": "2025-09-26T19:53:56.085013Z",
     "shell.execute_reply.started": "2025-09-26T19:53:56.070931Z"
    }
   },
   "outputs": [],
   "source": [
    "def convert_pqr(pqr_file: str, output_prefix: str, chains=None):\n",
    "    \"\"\"Convert PQR to coarse grained XYZ file; one bead per amino acid, adding sidechain beads for ionizable amino acid\"\"\"\n",
    "\n",
    "    pqr=mda.Universe(pqr_file)\n",
    "    pqr.atoms.translate(-pqr.atoms.center_of_mass()) # moves COM to [0,0,0]\n",
    "\n",
    "    # keep only protein atoms and optionally selected chains\n",
    "    # omit hydrogen atoms\n",
    "    if chains: traj=pqr.select_atoms('protein and not name H* and segid %s' % chains)\n",
    "    else: traj=pqr.select_atoms('protein and not name H*')\n",
    "\n",
    "    residues = []\n",
    "    chrdict = {}\n",
    "    chridx = 0\n",
    "    \n",
    "    for res in traj.residues:\n",
    "\n",
    "        name = res.resname\n",
    "        com = res.atoms.center_of_mass()\n",
    "\n",
    "        residues.append(dict(name=name,cm=com))\n",
    "\n",
    "        # Map residue and atom names to sidechain bead names\n",
    "        sidechain_map = {\n",
    "            \"ASP\": (\"Dsc\", \"OD1\"),\n",
    "            \"GLU\": (\"Esc\", \"OE1\"),\n",
    "            \"TYR\": (\"Tsc\", \"OH\"),\n",
    "            \"ARG\": (\"Rsc\", \"CZ\"),\n",
    "            \"LYS\": (\"Ksc\", \"NZ\"),\n",
    "            \"HIS\": (\"Hsc\", \"NE2\"),\n",
    "            \"CYS\": (\"Csc\", \"SG\"),\n",
    "        }\n",
    "\n",
    "        chr_=0.0\n",
    "        for atom in res.atoms: chr_+=np.float32(atom.charge)\n",
    "\n",
    "        #chr_ = res.atoms.total_charge()\n",
    "\n",
    "        # consider only charges above some cutoff\n",
    "        if abs(chr_) > 1e-3:\n",
    "\n",
    "            bead_name, atom_name = sidechain_map.get(name,(None,None))\n",
    "            \n",
    "            if bead_name:\n",
    "\n",
    "                bn = '%s%s%i' % (bead_name,res.segid,res.resid)\n",
    "                residues.append(dict(name=bn, cm=traj.select_atoms('resid %i and name %s' % (res.resid,atom_name)).positions[0]))\n",
    "\n",
    "            else:\n",
    "\n",
    "                bn = 'TRC%s%i' % (res.segid,res.resid)\n",
    "                residues.append(dict(name=bn, cm=res.atoms.center_of_charge())) # we have a terminal charge\n",
    "\n",
    "            chridx += 1\n",
    "\n",
    "            chrdict[bn] = chr_\n",
    "\n",
    "    with open(output_prefix+'.xyz', \"w\") as f:\n",
    "        \n",
    "        f.write(f\"{len(residues)}\\n\")\n",
    "        f.write(\n",
    "            f\"Converted with propka pqr2xyz.py with {pdb_file} (https://github.com/mlund/pdb2xyz)\\n\"\n",
    "        )\n",
    "        \n",
    "        for i in residues:\n",
    "            \n",
    "            f.write(f\"{i['name']} {i['cm'][0]:.3f} {i['cm'][1]:.3f} {i['cm'][2]:.3f}\\n\")\n",
    "        logging.info(\n",
    "            f\"Converted {pdb_file} -> {output_prefix+'.xyz'} with {len(residues)} residues.\"\n",
    "        )\n",
    "\n",
    "    with open(output_prefix+'.yaml', \"w\") as f:\n",
    "        f.write(\n",
    "\"\"\"comment: \"Calvados 3 coarse grained amino acid model for use with Duello / Faunus\"\n",
    "pH: %.2f\n",
    "version: 0.1.0\n",
    "atoms:\"\"\" % pH\n",
    "    )\n",
    "        for key in chrdict.keys(): f.write(\n",
    "\"\"\"\n",
    "  - {charge: %.3f, hydrophobicity: !Lambda 0, mass: 0, name: %s, σ: 2.0, ε: 0.8368}\"\"\" % (chrdict[key],key)\n",
    "        )\n",
    "        f.write(\n",
    "\"\"\"\n",
    "  - {charge: 0.0, hydrophobicity: !Lambda 0.7407902764839954, mass: 156.19, name: ARG, σ: 6.56, ε: 0.8368}\n",
    "  - {charge: 0.0, hydrophobicity: !Lambda 0.092587557536158,  mass: 115.09, name: ASP, σ: 5.58, ε: 0.8368}\n",
    "  - {charge: 0.0, hydrophobicity: !Lambda 0.000249590539426,  mass: 129.11, name: GLU, σ: 5.92, ε: 0.8368}\n",
    "  - {charge: 0.0, hydrophobicity: !Lambda 0.1380602542039267, mass: 128.17, name: LYS, σ: 6.36, ε: 0.8368}\n",
    "  - {charge: 0.0, hydrophobicity: !Lambda 0.4087176216525476, mass: 137.14, name: HIS, σ: 6.08, ε: 0.8368}\n",
    "  - {charge: 0.0, hydrophobicity: !Lambda 0.3706962163690402, mass: 114.1,  name: ASN, σ: 5.68, ε: 0.8368}\n",
    "  - {charge: 0.0, hydrophobicity: !Lambda 0.3143449791669133, mass: 128.13, name: GLN, σ: 6.02, ε: 0.8368}\n",
    "  - {charge: 0.0, hydrophobicity: !Lambda 0.4473142572693176, mass: 87.08,  name: SER, σ: 5.18, ε: 0.8368}\n",
    "  - {charge: 0.0, hydrophobicity: !Lambda 0.7538308115197386, mass: 57.05,  name: GLY, σ: 4.5,  ε: 0.8368}\n",
    "  - {charge: 0.0, hydrophobicity: !Lambda 0.2672387936544146, mass: 101.11, name: THR, σ: 5.62, ε: 0.8368}\n",
    "  - {charge: 0.0, hydrophobicity: !Lambda 0.3377244362031627, mass: 71.07,  name: ALA, σ: 5.04, ε: 0.8368}\n",
    "  - {charge: 0.0, hydrophobicity: !Lambda 0.5170874160398543, mass: 131.2,  name: MET, σ: 6.18, ε: 0.8368}\n",
    "  - {charge: 0.0, hydrophobicity: !Lambda 0.950628687301107,  mass: 163.18, name: TYR, σ: 6.46, ε: 0.8368}\n",
    "  - {charge: 0.0, hydrophobicity: !Lambda 0.2936174211771383, mass: 99.13,  name: VAL, σ: 5.86, ε: 0.8368}\n",
    "  - {charge: 0.0, hydrophobicity: !Lambda 1.033450123574512,  mass: 186.22, name: TRP, σ: 6.78, ε: 0.8368}\n",
    "  - {charge: 0.0, hydrophobicity: !Lambda 0.5548615312993875, mass: 113.16, name: LEU, σ: 6.18, ε: 0.8368}\n",
    "  - {charge: 0.0, hydrophobicity: !Lambda 0.5130398874425708, mass: 113.16, name: ILE, σ: 6.18, ε: 0.8368}\n",
    "  - {charge: 0.0, hydrophobicity: !Lambda 0.3469777523519372, mass: 97.12,  name: PRO, σ: 5.56, ε: 0.8368}\n",
    "  - {charge: 0.0, hydrophobicity: !Lambda 0.8906449355499866, mass: 147.18, name: PHE, σ: 6.36, ε: 0.8368}\n",
    "  - {charge: 0.0, hydrophobicity: !Lambda 0.5922529084601322, mass: 103.14, name: CYS, σ: 5.48, ε: 0.8368}\n",
    "\"\"\"\n",
    "    )\n",
    "        f.write(\n",
    "\"\"\"\n",
    "system:\n",
    "  energy:\n",
    "    nonbonded:\n",
    "      # Note that a Coulomb term is automatically added, so don't specify one here!\n",
    "      default:\n",
    "        - !AshbaughHatch {mixing: arithmetic, cutoff: 20.0}\n",
    "\"\"\"\n",
    "    )\n",
    "\n",
    "    return True"
   ]
  },
  {
   "cell_type": "code",
   "execution_count": 16,
   "id": "9f9267bb-0643-49a1-9dd6-8822a63434e0",
   "metadata": {
    "execution": {
     "iopub.execute_input": "2025-09-26T19:55:58.755078Z",
     "iopub.status.busy": "2025-09-26T19:55:58.754462Z",
     "iopub.status.idle": "2025-09-26T19:55:58.949067Z",
     "shell.execute_reply": "2025-09-26T19:55:58.948818Z",
     "shell.execute_reply.started": "2025-09-26T19:55:58.755031Z"
    }
   },
   "outputs": [
    {
     "name": "stdout",
     "output_type": "stream",
     "text": [
      "Success!\n",
      "Success!\n"
     ]
    }
   ],
   "source": [
    "PQR_id='4F5S_A'\n",
    "\n",
    "pH=7.2\n",
    "pqr_file='../tests/%s_pH%.2f.pqr' % (PQR_id,pH)\n",
    "out_file='../tests/%s_pqr_pH%.2f' % (PQR_id,pH)\n",
    "\n",
    "if convert_pqr(pqr_file,out_file): print(\"Success!\")\n",
    "\n",
    "pH=4.84\n",
    "pqr_file='../tests/%s_pH%.2f.pqr' % (PQR_id,pH)\n",
    "out_file='../tests/%s_pqr_pH%.2f' % (PQR_id,pH)\n",
    "\n",
    "if convert_pqr(pqr_file,out_file): print(\"Success!\")"
   ]
  },
  {
   "cell_type": "markdown",
   "id": "4d5ec530-f604-4d5e-a07d-7c20fe964036",
   "metadata": {},
   "source": [
    "### Duello PMF / plotting"
   ]
  },
  {
   "cell_type": "code",
   "execution_count": 46,
   "id": "aa23244f-8941-4513-ad0a-a4f73de21eb4",
   "metadata": {
    "execution": {
     "iopub.execute_input": "2025-09-25T21:16:20.251935Z",
     "iopub.status.busy": "2025-09-25T21:16:20.250785Z",
     "iopub.status.idle": "2025-09-25T21:16:20.454223Z",
     "shell.execute_reply": "2025-09-25T21:16:20.453950Z",
     "shell.execute_reply.started": "2025-09-25T21:16:20.251862Z"
    }
   },
   "outputs": [
    {
     "data": {
      "text/plain": [
       "[<matplotlib.lines.Line2D at 0x341fe92d0>]"
      ]
     },
     "execution_count": 46,
     "metadata": {},
     "output_type": "execute_result"
    },
    {
     "data": {
      "image/png": "[encoded data removed]",
      "text/plain": [
       "<Figure size 3000x1500 with 4 Axes>"
      ]
     },
     "metadata": {},
     "output_type": "display_data"
    }
   ],
   "source": [
    "figure, ((ax1,ax2),(ax3,ax4)) = plt.subplots(2,2,figsize=(10,5))\n",
    "\n",
    "#ax2.sharey(ax1)\n",
    "#ax1.set_ylim([-5,30])\n",
    "#ax2.set_ylim([-5,30])\n",
    "\n",
    "ax1.plot(0.1*duello_pH7_c10[:,0],duello_pH7_c10[:,1],label='pdb2xyz (duello)')\n",
    "ax1.plot(0.1*propka_pH7_c10[:,0],propka_pH7_c10[:,1],label='propka')\n",
    "ax1.plot(0.1*pqr_pH7_c10[:,0],pqr_pH7_c10[:,1],label='pdb2pqr')\n",
    "ax1.legend(frameon=False)\n",
    "\n",
    "ax2.plot(0.1*duello_pH5_c10[:,0],duello_pH5_c10[:,1],label='pdb2xyz (duello)')\n",
    "ax2.plot(0.1*propka_pH5_c10[:,0],propka_pH5_c10[:,1],label='propka')\n",
    "ax2.plot(0.1*pqr_pH5_c10[:,0],pqr_pH5_c10[:,1],label='pdb2pqr')\n"
   ]
  },
  {
   "cell_type": "code",
   "execution_count": 37,
   "id": "970bc6a4-e53b-455f-8fc9-7454c5e59ff6",
   "metadata": {
    "execution": {
     "iopub.execute_input": "2025-09-25T21:14:11.261399Z",
     "iopub.status.busy": "2025-09-25T21:14:11.260634Z",
     "iopub.status.idle": "2025-09-25T21:14:11.271653Z",
     "shell.execute_reply": "2025-09-25T21:14:11.270891Z",
     "shell.execute_reply.started": "2025-09-25T21:14:11.261341Z"
    }
   },
   "outputs": [],
   "source": [
    "duello_pH5_c10=np.loadtxt('4F5S_duello_pH5.0_c00.01_pmf.dat')\n",
    "duello_pH7_c10=np.loadtxt('4F5S_duello_pH7.0_c00.01_pmf.dat')\n",
    "propka_pH5_c10=np.loadtxt('4F5S_propka_pH5.0_c00.01_pmf.dat')\n",
    "propka_pH7_c10=np.loadtxt('4F5S_propka_pH7.0_c00.01_pmf.dat')\n",
    "pqr_pH5_c10=np.loadtxt('4F5S_pqr_pH5.0_c00.01_pmf.dat')\n",
    "pqr_pH7_c10=np.loadtxt('4F5S_pqr_pH7.0_c00.01_pmf.dat')"
   ]
  },
  {
   "cell_type": "code",
   "execution_count": null,
   "id": "de2ded09-66fd-4c4f-81f1-8ea7026fb4d9",
   "metadata": {},
   "outputs": [],
   "source": []
  },
  {
   "cell_type": "markdown",
   "id": "edbb160e-a251-4b25-944b-c9515a7b389b",
   "metadata": {},
   "source": [
    "## OLD"
   ]
  },
  {
   "cell_type": "code",
   "execution_count": 107,
   "id": "33b3eb43-598b-4144-bada-49119baaf791",
   "metadata": {
    "execution": {
     "iopub.execute_input": "2025-09-16T12:44:39.506589Z",
     "iopub.status.busy": "2025-09-16T12:44:39.505908Z",
     "iopub.status.idle": "2025-09-16T12:44:39.516348Z",
     "shell.execute_reply": "2025-09-16T12:44:39.515097Z",
     "shell.execute_reply.started": "2025-09-16T12:44:39.506533Z"
    }
   },
   "outputs": [],
   "source": [
    "def calvados_template():\n",
    "    return \"\"\"\n",
    "{%- set f = 1.0 - sidechains -%}\n",
    "{%- set zCTR = - 10**(pH-3.16) / (1 + 10**(pH-3.16)) -%}\n",
    "{%- set zASP = - 10**(pH-3.43) / (1 + 10**(pH-3.43)) -%}\n",
    "{%- set zGLU = - 10**(pH-4.14) / (1 + 10**(pH-4.14)) -%}\n",
    "{%- set zCYS = 10**(pH-6.25) / (1 + 10**(pH-6.25)) -%}\n",
    "{%- set zHIS = 1 - 10**(pH-6.45) / (1 + 10**(pH-6.45)) -%}\n",
    "{%- set zNTR = 1 - 10**(pH-7.64) / (1 + 10**(pH-7.64)) -%}\n",
    "{%- set zLYS = 1 - 10**(pH-10.68) / (1 + 10**(pH-10.68)) -%}\n",
    "{%- set zARG = 1 - 10**(pH-12.5) / (1 + 10**(pH-12.5)) -%}\n",
    "comment: \"Calvados 3 coarse grained amino acid model for use with Duello / Faunus\"\n",
    "pH: {{ pH }}\n",
    "sidechains: {{ sidechains }}\n",
    "version: 0.1.0\n",
    "atoms:\n",
    "  - {charge: {{ \"%.2f\" % zCTR }}, hydrophobicity: !Lambda 0, mass: 0, name: CTR, σ: 2.0, ε: 0.8368}\n",
    "  - {charge: {{ \"%.2f\" % zNTR }}, hydrophobicity: !Lambda 0, mass: 0, name: NTR, σ: 2.0, ε: 0.8368}\n",
    "{%- if sidechains %}\n",
    "  - {charge: {{ \"%.2f\" % zGLU }}, hydrophobicity: !Lambda 0, mass: 0, name: Esc, σ: 2.0, ε: 0.8368}\n",
    "  - {charge: {{ \"%.2f\" % zASP }}, hydrophobicity: !Lambda 0, mass: 0, name: Dsc, σ: 2.0, ε: 0.8368}\n",
    "  - {charge: {{ \"%.2f\" % zHIS }}, hydrophobicity: !Lambda 0, mass: 0, name: Hsc, σ: 2.0, ε: 0.8368}\n",
    "  - {charge: {{ \"%.2f\" % zARG }}, hydrophobicity: !Lambda 0, mass: 0, name: Rsc, σ: 2.0, ε: 0.8368}\n",
    "  - {charge: {{ \"%.2f\" % zLYS }}, hydrophobicity: !Lambda 0, mass: 0, name: Ksc, σ: 2.0, ε: 0.8368}\n",
    "  - {charge: {{ \"%.2f\" % zCYS }}, hydrophobicity: !Lambda 0, mass: 0, name: Csc, σ: 2.0, ε: 0.8368}\n",
    "{%- endif %}\n",
    "  - {charge: {{ \"%.2f\" % (zARG * f) }}, hydrophobicity: !Lambda 0.7407902764839954, mass: 156.19, name: ARG, σ: 6.56, ε: 0.8368, custom: {alpha: {{ f * alpha }}}}\n",
    "  - {charge: {{ \"%.2f\" % (zASP * f) }}, hydrophobicity: !Lambda 0.092587557536158,  mass: 115.09, name: ASP, σ: 5.58, ε: 0.8368, custom: {alpha: {{ f * alpha }}}}\n",
    "  - {charge: {{ \"%.2f\" % (zGLU * f) }}, hydrophobicity: !Lambda 0.000249590539426,  mass: 129.11, name: GLU, σ: 5.92, ε: 0.8368, custom: {alpha: {{ f * alpha }}}}\n",
    "  - {charge: {{ \"%.2f\" % (zLYS * f) }}, hydrophobicity: !Lambda 0.1380602542039267, mass: 128.17, name: LYS, σ: 6.36, ε: 0.8368, custom: {alpha: {{ f * alpha }}}}\n",
    "  - {charge: {{ \"%.2f\" % (zHIS * f) }}, hydrophobicity: !Lambda 0.4087176216525476, mass: 137.14, name: HIS, σ: 6.08, ε: 0.8368, custom: {alpha: {{ f * alpha }}}}\n",
    "  - {charge: 0.0, hydrophobicity: !Lambda 0.3706962163690402, mass: 114.1,  name: ASN, σ: 5.68, ε: 0.8368}\n",
    "  - {charge: 0.0, hydrophobicity: !Lambda 0.3143449791669133, mass: 128.13, name: GLN, σ: 6.02, ε: 0.8368}\n",
    "  - {charge: 0.0, hydrophobicity: !Lambda 0.4473142572693176, mass: 87.08,  name: SER, σ: 5.18, ε: 0.8368}\n",
    "  - {charge: 0.0, hydrophobicity: !Lambda 0.7538308115197386, mass: 57.05,  name: GLY, σ: 4.5,  ε: 0.8368}\n",
    "  - {charge: 0.0, hydrophobicity: !Lambda 0.2672387936544146, mass: 101.11, name: THR, σ: 5.62, ε: 0.8368}\n",
    "  - {charge: 0.0, hydrophobicity: !Lambda 0.3377244362031627, mass: 71.07,  name: ALA, σ: 5.04, ε: 0.8368}\n",
    "  - {charge: 0.0, hydrophobicity: !Lambda 0.5170874160398543, mass: 131.2,  name: MET, σ: 6.18, ε: 0.8368}\n",
    "  - {charge: 0.0, hydrophobicity: !Lambda 0.950628687301107,  mass: 163.18, name: TYR, σ: 6.46, ε: 0.8368}\n",
    "  - {charge: 0.0, hydrophobicity: !Lambda 0.2936174211771383, mass: 99.13,  name: VAL, σ: 5.86, ε: 0.8368}\n",
    "  - {charge: 0.0, hydrophobicity: !Lambda 1.033450123574512,  mass: 186.22, name: TRP, σ: 6.78, ε: 0.8368}\n",
    "  - {charge: 0.0, hydrophobicity: !Lambda 0.5548615312993875, mass: 113.16, name: LEU, σ: 6.18, ε: 0.8368}\n",
    "  - {charge: 0.0, hydrophobicity: !Lambda 0.5130398874425708, mass: 113.16, name: ILE, σ: 6.18, ε: 0.8368}\n",
    "  - {charge: 0.0, hydrophobicity: !Lambda 0.3469777523519372, mass: 97.12,  name: PRO, σ: 5.56, ε: 0.8368}\n",
    "  - {charge: 0.0, hydrophobicity: !Lambda 0.8906449355499866, mass: 147.18, name: PHE, σ: 6.36, ε: 0.8368}\n",
    "  - {charge: {{ \"%.2f\" % (zCYS * f) }}, hydrophobicity: !Lambda 0.5922529084601322, mass: 103.14, name: CYS, σ: 5.48, ε: 0.8368, custom: {alpha: {{ f * alpha }}}}\n",
    "  - {charge: 0.0, hydrophobicity: !Lambda 0.5922529084601322, mass: 103.14, name: CSS, σ: 5.48, ε: 0.8368}\n",
    "\n",
    "system:\n",
    "  energy:\n",
    "    nonbonded:\n",
    "      # Note that a Coulomb term is automatically added, so don't specify one here!\n",
    "      default:\n",
    "        - !AshbaughHatch {mixing: arithmetic, cutoff: 20.0}\n",
    "\"\"\""
   ]
  },
  {
   "cell_type": "code",
   "execution_count": 4,
   "id": "628e8267-3fab-4a26-8860-db26b40249ca",
   "metadata": {
    "execution": {
     "iopub.execute_input": "2025-09-18T08:41:50.326317Z",
     "iopub.status.busy": "2025-09-18T08:41:50.325769Z",
     "iopub.status.idle": "2025-09-18T08:41:50.505362Z",
     "shell.execute_reply": "2025-09-18T08:41:50.504991Z",
     "shell.execute_reply.started": "2025-09-18T08:41:50.326288Z"
    }
   },
   "outputs": [],
   "source": [
    "#cdr=convert_pqr('/Users/anze/Sandbox/BSA-chainA-pH7.20.pqr', 'test.xyz', chains='A')\n",
    "cdr=convert_pqr('/Users/anze/Sandbox/BSA-full-pH7.20.pqr', 'BSA-full2.xyz')"
   ]
  },
  {
   "cell_type": "code",
   "execution_count": 87,
   "id": "a3db9549-d871-4b42-8d37-ad66429ec1b5",
   "metadata": {
    "execution": {
     "iopub.execute_input": "2025-09-14T07:02:36.860579Z",
     "iopub.status.busy": "2025-09-14T07:02:36.859775Z",
     "iopub.status.idle": "2025-09-14T07:02:39.065618Z",
     "shell.execute_reply": "2025-09-14T07:02:39.065250Z",
     "shell.execute_reply.started": "2025-09-14T07:02:36.860507Z"
    }
   },
   "outputs": [
    {
     "name": "stderr",
     "output_type": "stream",
     "text": [
      "Error parsing line: invalid literal for int() with base 10: ''\n",
      "<CRYST1    1.000    1.000    1.000  90.00  90.00  90.00 P 1>\n",
      "Truncating remaining errors for record type:CRYST1\n",
      "Warning: /Users/anze/Sandbox/BSA_9QQD.pdb is a non-standard PDB file.\n",
      "\n",
      "['CRYST1']\n",
      "Missing atom OXT in residue ALA A 581\n",
      "Missing atom OXT in residue ALA A 581\n",
      "Missing atom OXT in residue ALA A 581\n",
      "Ignoring 467 header lines in output.\n"
     ]
    }
   ],
   "source": [
    "pqr=run_pdb2pqr(['/Users/anze/Sandbox/BSA_9QQD.pdb','BSA-2.pqr','--keep-chain','--titration-state-method=propka','--with-ph=7.20','--ff=PARSE','--drop-water','-q','--whitespace'])"
   ]
  },
  {
   "cell_type": "code",
   "execution_count": 5,
   "id": "3d7f97d9-adcc-4931-a24c-52a9ea6d38a6",
   "metadata": {
    "execution": {
     "iopub.execute_input": "2025-09-18T08:42:08.156846Z",
     "iopub.status.busy": "2025-09-18T08:42:08.156103Z",
     "iopub.status.idle": "2025-09-18T08:42:08.166722Z",
     "shell.execute_reply": "2025-09-18T08:42:08.165989Z",
     "shell.execute_reply.started": "2025-09-18T08:42:08.156786Z"
    }
   },
   "outputs": [],
   "source": [
    "#with open('topology.yaml', \"w\") as f:\n",
    "with open('BSA-full2.yaml', \"w\") as f:\n",
    "    f.write(\n",
    "\"\"\"comment: \"Calvados 3 coarse grained amino acid model for use with Duello / Faunus\"\n",
    "pH: %.2f\n",
    "version: 0.1.0\n",
    "atoms:\"\"\" % 7.20\n",
    ")\n",
    "    for key in cdr.keys(): f.write(\n",
    "\"\"\"\n",
    "  - {charge: %.2f, hydrophobicity: !Lambda 0, mass: 0, name: %s, σ: 2.0, ε: 0.8368}\"\"\" % (cdr[key],key)\n",
    "    )\n",
    "    f.write(\n",
    "\"\"\"\n",
    "  - {charge: 0.0, hydrophobicity: !Lambda 0.7407902764839954, mass: 156.19, name: ARG, σ: 6.56, ε: 0.8368}\n",
    "  - {charge: 0.0, hydrophobicity: !Lambda 0.092587557536158,  mass: 115.09, name: ASP, σ: 5.58, ε: 0.8368}\n",
    "  - {charge: 0.0, hydrophobicity: !Lambda 0.000249590539426,  mass: 129.11, name: GLU, σ: 5.92, ε: 0.8368}\n",
    "  - {charge: 0.0, hydrophobicity: !Lambda 0.1380602542039267, mass: 128.17, name: LYS, σ: 6.36, ε: 0.8368}\n",
    "  - {charge: 0.0, hydrophobicity: !Lambda 0.4087176216525476, mass: 137.14, name: HIS, σ: 6.08, ε: 0.8368}\n",
    "  - {charge: 0.0, hydrophobicity: !Lambda 0.3706962163690402, mass: 114.1,  name: ASN, σ: 5.68, ε: 0.8368}\n",
    "  - {charge: 0.0, hydrophobicity: !Lambda 0.3143449791669133, mass: 128.13, name: GLN, σ: 6.02, ε: 0.8368}\n",
    "  - {charge: 0.0, hydrophobicity: !Lambda 0.4473142572693176, mass: 87.08,  name: SER, σ: 5.18, ε: 0.8368}\n",
    "  - {charge: 0.0, hydrophobicity: !Lambda 0.7538308115197386, mass: 57.05,  name: GLY, σ: 4.5,  ε: 0.8368}\n",
    "  - {charge: 0.0, hydrophobicity: !Lambda 0.2672387936544146, mass: 101.11, name: THR, σ: 5.62, ε: 0.8368}\n",
    "  - {charge: 0.0, hydrophobicity: !Lambda 0.3377244362031627, mass: 71.07,  name: ALA, σ: 5.04, ε: 0.8368}\n",
    "  - {charge: 0.0, hydrophobicity: !Lambda 0.5170874160398543, mass: 131.2,  name: MET, σ: 6.18, ε: 0.8368}\n",
    "  - {charge: 0.0, hydrophobicity: !Lambda 0.950628687301107,  mass: 163.18, name: TYR, σ: 6.46, ε: 0.8368}\n",
    "  - {charge: 0.0, hydrophobicity: !Lambda 0.2936174211771383, mass: 99.13,  name: VAL, σ: 5.86, ε: 0.8368}\n",
    "  - {charge: 0.0, hydrophobicity: !Lambda 1.033450123574512,  mass: 186.22, name: TRP, σ: 6.78, ε: 0.8368}\n",
    "  - {charge: 0.0, hydrophobicity: !Lambda 0.5548615312993875, mass: 113.16, name: LEU, σ: 6.18, ε: 0.8368}\n",
    "  - {charge: 0.0, hydrophobicity: !Lambda 0.5130398874425708, mass: 113.16, name: ILE, σ: 6.18, ε: 0.8368}\n",
    "  - {charge: 0.0, hydrophobicity: !Lambda 0.3469777523519372, mass: 97.12,  name: PRO, σ: 5.56, ε: 0.8368}\n",
    "  - {charge: 0.0, hydrophobicity: !Lambda 0.8906449355499866, mass: 147.18, name: PHE, σ: 6.36, ε: 0.8368}\n",
    "  - {charge: 0.0, hydrophobicity: !Lambda 0.5922529084601322, mass: 103.14, name: CYS, σ: 5.48, ε: 0.8368}\n",
    "\"\"\"\n",
    ")\n",
    "    f.write(\n",
    "\"\"\"\n",
    "system:\n",
    "  energy:\n",
    "    nonbonded:\n",
    "      # Note that a Coulomb term is automatically added, so don't specify one here!\n",
    "      default:\n",
    "        - !AshbaughHatch {mixing: arithmetic, cutoff: 20.0}\n",
    "\"\"\"\n",
    ")"
   ]
  },
  {
   "cell_type": "markdown",
   "id": "b75ac2d3-0343-41c2-a4a9-1e32f6b0bdc0",
   "metadata": {},
   "source": [
    "Using PQR:\n",
    "* automatically takes care of N-terminal and C-terminal charges\n",
    "* automatically takes care of uncharged SS CYS residues\n",
    "\n",
    "While Duello:\n",
    "* Can assign double charge if the N-terminal AA has an ionizable side group\n",
    "\n",
    "Relevant atoms for sidegroups:\n",
    "* LYS: HZ*"
   ]
  },
  {
   "cell_type": "code",
   "execution_count": 40,
   "id": "acbc1055-a8d0-4c20-bda8-780cd149d6ce",
   "metadata": {
    "execution": {
     "iopub.execute_input": "2025-09-16T12:04:43.502982Z",
     "iopub.status.busy": "2025-09-16T12:04:43.502543Z",
     "iopub.status.idle": "2025-09-16T12:04:43.508084Z",
     "shell.execute_reply": "2025-09-16T12:04:43.506935Z",
     "shell.execute_reply.started": "2025-09-16T12:04:43.502954Z"
    }
   },
   "outputs": [],
   "source": [
    "sidechain_map = {\n",
    "            (\"ASP\"): (\"OD1\", \"Dsc\"),\n",
    "            (\"GLU\", \"OE1\"): \"Esc\",\n",
    "            (\"TYR\", \"CZ\"): \"Tsc\",\n",
    "            (\"ARG\", \"CZ\"): \"Rsc\",\n",
    "            (\"LYS\", \"NZ\"): \"Ksc\",\n",
    "            (\"HIS\", \"NE2\"): \"Hsc\",\n",
    "            (\"CYS\", \"SG\"): \"Csc\",\n",
    "}\n",
    "\n",
    "#bead_name = sidechain_map.get((res.name, atom.name))"
   ]
  },
  {
   "cell_type": "code",
   "execution_count": 42,
   "id": "6ef4af20-5b0a-4b6d-8c24-6c99c2bab73d",
   "metadata": {
    "execution": {
     "iopub.execute_input": "2025-09-16T12:04:56.574735Z",
     "iopub.status.busy": "2025-09-16T12:04:56.574127Z",
     "iopub.status.idle": "2025-09-16T12:04:56.581609Z",
     "shell.execute_reply": "2025-09-16T12:04:56.580796Z",
     "shell.execute_reply.started": "2025-09-16T12:04:56.574689Z"
    }
   },
   "outputs": [
    {
     "data": {
      "text/plain": [
       "'OD1'"
      ]
     },
     "execution_count": 42,
     "metadata": {},
     "output_type": "execute_result"
    }
   ],
   "source": [
    "sidechain_map.get(\"ASP\")[0]"
   ]
  },
  {
   "cell_type": "code",
   "execution_count": 81,
   "id": "1ac582d8-62cd-4c13-9105-4cf9ab01f43f",
   "metadata": {
    "execution": {
     "iopub.execute_input": "2025-09-16T12:32:07.649071Z",
     "iopub.status.busy": "2025-09-16T12:32:07.648424Z",
     "iopub.status.idle": "2025-09-16T12:32:07.658544Z",
     "shell.execute_reply": "2025-09-16T12:32:07.657868Z",
     "shell.execute_reply.started": "2025-09-16T12:32:07.649022Z"
    }
   },
   "outputs": [
    {
     "data": {
      "text/plain": [
       "<AtomGroup with 1 atom>"
      ]
     },
     "execution_count": 81,
     "metadata": {},
     "output_type": "execute_result"
    }
   ],
   "source": [
    "traj.select_atoms('resid 573 and name NZ')"
   ]
  },
  {
   "cell_type": "code",
   "execution_count": 62,
   "id": "97c4a652-fbc3-4d3c-9046-19f4e5aed412",
   "metadata": {
    "execution": {
     "iopub.execute_input": "2025-09-16T12:12:26.280848Z",
     "iopub.status.busy": "2025-09-16T12:12:26.280171Z",
     "iopub.status.idle": "2025-09-16T12:12:26.291165Z",
     "shell.execute_reply": "2025-09-16T12:12:26.290384Z",
     "shell.execute_reply.started": "2025-09-16T12:12:26.280793Z"
    }
   },
   "outputs": [
    {
     "data": {
      "text/plain": [
       "array([[-3.444, 33.006, 83.23 ]], dtype=float32)"
      ]
     },
     "execution_count": 62,
     "metadata": {},
     "output_type": "execute_result"
    }
   ],
   "source": [
    "sl.positions"
   ]
  },
  {
   "cell_type": "code",
   "execution_count": null,
   "id": "ddc970c0-c340-4b00-973e-b0ef676a4dad",
   "metadata": {},
   "outputs": [],
   "source": []
  }
 ],
 "metadata": {
  "kernelspec": {
   "display_name": "Python 3 (ipykernel)",
   "language": "python",
   "name": "python3"
  },
  "language_info": {
   "codemirror_mode": {
    "name": "ipython",
    "version": 3
   },
   "file_extension": ".py",
   "mimetype": "text/x-python",
   "name": "python",
   "nbconvert_exporter": "python",
   "pygments_lexer": "ipython3",
   "version": "3.10.18"
  }
 },
 "nbformat": 4,
 "nbformat_minor": 5
}

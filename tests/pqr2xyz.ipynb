{
 "cells": [
  {
   "cell_type": "code",
   "execution_count": 70,
   "id": "585175e9-db70-4449-9e12-20f9b66875e3",
   "metadata": {
    "execution": {
     "iopub.execute_input": "2025-09-24T12:36:52.373266Z",
     "iopub.status.busy": "2025-09-24T12:36:52.372883Z",
     "iopub.status.idle": "2025-09-24T12:36:52.378522Z",
     "shell.execute_reply": "2025-09-24T12:36:52.377228Z",
     "shell.execute_reply.started": "2025-09-24T12:36:52.373233Z"
    }
   },
   "outputs": [],
   "source": [
    "import argparse\n",
    "import jinja2\n",
    "import logging\n",
    "import MDAnalysis as mda\n",
    "import numpy as np\n",
    "from pdb2pqr import run_pdb2pqr\n",
    "import propka.run as pkrun\n",
    "import itertools\n",
    "import os\n",
    "#from math import *\n",
    "#import ipywidgets as widgets\n",
    "#from IPython.display import display"
   ]
  },
  {
   "cell_type": "code",
   "execution_count": 71,
   "id": "06b349d1-bbaf-4bc2-9c88-144a701c9510",
   "metadata": {
    "execution": {
     "iopub.execute_input": "2025-09-24T12:37:26.336862Z",
     "iopub.status.busy": "2025-09-24T12:37:26.336510Z",
     "iopub.status.idle": "2025-09-24T12:37:26.340085Z",
     "shell.execute_reply": "2025-09-24T12:37:26.339315Z",
     "shell.execute_reply.started": "2025-09-24T12:37:26.336836Z"
    }
   },
   "outputs": [],
   "source": [
    "os.chdir('/Users/anze/Git/pdb2xyz/tests')"
   ]
  },
  {
   "cell_type": "markdown",
   "id": "8e7ffeaa-82dc-4e21-b5a1-2b9d96052bb7",
   "metadata": {},
   "source": [
    "### Get protonation states via propka"
   ]
  },
  {
   "cell_type": "code",
   "execution_count": 87,
   "id": "ac684e03-3223-4c45-baf5-0359738c3ca5",
   "metadata": {
    "execution": {
     "iopub.execute_input": "2025-09-24T12:55:57.182482Z",
     "iopub.status.busy": "2025-09-24T12:55:57.182148Z",
     "iopub.status.idle": "2025-09-24T12:55:57.185724Z",
     "shell.execute_reply": "2025-09-24T12:55:57.184952Z",
     "shell.execute_reply.started": "2025-09-24T12:55:57.182456Z"
    }
   },
   "outputs": [],
   "source": [
    "PDB_id='4F5S'\n",
    "pdb_file='%s.pdb' % PDB_id"
   ]
  },
  {
   "cell_type": "code",
   "execution_count": 88,
   "id": "0b5b27b6-0a1e-4e6a-9d03-c9389a7e0591",
   "metadata": {
    "execution": {
     "iopub.execute_input": "2025-09-24T12:55:57.656073Z",
     "iopub.status.busy": "2025-09-24T12:55:57.655605Z",
     "iopub.status.idle": "2025-09-24T12:56:11.616051Z",
     "shell.execute_reply": "2025-09-24T12:56:11.615481Z",
     "shell.execute_reply.started": "2025-09-24T12:55:57.656030Z"
    }
   },
   "outputs": [
    {
     "data": {
      "text/plain": [
       "<propka.molecular_container.MolecularContainer at 0x32cbbd450>"
      ]
     },
     "execution_count": 88,
     "metadata": {},
     "output_type": "execute_result"
    }
   ],
   "source": [
    "propka.run.single(pdb_file)"
   ]
  },
  {
   "cell_type": "code",
   "execution_count": 95,
   "id": "69111eca-0820-422f-8174-6b9f75400cf4",
   "metadata": {
    "execution": {
     "iopub.execute_input": "2025-09-24T12:58:12.560829Z",
     "iopub.status.busy": "2025-09-24T12:58:12.560521Z",
     "iopub.status.idle": "2025-09-24T12:58:12.568566Z",
     "shell.execute_reply": "2025-09-24T12:58:12.567144Z",
     "shell.execute_reply.started": "2025-09-24T12:58:12.560805Z"
    }
   },
   "outputs": [],
   "source": [
    "# obtain a list of partial charges based on propka-determined pKa values\n",
    "def partial_charges(propka_file,pH):\n",
    "\n",
    "    with open(propka_file) as fp:\n",
    "        result = list(itertools.takewhile(lambda x: '---' not in x, \n",
    "            itertools.dropwhile(lambda x: 'Group' not in x, fp)))\n",
    "\n",
    "    result=result[1:]\n",
    "    result=np.array([line.split()[:-1] for line in result])\n",
    "\n",
    "    negative=['C-','ASP','GLU','TYR','CYS']\n",
    "    positive=['N+','ARG','LYS','HIS']\n",
    "\n",
    "    pqr=result.copy()\n",
    "\n",
    "    for i,entry in enumerate(result):\n",
    "\n",
    "        AA=entry[0]\n",
    "        pKa=float(entry[-1])\n",
    "\n",
    "        if AA in negative: pqr[i,-1] = '%.6f' % (- 10**(pH-pKa) / (1 + 10**(pH-pKa)))\n",
    "        elif AA in positive: pqr[i,-1] = '%.6f' % (1.0 - 10**(pH-pKa) / (1 + 10**(pH-pKa)))\n",
    "        else: pqr[i,-1] = 0.0\n",
    "\n",
    "    return pqr"
   ]
  },
  {
   "cell_type": "code",
   "execution_count": 120,
   "id": "a54e6739-4346-4336-9f22-4b440157634d",
   "metadata": {
    "execution": {
     "iopub.execute_input": "2025-09-24T13:14:27.259992Z",
     "iopub.status.busy": "2025-09-24T13:14:27.259659Z",
     "iopub.status.idle": "2025-09-24T13:14:27.269113Z",
     "shell.execute_reply": "2025-09-24T13:14:27.268141Z",
     "shell.execute_reply.started": "2025-09-24T13:14:27.259962Z"
    }
   },
   "outputs": [
    {
     "name": "stdout",
     "output_type": "stream",
     "text": [
      "[-0.99  -0.99  -0.99  -0.99  -0.99  -0.99  -0.99  -0.99  -0.99  -0.99\n",
      " -0.99  -0.99  -0.99  -0.99  -0.99  -0.91  -0.81  -0.98  -0.99  -0.99\n",
      " -0.99  -0.99  -0.99  -0.99  -0.99  -0.99  -0.99  -0.99  -0.99  -0.99\n",
      " -0.99  -0.99  -0.99  -0.99  -0.99  -0.99  -0.99  -0.99  -0.99  -0.99\n",
      " -0.99  -0.93  -0.99  -0.94  -0.99  -0.99  -0.99  -0.99  -0.99  -0.99\n",
      " -0.99  -0.99  -0.99  -0.97  -0.99  -0.99  -0.99  -0.99  -0.99  -0.98\n",
      " -0.99  -0.99  -0.99  -0.98  -0.99  -0.83  -0.99  -0.99  -0.99  -0.99\n",
      " -0.99  -0.99  -0.99  -0.91  -0.99  -0.99  -0.99  -0.99  -0.99  -0.99\n",
      " -0.99  -0.99  -0.99  -0.99  -0.99  -0.99  -0.94  -0.99  -0.99  -0.99\n",
      " -0.99  -0.99  -0.99  -0.99  -0.99  -0.99  -0.99  -0.99  -0.99   0.166\n",
      "  0.261  0.013  0.     0.215  0.86   0.494  0.     0.     0.94   0.806\n",
      "  0.009  0.442  0.208  0.013  0.098  0.08  -0.    -0.    -0.    -0.\n",
      " -0.    -0.    -0.    -0.    -0.    -0.    -0.    -0.    -0.    -0.\n",
      " -0.    -0.    -0.    -0.    -0.    -0.    -0.    -0.    -0.    -0.\n",
      " -0.    -0.    -0.    -0.    -0.    -0.    -0.    -0.    -0.    -0.\n",
      " -0.    -0.    -0.    -0.    -0.    -0.    -0.    -0.    -0.    -0.\n",
      " -0.    -0.    -0.    -0.    -0.    -0.    -0.    -0.    -0.    -0.\n",
      " -0.     0.999  0.999  0.998  0.999  0.999  0.999  0.999  0.999  0.763\n",
      "  0.998  0.999  0.999  0.995  0.999  0.998  0.999  0.999  0.999  0.999\n",
      "  0.999  0.999  0.289  0.999  0.999  0.999  0.999  0.999  0.999  0.999\n",
      "  0.999  0.999  0.987  0.999  0.999  0.999  0.998  0.999  0.999  0.999\n",
      "  0.999  0.999  0.936  0.993  0.999  0.999  0.998  0.998  0.999  0.999\n",
      "  0.984  0.997  0.967  0.953  0.999  0.999  0.999  0.999  0.998  0.999\n",
      "  1.     0.999  0.999  0.999  0.999  0.999  0.999  1.     0.996  1.\n",
      "  0.999  1.     0.999  0.999  0.999  0.999  0.999  0.999  0.999  0.999\n",
      "  0.999  0.999  0.999  0.873]\n",
      "\n",
      "Total charge at pH = 7.00 is Q = -11.04\n"
     ]
    }
   ],
   "source": [
    "pka_file='%s.pka' % PDB_id\n",
    "pH=7.0\n",
    "\n",
    "pcr=partial_charges(pka_file,pH)\n",
    "\n",
    "sel=pcr[np.where(np.isin(pcr[:,2],['A']))]\n",
    "\n",
    "print(sel[:,-1].astype('float'))\n",
    "\n",
    "print('\\nTotal charge at pH = %.2f is Q = %.2f' % (pH,np.sum(pcr[np.where(pcr[:,2]=='A')][:,-1].astype('float'))))"
   ]
  },
  {
   "cell_type": "markdown",
   "id": "79f02e99-7c09-413e-924a-8e66e136375e",
   "metadata": {},
   "source": [
    "### Convert to XYZ based on propka-determined pKa"
   ]
  },
  {
   "cell_type": "code",
   "execution_count": 53,
   "id": "090f8a9a-9eef-483d-8085-ed636e69cf0e",
   "metadata": {
    "execution": {
     "iopub.execute_input": "2025-09-24T12:20:53.459724Z",
     "iopub.status.busy": "2025-09-24T12:20:53.459284Z",
     "iopub.status.idle": "2025-09-24T12:20:53.486322Z",
     "shell.execute_reply": "2025-09-24T12:20:53.485518Z",
     "shell.execute_reply.started": "2025-09-24T12:20:53.459693Z"
    }
   },
   "outputs": [
    {
     "ename": "NameError",
     "evalue": "name 'os' is not defined",
     "output_type": "error",
     "traceback": [
      "\u001b[0;31m---------------------------------------------------------------------------\u001b[0m",
      "\u001b[0;31mNameError\u001b[0m                                 Traceback (most recent call last)",
      "Cell \u001b[0;32mIn[53], line 1\u001b[0m\n\u001b[0;32m----> 1\u001b[0m \u001b[38;5;28;01massert\u001b[39;00m \u001b[43mos\u001b[49m\u001b[38;5;241m.\u001b[39mpath\u001b[38;5;241m.\u001b[39misfile(\u001b[38;5;124mf\u001b[39m\u001b[38;5;124m'\u001b[39m\u001b[38;5;132;01m{\u001b[39;00mpdb\u001b[38;5;132;01m}\u001b[39;00m\u001b[38;5;124m.pka\u001b[39m\u001b[38;5;124m'\u001b[39m)\n",
      "\u001b[0;31mNameError\u001b[0m: name 'os' is not defined"
     ]
    }
   ],
   "source": [
    "# chains is a list of identifiers\n",
    "def convert_propka(pdb_file: str, propka_file: str, output_xyz_file: str, pH=7.0, chains=None):\n",
    "    \"\"\"Convert propka-parsed PDB to coarse grained XYZ file; one bead per amino acid, adding sidechain beads for ionizable amino acid\"\"\"\n",
    "\n",
    "    pqr=mda.Universe(pqr_file)\n",
    "    pqr.atoms.translate(-pqr.atoms.center_of_mass()) # moves COM to [0,0,0]\n",
    "\n",
    "    # keep only protein atoms and optionally selected chains\n",
    "    # omit hydrogen atoms\n",
    "    if chains: traj=pqr.select_atoms('protein and not name H* and segid %s' % ' '.join(chains))\n",
    "    else: traj=pqr.select_atoms('protein and not name H*')\n",
    "\n",
    "    # load partial charges\n",
    "    pcr=partial_charges(pka_file,7.0)\n",
    "    if chains: pcr=pcr[np.where(np.isin(pcr[:,2],chains))]\n",
    "\n",
    "    residues = []\n",
    "    chrdict = {}\n",
    "    \n",
    "    for res in traj.residues:\n",
    "\n",
    "        name = res.resname\n",
    "        com = res.atoms.center_of_mass()\n",
    "\n",
    "        residues.append(dict(name=name,cm=com))\n",
    "\n",
    "        # Map residue and atom names to sidechain bead names\n",
    "        sidechain_map = {\n",
    "            \"ASP\": (\"Dsc\", \"OD1\"),\n",
    "            \"GLU\": (\"Esc\", \"OE1\"),\n",
    "            \"TYR\": (\"Tsc\", \"OH\"),\n",
    "            \"ARG\": (\"Rsc\", \"CZ\"),\n",
    "            \"LYS\": (\"Ksc\", \"NZ\"),\n",
    "            \"HIS\": (\"Hsc\", \"NE2\"),\n",
    "            \"CYS\": (\"Csc\", \"SG\"),\n",
    "        }\n",
    "\n",
    "        chr_=0.0\n",
    "        for atom in res.atoms: chr_+=np.float32(atom.charge)\n",
    "\n",
    "        #chr_ = res.atoms.total_charge()\n",
    "\n",
    "        # consider only charges above some cutoff\n",
    "        if abs(chr_) > 1e-3:\n",
    "\n",
    "            bead_name, atom_name = sidechain_map.get(name,(None,None))\n",
    "            \n",
    "            if bead_name:\n",
    "\n",
    "                bn = '%s%s%i' % (bead_name,res.segid,res.resid)\n",
    "                residues.append(dict(name=bn, cm=traj.select_atoms('resid %i and name %s' % (res.resid,atom_name)).positions[0]))\n",
    "\n",
    "            else:\n",
    "\n",
    "                bn = 'TRC%s%i' % (res.segid,res.resid)\n",
    "                residues.append(dict(name=bn, cm=res.atoms.center_of_charge())) # we have a terminal charge\n",
    "\n",
    "            chridx += 1\n",
    "\n",
    "            chrdict[bn] = chr_\n",
    "\n",
    "    with open(output_xyz_file, \"w\") as f:\n",
    "        \n",
    "        f.write(f\"{len(residues)}\\n\")\n",
    "        f.write(\n",
    "            f\"Converted with Duello pqr2xyz.py with {pqr_file} (https://github.com/mlund/pdb2xyz)\\n\"\n",
    "        )\n",
    "        \n",
    "        for i in residues:\n",
    "            \n",
    "            f.write(f\"{i['name']} {i['cm'][0]:.3f} {i['cm'][1]:.3f} {i['cm'][2]:.3f}\\n\")\n",
    "        logging.info(\n",
    "            f\"Converted {pqr_file} -> {output_xyz_file} with {len(residues)} residues.\"\n",
    "        )\n",
    "\n",
    "    return chrdict"
   ]
  },
  {
   "cell_type": "markdown",
   "id": "4dc32a40-3e31-4ad9-bec4-6338e5813f19",
   "metadata": {},
   "source": [
    "### Convert PDB to PQR"
   ]
  },
  {
   "cell_type": "code",
   "execution_count": 2,
   "id": "3d83cc57-8541-4599-bca2-150040e4fcf8",
   "metadata": {
    "execution": {
     "iopub.execute_input": "2025-09-24T09:41:22.658675Z",
     "iopub.status.busy": "2025-09-24T09:41:22.657851Z",
     "iopub.status.idle": "2025-09-24T09:41:22.663347Z",
     "shell.execute_reply": "2025-09-24T09:41:22.662323Z",
     "shell.execute_reply.started": "2025-09-24T09:41:22.658631Z"
    }
   },
   "outputs": [],
   "source": [
    "PDB_id='4F5S'\n",
    "pdb_file='../tests/%s.pdb' % PDB_id"
   ]
  },
  {
   "cell_type": "code",
   "execution_count": 3,
   "id": "667dd07f-97e5-40db-8254-6eda8554bfbb",
   "metadata": {
    "execution": {
     "iopub.execute_input": "2025-09-24T09:41:23.396620Z",
     "iopub.status.busy": "2025-09-24T09:41:23.396208Z",
     "iopub.status.idle": "2025-09-24T09:41:23.589723Z",
     "shell.execute_reply": "2025-09-24T09:41:23.589437Z",
     "shell.execute_reply.started": "2025-09-24T09:41:23.396574Z"
    }
   },
   "outputs": [],
   "source": [
    "%%capture --no-stdout\n",
    "\n",
    "#if needed at this stage, split into chains\n",
    "\n",
    "from Bio.PDB import PDBParser\n",
    "from Bio.PDB.PDBIO import PDBIO\n",
    "\n",
    "parser = PDBParser()\n",
    "io = PDBIO()\n",
    "\n",
    "structure = parser.get_structure(PDB_id, pdb_file)\n",
    "pdb_chains = structure.get_chains()\n",
    "for chain in pdb_chains:\n",
    "    io.set_structure(chain)\n",
    "    io.save('../tests/' + structure.get_id() + \"_\" + chain.get_id() + \".pdb\")"
   ]
  },
  {
   "cell_type": "code",
   "execution_count": 7,
   "id": "363b54d3-1509-4dff-8969-259ddcea994d",
   "metadata": {
    "execution": {
     "iopub.execute_input": "2025-09-24T09:42:06.871819Z",
     "iopub.status.busy": "2025-09-24T09:42:06.871736Z",
     "iopub.status.idle": "2025-09-24T09:42:20.528743Z",
     "shell.execute_reply": "2025-09-24T09:42:20.528413Z",
     "shell.execute_reply.started": "2025-09-24T09:42:06.871809Z"
    }
   },
   "outputs": [],
   "source": [
    "%%capture --no-stdout\n",
    "\n",
    "pH=7.0\n",
    "pqr_file='../tests/%s_pH%.1f.pqr' % (PDB_id,pH)\n",
    "\n",
    "pqr=run_pdb2pqr([pdb_file,pqr_file,\n",
    "                 '--keep-chain',\n",
    "                 '--titration-state-method=propka',\n",
    "                 '--with-ph=%.2f' % pH,\n",
    "                 '--ff=PARSE',\n",
    "                 '--drop-water',\n",
    "                 '-q',\n",
    "                 '--whitespace'])\n",
    "\n",
    "pH=5.0\n",
    "pqr_file='../tests/%s_pH%.1f.pqr' % (PDB_id,pH)\n",
    "\n",
    "pqr=run_pdb2pqr([pdb_file,pqr_file,\n",
    "                 '--keep-chain',\n",
    "                 '--titration-state-method=propka',\n",
    "                 '--with-ph=%.2f' % pH,\n",
    "                 '--ff=PARSE',\n",
    "                 '--drop-water',\n",
    "                 '-q',\n",
    "                 '--whitespace'])"
   ]
  },
  {
   "cell_type": "code",
   "execution_count": 8,
   "id": "eb2440ca-e2f7-4ca5-a22f-7c3e5c849d02",
   "metadata": {
    "execution": {
     "iopub.execute_input": "2025-09-24T09:42:22.444813Z",
     "iopub.status.busy": "2025-09-24T09:42:22.444179Z",
     "iopub.status.idle": "2025-09-24T09:42:22.449265Z",
     "shell.execute_reply": "2025-09-24T09:42:22.448298Z",
     "shell.execute_reply.started": "2025-09-24T09:42:22.444765Z"
    }
   },
   "outputs": [],
   "source": [
    "#we do this also only for a monomer (chain A)\n",
    "\n",
    "PDB_id='4F5S_A'\n",
    "pdb_file='../tests/%s.pdb' % PDB_id"
   ]
  },
  {
   "cell_type": "code",
   "execution_count": 9,
   "id": "6ae8c7a2-0ff9-44d4-944c-33909675dc5e",
   "metadata": {
    "execution": {
     "iopub.execute_input": "2025-09-24T09:42:23.002355Z",
     "iopub.status.busy": "2025-09-24T09:42:23.001732Z",
     "iopub.status.idle": "2025-09-24T09:42:27.711449Z",
     "shell.execute_reply": "2025-09-24T09:42:27.711131Z",
     "shell.execute_reply.started": "2025-09-24T09:42:23.002308Z"
    }
   },
   "outputs": [],
   "source": [
    "%%capture --no-stdout\n",
    "\n",
    "pH=7.0\n",
    "pqr_file='../tests/%s_pH%.1f.pqr' % (PDB_id,pH)\n",
    "\n",
    "pqr=run_pdb2pqr([pdb_file,pqr_file,\n",
    "                 '--keep-chain',\n",
    "                 '--titration-state-method=propka',\n",
    "                 '--with-ph=%.2f' % pH,\n",
    "                 '--ff=PARSE',\n",
    "                 '--drop-water',\n",
    "                 '-q',\n",
    "                 '--whitespace'])\n",
    "\n",
    "pH=5.0\n",
    "pqr_file='../tests/%s_pH%.1f.pqr' % (PDB_id,pH)\n",
    "\n",
    "pqr=run_pdb2pqr([pdb_file,pqr_file,\n",
    "                 '--keep-chain',\n",
    "                 '--titration-state-method=propka',\n",
    "                 '--with-ph=%.2f' % pH,\n",
    "                 '--ff=PARSE',\n",
    "                 '--drop-water',\n",
    "                 '-q',\n",
    "                 '--whitespace'])"
   ]
  },
  {
   "cell_type": "markdown",
   "id": "be05b18f-bd87-405e-ac89-ffd4b1fcd36a",
   "metadata": {},
   "source": [
    "### Convert PQR to XYZ"
   ]
  },
  {
   "cell_type": "code",
   "execution_count": 34,
   "id": "79ed99f9-cc63-4d4a-909c-025b564daae2",
   "metadata": {
    "execution": {
     "iopub.execute_input": "2025-09-24T10:07:14.055044Z",
     "iopub.status.busy": "2025-09-24T10:07:14.054336Z",
     "iopub.status.idle": "2025-09-24T10:07:14.068309Z",
     "shell.execute_reply": "2025-09-24T10:07:14.067591Z",
     "shell.execute_reply.started": "2025-09-24T10:07:14.054987Z"
    }
   },
   "outputs": [],
   "source": [
    "def convert_pqr(pqr_file: str, output_xyz_file: str, chains=None):\n",
    "    \"\"\"Convert PQR to coarse grained XYZ file; one bead per amino acid, adding sidechain beads for ionizable amino acid\"\"\"\n",
    "\n",
    "    pqr=mda.Universe(pqr_file)\n",
    "    pqr.atoms.translate(-pqr.atoms.center_of_mass()) # moves COM to [0,0,0]\n",
    "\n",
    "    # keep only protein atoms and optionally selected chains\n",
    "    # omit hydrogen atoms\n",
    "    if chains: traj=pqr.select_atoms('protein and not name H* and segid %s' % chains)\n",
    "    else: traj=pqr.select_atoms('protein and not name H*')\n",
    "\n",
    "    residues = []\n",
    "    chrdict = {}\n",
    "    chridx = 0\n",
    "    \n",
    "    for res in traj.residues:\n",
    "\n",
    "        name = res.resname\n",
    "        com = res.atoms.center_of_mass()\n",
    "\n",
    "        residues.append(dict(name=name,cm=com))\n",
    "\n",
    "        # Map residue and atom names to sidechain bead names\n",
    "        sidechain_map = {\n",
    "            \"ASP\": (\"Dsc\", \"OD1\"),\n",
    "            \"GLU\": (\"Esc\", \"OE1\"),\n",
    "            \"TYR\": (\"Tsc\", \"OH\"),\n",
    "            \"ARG\": (\"Rsc\", \"CZ\"),\n",
    "            \"LYS\": (\"Ksc\", \"NZ\"),\n",
    "            \"HIS\": (\"Hsc\", \"NE2\"),\n",
    "            \"CYS\": (\"Csc\", \"SG\"),\n",
    "        }\n",
    "\n",
    "        chr_=0.0\n",
    "        for atom in res.atoms: chr_+=np.float32(atom.charge)\n",
    "\n",
    "        #chr_ = res.atoms.total_charge()\n",
    "\n",
    "        # consider only charges above some cutoff\n",
    "        if abs(chr_) > 1e-3:\n",
    "\n",
    "            bead_name, atom_name = sidechain_map.get(name,(None,None))\n",
    "            \n",
    "            if bead_name:\n",
    "\n",
    "                bn = '%s%s%i' % (bead_name,res.segid,res.resid)\n",
    "                residues.append(dict(name=bn, cm=traj.select_atoms('resid %i and name %s' % (res.resid,atom_name)).positions[0]))\n",
    "\n",
    "            else:\n",
    "\n",
    "                bn = 'TRC%s%i' % (res.segid,res.resid)\n",
    "                residues.append(dict(name=bn, cm=res.atoms.center_of_charge())) # we have a terminal charge\n",
    "\n",
    "            chridx += 1\n",
    "\n",
    "            chrdict[bn] = chr_\n",
    "\n",
    "    with open(output_xyz_file, \"w\") as f:\n",
    "        \n",
    "        f.write(f\"{len(residues)}\\n\")\n",
    "        f.write(\n",
    "            f\"Converted with Duello pqr2xyz.py with {pqr_file} (https://github.com/mlund/pdb2xyz)\\n\"\n",
    "        )\n",
    "        \n",
    "        for i in residues:\n",
    "            \n",
    "            f.write(f\"{i['name']} {i['cm'][0]:.3f} {i['cm'][1]:.3f} {i['cm'][2]:.3f}\\n\")\n",
    "        logging.info(\n",
    "            f\"Converted {pqr_file} -> {output_xyz_file} with {len(residues)} residues.\"\n",
    "        )\n",
    "\n",
    "    return chrdict\n",
    "\n",
    "def write_topology():\n",
    "\n",
    "    #with open('topology.yaml', \"w\") as f:\n",
    "with open('BSA-full2.yaml', \"w\") as f:\n",
    "    f.write(\n",
    "\"\"\"comment: \"Calvados 3 coarse grained amino acid model for use with Duello / Faunus\"\n",
    "pH: %.2f\n",
    "version: 0.1.0\n",
    "atoms:\"\"\" % 7.20\n",
    ")\n",
    "    for key in cdr.keys(): f.write(\n",
    "\"\"\"\n",
    "  - {charge: %.2f, hydrophobicity: !Lambda 0, mass: 0, name: %s, σ: 2.0, ε: 0.8368}\"\"\" % (cdr[key],key)\n",
    "    )\n",
    "    f.write(\n",
    "\"\"\"\n",
    "  - {charge: 0.0, hydrophobicity: !Lambda 0.7407902764839954, mass: 156.19, name: ARG, σ: 6.56, ε: 0.8368}\n",
    "  - {charge: 0.0, hydrophobicity: !Lambda 0.092587557536158,  mass: 115.09, name: ASP, σ: 5.58, ε: 0.8368}\n",
    "  - {charge: 0.0, hydrophobicity: !Lambda 0.000249590539426,  mass: 129.11, name: GLU, σ: 5.92, ε: 0.8368}\n",
    "  - {charge: 0.0, hydrophobicity: !Lambda 0.1380602542039267, mass: 128.17, name: LYS, σ: 6.36, ε: 0.8368}\n",
    "  - {charge: 0.0, hydrophobicity: !Lambda 0.4087176216525476, mass: 137.14, name: HIS, σ: 6.08, ε: 0.8368}\n",
    "  - {charge: 0.0, hydrophobicity: !Lambda 0.3706962163690402, mass: 114.1,  name: ASN, σ: 5.68, ε: 0.8368}\n",
    "  - {charge: 0.0, hydrophobicity: !Lambda 0.3143449791669133, mass: 128.13, name: GLN, σ: 6.02, ε: 0.8368}\n",
    "  - {charge: 0.0, hydrophobicity: !Lambda 0.4473142572693176, mass: 87.08,  name: SER, σ: 5.18, ε: 0.8368}\n",
    "  - {charge: 0.0, hydrophobicity: !Lambda 0.7538308115197386, mass: 57.05,  name: GLY, σ: 4.5,  ε: 0.8368}\n",
    "  - {charge: 0.0, hydrophobicity: !Lambda 0.2672387936544146, mass: 101.11, name: THR, σ: 5.62, ε: 0.8368}\n",
    "  - {charge: 0.0, hydrophobicity: !Lambda 0.3377244362031627, mass: 71.07,  name: ALA, σ: 5.04, ε: 0.8368}\n",
    "  - {charge: 0.0, hydrophobicity: !Lambda 0.5170874160398543, mass: 131.2,  name: MET, σ: 6.18, ε: 0.8368}\n",
    "  - {charge: 0.0, hydrophobicity: !Lambda 0.950628687301107,  mass: 163.18, name: TYR, σ: 6.46, ε: 0.8368}\n",
    "  - {charge: 0.0, hydrophobicity: !Lambda 0.2936174211771383, mass: 99.13,  name: VAL, σ: 5.86, ε: 0.8368}\n",
    "  - {charge: 0.0, hydrophobicity: !Lambda 1.033450123574512,  mass: 186.22, name: TRP, σ: 6.78, ε: 0.8368}\n",
    "  - {charge: 0.0, hydrophobicity: !Lambda 0.5548615312993875, mass: 113.16, name: LEU, σ: 6.18, ε: 0.8368}\n",
    "  - {charge: 0.0, hydrophobicity: !Lambda 0.5130398874425708, mass: 113.16, name: ILE, σ: 6.18, ε: 0.8368}\n",
    "  - {charge: 0.0, hydrophobicity: !Lambda 0.3469777523519372, mass: 97.12,  name: PRO, σ: 5.56, ε: 0.8368}\n",
    "  - {charge: 0.0, hydrophobicity: !Lambda 0.8906449355499866, mass: 147.18, name: PHE, σ: 6.36, ε: 0.8368}\n",
    "  - {charge: 0.0, hydrophobicity: !Lambda 0.5922529084601322, mass: 103.14, name: CYS, σ: 5.48, ε: 0.8368}\n",
    "\"\"\"\n",
    ")\n",
    "    f.write(\n",
    "\"\"\"\n",
    "system:\n",
    "  energy:\n",
    "    nonbonded:\n",
    "      # Note that a Coulomb term is automatically added, so don't specify one here!\n",
    "      default:\n",
    "        - !AshbaughHatch {mixing: arithmetic, cutoff: 20.0}\n",
    "\"\"\"\n",
    ")"
   ]
  },
  {
   "cell_type": "code",
   "execution_count": 35,
   "id": "9f9267bb-0643-49a1-9dd6-8822a63434e0",
   "metadata": {
    "execution": {
     "iopub.execute_input": "2025-09-24T10:07:14.928856Z",
     "iopub.status.busy": "2025-09-24T10:07:14.928111Z",
     "iopub.status.idle": "2025-09-24T10:07:14.935569Z",
     "shell.execute_reply": "2025-09-24T10:07:14.934406Z",
     "shell.execute_reply.started": "2025-09-24T10:07:14.928793Z"
    }
   },
   "outputs": [],
   "source": [
    "PQR_id='4F5S'\n",
    "pH=7.0\n",
    "pqr_file='../tests/%s_pH%.1f.pqr' % (PQR_id,pH)\n",
    "xyz_file='../tests/%s_pqr_pH%.1f.xyz' % (PQR_id,pH)"
   ]
  },
  {
   "cell_type": "code",
   "execution_count": 36,
   "id": "7297a216-6517-4b05-9323-c36e4217c24e",
   "metadata": {
    "execution": {
     "iopub.execute_input": "2025-09-24T10:07:15.687614Z",
     "iopub.status.busy": "2025-09-24T10:07:15.687000Z",
     "iopub.status.idle": "2025-09-24T10:07:15.896905Z",
     "shell.execute_reply": "2025-09-24T10:07:15.896593Z",
     "shell.execute_reply.started": "2025-09-24T10:07:15.687567Z"
    }
   },
   "outputs": [],
   "source": [
    "cdict=convert_pqr(pqr_file,xyz_file)"
   ]
  },
  {
   "cell_type": "code",
   "execution_count": 37,
   "id": "2b808e02-8eb4-4be0-99e0-801f9e8bb8a3",
   "metadata": {
    "execution": {
     "iopub.execute_input": "2025-09-24T10:07:16.427377Z",
     "iopub.status.busy": "2025-09-24T10:07:16.426703Z",
     "iopub.status.idle": "2025-09-24T10:07:16.444736Z",
     "shell.execute_reply": "2025-09-24T10:07:16.444129Z",
     "shell.execute_reply.started": "2025-09-24T10:07:16.427322Z"
    }
   },
   "outputs": [
    {
     "data": {
      "text/plain": [
       "{'KscA4': np.float32(1.0000001),\n",
       " 'EscA6': np.float32(-1.0000001),\n",
       " 'RscA10': np.float32(0.9999999),\n",
       " 'KscA12': np.float32(1.0000001),\n",
       " 'DscA13': np.float32(-1.0000001),\n",
       " 'EscA16': np.float32(-1.0000001),\n",
       " 'EscA17': np.float32(-1.0000001),\n",
       " 'KscA20': np.float32(1.0000001),\n",
       " 'DscA37': np.float32(-1.0000001),\n",
       " 'EscA38': np.float32(-1.0000001),\n",
       " 'KscA41': np.float32(1.0000001),\n",
       " 'EscA45': np.float32(-1.0000001),\n",
       " 'EscA48': np.float32(-1.0000001),\n",
       " 'KscA51': np.float32(1.0000001),\n",
       " 'DscA56': np.float32(-1.0000001),\n",
       " 'EscA57': np.float32(-1.0000001),\n",
       " 'EscA63': np.float32(-1.0000001),\n",
       " 'KscA64': np.float32(1.0000001),\n",
       " 'HscA67': np.float32(1.0),\n",
       " 'DscA72': np.float32(-1.0000001),\n",
       " 'EscA73': np.float32(-1.0000001),\n",
       " 'KscA76': np.float32(1.0000001),\n",
       " 'RscA81': np.float32(0.9999999),\n",
       " 'EscA82': np.float32(-1.0000001),\n",
       " 'DscA86': np.float32(-1.0000001),\n",
       " 'DscA89': np.float32(-1.0000001),\n",
       " 'EscA92': np.float32(-1.0000001),\n",
       " 'KscA93': np.float32(1.0000001),\n",
       " 'EscA95': np.float32(-1.0000001),\n",
       " 'EscA97': np.float32(-1.0000001),\n",
       " 'RscA98': np.float32(0.9999999),\n",
       " 'EscA100': np.float32(-1.0000001),\n",
       " 'KscA106': np.float32(1.0000001),\n",
       " 'DscA107': np.float32(-1.0000001),\n",
       " 'DscA108': np.float32(-1.0000001),\n",
       " 'DscA111': np.float32(-1.0000001),\n",
       " 'KscA114': np.float32(1.0000001),\n",
       " 'KscA116': np.float32(1.0000001),\n",
       " 'DscA118': np.float32(-1.0000001),\n",
       " 'DscA124': np.float32(-1.0000001),\n",
       " 'EscA125': np.float32(-1.0000001),\n",
       " 'KscA127': np.float32(1.0000001),\n",
       " 'DscA129': np.float32(-1.0000001),\n",
       " 'EscA130': np.float32(-1.0000001),\n",
       " 'KscA131': np.float32(1.0000001),\n",
       " 'KscA132': np.float32(1.0000001),\n",
       " 'KscA136': np.float32(1.0000001),\n",
       " 'EscA140': np.float32(-1.0000001),\n",
       " 'RscA143': np.float32(0.9999999),\n",
       " 'RscA144': np.float32(0.9999999),\n",
       " 'EscA152': np.float32(-1.0000001),\n",
       " 'KscA159': np.float32(1.0000001),\n",
       " 'EscA166': np.float32(-1.0000001),\n",
       " 'EscA171': np.float32(-1.0000001),\n",
       " 'DscA172': np.float32(-1.0000001),\n",
       " 'KscA173': np.float32(1.0000001),\n",
       " 'KscA180': np.float32(1.0000001),\n",
       " 'EscA182': np.float32(-1.0000001),\n",
       " 'RscA185': np.float32(0.9999999),\n",
       " 'EscA186': np.float32(-1.0000001),\n",
       " 'KscA187': np.float32(1.0000001),\n",
       " 'RscA194': np.float32(0.9999999),\n",
       " 'RscA196': np.float32(0.9999999),\n",
       " 'RscA198': np.float32(0.9999999),\n",
       " 'KscA204': np.float32(1.0000001),\n",
       " 'EscA207': np.float32(-1.0000001),\n",
       " 'RscA208': np.float32(0.9999999),\n",
       " 'KscA211': np.float32(1.0000001),\n",
       " 'RscA217': np.float32(0.9999999),\n",
       " 'KscA224': np.float32(1.0000001),\n",
       " 'EscA226': np.float32(-1.0000001),\n",
       " 'EscA229': np.float32(-1.0000001),\n",
       " 'KscA232': np.float32(1.0000001),\n",
       " 'DscA236': np.float32(-1.0000001),\n",
       " 'KscA239': np.float32(1.0000001),\n",
       " 'KscA242': np.float32(1.0000001),\n",
       " 'EscA243': np.float32(-1.0000001),\n",
       " 'HscA246': np.float32(1.0),\n",
       " 'DscA248': np.float32(-1.0000001),\n",
       " 'EscA251': np.float32(-1.0000001),\n",
       " 'DscA254': np.float32(-1.0000001),\n",
       " 'DscA255': np.float32(-1.0000001),\n",
       " 'RscA256': np.float32(0.9999999),\n",
       " 'DscA258': np.float32(-1.0000001),\n",
       " 'KscA261': np.float32(1.0000001),\n",
       " 'DscA265': np.float32(-1.0000001),\n",
       " 'DscA268': np.float32(-1.0000001),\n",
       " 'KscA273': np.float32(1.0000001),\n",
       " 'KscA275': np.float32(1.0000001),\n",
       " 'EscA276': np.float32(-1.0000001),\n",
       " 'DscA279': np.float32(-1.0000001),\n",
       " 'KscA280': np.float32(1.0000001),\n",
       " 'EscA284': np.float32(-1.0000001),\n",
       " 'KscA285': np.float32(1.0000001),\n",
       " 'HscA287': np.float32(1.0),\n",
       " 'EscA291': np.float32(-1.0000001),\n",
       " 'EscA293': np.float32(-1.0000001),\n",
       " 'KscA294': np.float32(1.0000001),\n",
       " 'DscA295': np.float32(-1.0000001),\n",
       " 'EscA299': np.float32(-1.0000001),\n",
       " 'DscA307': np.float32(-1.0000001),\n",
       " 'EscA310': np.float32(-1.0000001),\n",
       " 'DscA311': np.float32(-1.0000001),\n",
       " 'KscA312': np.float32(1.0000001),\n",
       " 'DscA313': np.float32(-1.0000001),\n",
       " 'KscA316': np.float32(1.0000001),\n",
       " 'EscA320': np.float32(-1.0000001),\n",
       " 'KscA322': np.float32(1.0000001),\n",
       " 'DscA323': np.float32(-1.0000001),\n",
       " 'EscA332': np.float32(-1.0000001),\n",
       " 'RscA335': np.float32(0.9999999),\n",
       " 'RscA336': np.float32(0.9999999),\n",
       " 'EscA339': np.float32(-1.0000001),\n",
       " 'RscA347': np.float32(0.9999999),\n",
       " 'KscA350': np.float32(1.0000001),\n",
       " 'EscA351': np.float32(-1.0000001),\n",
       " 'EscA353': np.float32(-1.0000001),\n",
       " 'EscA357': np.float32(-1.0000001),\n",
       " 'EscA358': np.float32(-1.0000001),\n",
       " 'KscA362': np.float32(1.0000001),\n",
       " 'DscA363': np.float32(-1.0000001),\n",
       " 'DscA364': np.float32(-1.0000001),\n",
       " 'DscA374': np.float32(-1.0000001),\n",
       " 'KscA375': np.float32(1.0000001),\n",
       " 'KscA377': np.float32(1.0000001),\n",
       " 'DscA381': np.float32(-1.0000001),\n",
       " 'EscA382': np.float32(-1.0000001),\n",
       " 'KscA388': np.float32(1.0000001),\n",
       " 'DscA392': np.float32(-1.0000001),\n",
       " 'EscA395': np.float32(-1.0000001),\n",
       " 'KscA396': np.float32(1.0000001),\n",
       " 'EscA399': np.float32(-1.0000001),\n",
       " 'RscA409': np.float32(0.9999999),\n",
       " 'RscA412': np.float32(0.9999999),\n",
       " 'KscA413': np.float32(1.0000001),\n",
       " 'EscA424': np.float32(-1.0000001),\n",
       " 'RscA427': np.float32(0.9999999),\n",
       " 'KscA431': np.float32(1.0000001),\n",
       " 'RscA435': np.float32(0.9999999),\n",
       " 'KscA439': np.float32(1.0000001),\n",
       " 'EscA441': np.float32(-1.0000001),\n",
       " 'EscA443': np.float32(-1.0000001),\n",
       " 'RscA444': np.float32(0.9999999),\n",
       " 'EscA449': np.float32(-1.0000001),\n",
       " 'DscA450': np.float32(-1.0000001),\n",
       " 'RscA458': np.float32(0.9999999),\n",
       " 'EscA464': np.float32(-1.0000001),\n",
       " 'KscA465': np.float32(1.0000001),\n",
       " 'EscA470': np.float32(-1.0000001),\n",
       " 'KscA471': np.float32(1.0000001),\n",
       " 'KscA474': np.float32(1.0000001),\n",
       " 'EscA478': np.float32(-1.0000001),\n",
       " 'RscA483': np.float32(0.9999999),\n",
       " 'RscA484': np.float32(0.9999999),\n",
       " 'DscA493': np.float32(-1.0000001),\n",
       " 'EscA494': np.float32(-1.0000001),\n",
       " 'KscA499': np.float32(1.0000001),\n",
       " 'DscA502': np.float32(-1.0000001),\n",
       " 'EscA503': np.float32(-1.0000001),\n",
       " 'KscA504': np.float32(1.0000001),\n",
       " 'DscA511': np.float32(-1.0000001),\n",
       " 'DscA517': np.float32(-1.0000001),\n",
       " 'EscA519': np.float32(-1.0000001),\n",
       " 'KscA520': np.float32(1.0000001),\n",
       " 'KscA523': np.float32(1.0000001),\n",
       " 'KscA524': np.float32(1.0000001),\n",
       " 'EscA530': np.float32(-1.0000001),\n",
       " 'KscA533': np.float32(1.0000001),\n",
       " 'KscA535': np.float32(1.0000001),\n",
       " 'KscA537': np.float32(1.0000001),\n",
       " 'EscA540': np.float32(-1.0000001),\n",
       " 'EscA541': np.float32(-1.0000001),\n",
       " 'KscA544': np.float32(1.0000001),\n",
       " 'EscA548': np.float32(-1.0000001),\n",
       " 'DscA555': np.float32(-1.0000001),\n",
       " 'KscA556': np.float32(1.0000001),\n",
       " 'DscA561': np.float32(-1.0000001),\n",
       " 'DscA562': np.float32(-1.0000001),\n",
       " 'KscA563': np.float32(1.0000001),\n",
       " 'EscA564': np.float32(-1.0000001),\n",
       " 'EscA570': np.float32(-1.0000001),\n",
       " 'KscA573': np.float32(1.0000001),\n",
       " 'TRCA583': np.float32(-1.0000001),\n",
       " 'KscB4': np.float32(1.0000001),\n",
       " 'EscB6': np.float32(-1.0000001),\n",
       " 'RscB10': np.float32(0.9999999),\n",
       " 'KscB12': np.float32(1.0000001),\n",
       " 'DscB13': np.float32(-1.0000001),\n",
       " 'EscB16': np.float32(-1.0000001),\n",
       " 'EscB17': np.float32(-1.0000001),\n",
       " 'KscB20': np.float32(1.0000001),\n",
       " 'DscB37': np.float32(-1.0000001),\n",
       " 'EscB38': np.float32(-1.0000001),\n",
       " 'KscB41': np.float32(1.0000001),\n",
       " 'EscB45': np.float32(-1.0000001),\n",
       " 'EscB48': np.float32(-1.0000001),\n",
       " 'KscB51': np.float32(1.0000001),\n",
       " 'DscB56': np.float32(-1.0000001),\n",
       " 'EscB57': np.float32(-1.0000001),\n",
       " 'EscB63': np.float32(-1.0000001),\n",
       " 'KscB64': np.float32(1.0000001),\n",
       " 'HscB67': np.float32(1.0),\n",
       " 'DscB72': np.float32(-1.0000001),\n",
       " 'EscB73': np.float32(-1.0000001),\n",
       " 'KscB76': np.float32(1.0000001),\n",
       " 'RscB81': np.float32(0.9999999),\n",
       " 'EscB82': np.float32(-1.0000001),\n",
       " 'DscB86': np.float32(-1.0000001),\n",
       " 'DscB89': np.float32(-1.0000001),\n",
       " 'EscB92': np.float32(-1.0000001),\n",
       " 'KscB93': np.float32(1.0000001),\n",
       " 'EscB95': np.float32(-1.0000001),\n",
       " 'EscB97': np.float32(-1.0000001),\n",
       " 'RscB98': np.float32(0.9999999),\n",
       " 'EscB100': np.float32(-1.0000001),\n",
       " 'KscB106': np.float32(1.0000001),\n",
       " 'DscB107': np.float32(-1.0000001),\n",
       " 'DscB108': np.float32(-1.0000001),\n",
       " 'DscB111': np.float32(-1.0000001),\n",
       " 'KscB114': np.float32(1.0000001),\n",
       " 'KscB116': np.float32(1.0000001),\n",
       " 'DscB118': np.float32(-1.0000001),\n",
       " 'DscB124': np.float32(-1.0000001),\n",
       " 'EscB125': np.float32(-1.0000001),\n",
       " 'KscB127': np.float32(1.0000001),\n",
       " 'DscB129': np.float32(-1.0000001),\n",
       " 'EscB130': np.float32(-1.0000001),\n",
       " 'KscB131': np.float32(1.0000001),\n",
       " 'KscB132': np.float32(1.0000001),\n",
       " 'KscB136': np.float32(1.0000001),\n",
       " 'EscB140': np.float32(-1.0000001),\n",
       " 'RscB143': np.float32(0.9999999),\n",
       " 'RscB144': np.float32(0.9999999),\n",
       " 'EscB152': np.float32(-1.0000001),\n",
       " 'KscB159': np.float32(1.0000001),\n",
       " 'EscB166': np.float32(-1.0000001),\n",
       " 'EscB171': np.float32(-1.0000001),\n",
       " 'DscB172': np.float32(-1.0000001),\n",
       " 'KscB173': np.float32(1.0000001),\n",
       " 'KscB180': np.float32(1.0000001),\n",
       " 'EscB182': np.float32(-1.0000001),\n",
       " 'RscB185': np.float32(0.9999999),\n",
       " 'EscB186': np.float32(-1.0000001),\n",
       " 'KscB187': np.float32(1.0000001),\n",
       " 'RscB194': np.float32(0.9999999),\n",
       " 'RscB196': np.float32(0.9999999),\n",
       " 'RscB198': np.float32(0.9999999),\n",
       " 'KscB204': np.float32(1.0000001),\n",
       " 'EscB207': np.float32(-1.0000001),\n",
       " 'RscB208': np.float32(0.9999999),\n",
       " 'KscB211': np.float32(1.0000001),\n",
       " 'RscB217': np.float32(0.9999999),\n",
       " 'KscB221': np.float32(1.0000001),\n",
       " 'KscB224': np.float32(1.0000001),\n",
       " 'EscB226': np.float32(-1.0000001),\n",
       " 'EscB229': np.float32(-1.0000001),\n",
       " 'KscB232': np.float32(1.0000001),\n",
       " 'DscB236': np.float32(-1.0000001),\n",
       " 'KscB239': np.float32(1.0000001),\n",
       " 'KscB242': np.float32(1.0000001),\n",
       " 'EscB243': np.float32(-1.0000001),\n",
       " 'HscB246': np.float32(1.0),\n",
       " 'DscB248': np.float32(-1.0000001),\n",
       " 'DscB254': np.float32(-1.0000001),\n",
       " 'DscB255': np.float32(-1.0000001),\n",
       " 'RscB256': np.float32(0.9999999),\n",
       " 'DscB258': np.float32(-1.0000001),\n",
       " 'KscB261': np.float32(1.0000001),\n",
       " 'DscB265': np.float32(-1.0000001),\n",
       " 'DscB268': np.float32(-1.0000001),\n",
       " 'KscB273': np.float32(1.0000001),\n",
       " 'KscB275': np.float32(1.0000001),\n",
       " 'EscB276': np.float32(-1.0000001),\n",
       " 'DscB279': np.float32(-1.0000001),\n",
       " 'KscB280': np.float32(1.0000001),\n",
       " 'EscB284': np.float32(-1.0000001),\n",
       " 'KscB285': np.float32(1.0000001),\n",
       " 'HscB287': np.float32(1.0),\n",
       " 'EscB291': np.float32(-1.0000001),\n",
       " 'EscB293': np.float32(-1.0000001),\n",
       " 'DscB295': np.float32(-1.0000001),\n",
       " 'EscB299': np.float32(-1.0000001),\n",
       " 'DscB307': np.float32(-1.0000001),\n",
       " 'EscB310': np.float32(-1.0000001),\n",
       " 'DscB311': np.float32(-1.0000001),\n",
       " 'KscB312': np.float32(1.0000001),\n",
       " 'DscB313': np.float32(-1.0000001),\n",
       " 'KscB316': np.float32(1.0000001),\n",
       " 'EscB320': np.float32(-1.0000001),\n",
       " 'KscB322': np.float32(1.0000001),\n",
       " 'DscB323': np.float32(-1.0000001),\n",
       " 'EscB332': np.float32(-1.0000001),\n",
       " 'RscB335': np.float32(0.9999999),\n",
       " 'RscB336': np.float32(0.9999999),\n",
       " 'EscB339': np.float32(-1.0000001),\n",
       " 'RscB347': np.float32(0.9999999),\n",
       " 'KscB350': np.float32(1.0000001),\n",
       " 'EscB351': np.float32(-1.0000001),\n",
       " 'EscB353': np.float32(-1.0000001),\n",
       " 'EscB357': np.float32(-1.0000001),\n",
       " 'EscB358': np.float32(-1.0000001),\n",
       " 'KscB362': np.float32(1.0000001),\n",
       " 'DscB363': np.float32(-1.0000001),\n",
       " 'DscB364': np.float32(-1.0000001),\n",
       " 'HscB366': np.float32(1.0),\n",
       " 'DscB374': np.float32(-1.0000001),\n",
       " 'KscB375': np.float32(1.0000001),\n",
       " 'KscB377': np.float32(1.0000001),\n",
       " 'DscB381': np.float32(-1.0000001),\n",
       " 'EscB382': np.float32(-1.0000001),\n",
       " 'KscB388': np.float32(1.0000001),\n",
       " 'DscB392': np.float32(-1.0000001),\n",
       " 'EscB395': np.float32(-1.0000001),\n",
       " 'KscB396': np.float32(1.0000001),\n",
       " 'EscB399': np.float32(-1.0000001),\n",
       " 'RscB409': np.float32(0.9999999),\n",
       " 'RscB412': np.float32(0.9999999),\n",
       " 'KscB413': np.float32(1.0000001),\n",
       " 'EscB424': np.float32(-1.0000001),\n",
       " 'RscB427': np.float32(0.9999999),\n",
       " 'KscB431': np.float32(1.0000001),\n",
       " 'RscB435': np.float32(0.9999999),\n",
       " 'KscB439': np.float32(1.0000001),\n",
       " 'EscB441': np.float32(-1.0000001),\n",
       " 'EscB443': np.float32(-1.0000001),\n",
       " 'RscB444': np.float32(0.9999999),\n",
       " 'EscB449': np.float32(-1.0000001),\n",
       " 'DscB450': np.float32(-1.0000001),\n",
       " 'RscB458': np.float32(0.9999999),\n",
       " 'EscB464': np.float32(-1.0000001),\n",
       " 'KscB465': np.float32(1.0000001),\n",
       " 'EscB470': np.float32(-1.0000001),\n",
       " 'KscB471': np.float32(1.0000001),\n",
       " 'KscB474': np.float32(1.0000001),\n",
       " 'EscB478': np.float32(-1.0000001),\n",
       " 'RscB483': np.float32(0.9999999),\n",
       " 'RscB484': np.float32(0.9999999),\n",
       " 'DscB493': np.float32(-1.0000001),\n",
       " 'EscB494': np.float32(-1.0000001),\n",
       " 'KscB499': np.float32(1.0000001),\n",
       " 'DscB502': np.float32(-1.0000001),\n",
       " 'EscB503': np.float32(-1.0000001),\n",
       " 'KscB504': np.float32(1.0000001),\n",
       " 'DscB511': np.float32(-1.0000001),\n",
       " 'DscB517': np.float32(-1.0000001),\n",
       " 'EscB519': np.float32(-1.0000001),\n",
       " 'KscB520': np.float32(1.0000001),\n",
       " 'KscB523': np.float32(1.0000001),\n",
       " 'KscB524': np.float32(1.0000001),\n",
       " 'EscB530': np.float32(-1.0000001),\n",
       " 'KscB533': np.float32(1.0000001),\n",
       " 'KscB535': np.float32(1.0000001),\n",
       " 'KscB537': np.float32(1.0000001),\n",
       " 'EscB540': np.float32(-1.0000001),\n",
       " 'EscB541': np.float32(-1.0000001),\n",
       " 'KscB544': np.float32(1.0000001),\n",
       " 'EscB548': np.float32(-1.0000001),\n",
       " 'DscB555': np.float32(-1.0000001),\n",
       " 'KscB556': np.float32(1.0000001),\n",
       " 'DscB561': np.float32(-1.0000001),\n",
       " 'DscB562': np.float32(-1.0000001),\n",
       " 'KscB563': np.float32(1.0000001),\n",
       " 'EscB564': np.float32(-1.0000001),\n",
       " 'EscB570': np.float32(-1.0000001),\n",
       " 'KscB573': np.float32(1.0000001),\n",
       " 'TRCB583': np.float32(-1.0000001)}"
      ]
     },
     "execution_count": 37,
     "metadata": {},
     "output_type": "execute_result"
    }
   ],
   "source": [
    "cdict"
   ]
  },
  {
   "cell_type": "code",
   "execution_count": 107,
   "id": "33b3eb43-598b-4144-bada-49119baaf791",
   "metadata": {
    "execution": {
     "iopub.execute_input": "2025-09-16T12:44:39.506589Z",
     "iopub.status.busy": "2025-09-16T12:44:39.505908Z",
     "iopub.status.idle": "2025-09-16T12:44:39.516348Z",
     "shell.execute_reply": "2025-09-16T12:44:39.515097Z",
     "shell.execute_reply.started": "2025-09-16T12:44:39.506533Z"
    }
   },
   "outputs": [],
   "source": [
    "def calvados_template():\n",
    "    return \"\"\"\n",
    "{%- set f = 1.0 - sidechains -%}\n",
    "{%- set zCTR = - 10**(pH-3.16) / (1 + 10**(pH-3.16)) -%}\n",
    "{%- set zASP = - 10**(pH-3.43) / (1 + 10**(pH-3.43)) -%}\n",
    "{%- set zGLU = - 10**(pH-4.14) / (1 + 10**(pH-4.14)) -%}\n",
    "{%- set zCYS = 10**(pH-6.25) / (1 + 10**(pH-6.25)) -%}\n",
    "{%- set zHIS = 1 - 10**(pH-6.45) / (1 + 10**(pH-6.45)) -%}\n",
    "{%- set zNTR = 1 - 10**(pH-7.64) / (1 + 10**(pH-7.64)) -%}\n",
    "{%- set zLYS = 1 - 10**(pH-10.68) / (1 + 10**(pH-10.68)) -%}\n",
    "{%- set zARG = 1 - 10**(pH-12.5) / (1 + 10**(pH-12.5)) -%}\n",
    "comment: \"Calvados 3 coarse grained amino acid model for use with Duello / Faunus\"\n",
    "pH: {{ pH }}\n",
    "sidechains: {{ sidechains }}\n",
    "version: 0.1.0\n",
    "atoms:\n",
    "  - {charge: {{ \"%.2f\" % zCTR }}, hydrophobicity: !Lambda 0, mass: 0, name: CTR, σ: 2.0, ε: 0.8368}\n",
    "  - {charge: {{ \"%.2f\" % zNTR }}, hydrophobicity: !Lambda 0, mass: 0, name: NTR, σ: 2.0, ε: 0.8368}\n",
    "{%- if sidechains %}\n",
    "  - {charge: {{ \"%.2f\" % zGLU }}, hydrophobicity: !Lambda 0, mass: 0, name: Esc, σ: 2.0, ε: 0.8368}\n",
    "  - {charge: {{ \"%.2f\" % zASP }}, hydrophobicity: !Lambda 0, mass: 0, name: Dsc, σ: 2.0, ε: 0.8368}\n",
    "  - {charge: {{ \"%.2f\" % zHIS }}, hydrophobicity: !Lambda 0, mass: 0, name: Hsc, σ: 2.0, ε: 0.8368}\n",
    "  - {charge: {{ \"%.2f\" % zARG }}, hydrophobicity: !Lambda 0, mass: 0, name: Rsc, σ: 2.0, ε: 0.8368}\n",
    "  - {charge: {{ \"%.2f\" % zLYS }}, hydrophobicity: !Lambda 0, mass: 0, name: Ksc, σ: 2.0, ε: 0.8368}\n",
    "  - {charge: {{ \"%.2f\" % zCYS }}, hydrophobicity: !Lambda 0, mass: 0, name: Csc, σ: 2.0, ε: 0.8368}\n",
    "{%- endif %}\n",
    "  - {charge: {{ \"%.2f\" % (zARG * f) }}, hydrophobicity: !Lambda 0.7407902764839954, mass: 156.19, name: ARG, σ: 6.56, ε: 0.8368, custom: {alpha: {{ f * alpha }}}}\n",
    "  - {charge: {{ \"%.2f\" % (zASP * f) }}, hydrophobicity: !Lambda 0.092587557536158,  mass: 115.09, name: ASP, σ: 5.58, ε: 0.8368, custom: {alpha: {{ f * alpha }}}}\n",
    "  - {charge: {{ \"%.2f\" % (zGLU * f) }}, hydrophobicity: !Lambda 0.000249590539426,  mass: 129.11, name: GLU, σ: 5.92, ε: 0.8368, custom: {alpha: {{ f * alpha }}}}\n",
    "  - {charge: {{ \"%.2f\" % (zLYS * f) }}, hydrophobicity: !Lambda 0.1380602542039267, mass: 128.17, name: LYS, σ: 6.36, ε: 0.8368, custom: {alpha: {{ f * alpha }}}}\n",
    "  - {charge: {{ \"%.2f\" % (zHIS * f) }}, hydrophobicity: !Lambda 0.4087176216525476, mass: 137.14, name: HIS, σ: 6.08, ε: 0.8368, custom: {alpha: {{ f * alpha }}}}\n",
    "  - {charge: 0.0, hydrophobicity: !Lambda 0.3706962163690402, mass: 114.1,  name: ASN, σ: 5.68, ε: 0.8368}\n",
    "  - {charge: 0.0, hydrophobicity: !Lambda 0.3143449791669133, mass: 128.13, name: GLN, σ: 6.02, ε: 0.8368}\n",
    "  - {charge: 0.0, hydrophobicity: !Lambda 0.4473142572693176, mass: 87.08,  name: SER, σ: 5.18, ε: 0.8368}\n",
    "  - {charge: 0.0, hydrophobicity: !Lambda 0.7538308115197386, mass: 57.05,  name: GLY, σ: 4.5,  ε: 0.8368}\n",
    "  - {charge: 0.0, hydrophobicity: !Lambda 0.2672387936544146, mass: 101.11, name: THR, σ: 5.62, ε: 0.8368}\n",
    "  - {charge: 0.0, hydrophobicity: !Lambda 0.3377244362031627, mass: 71.07,  name: ALA, σ: 5.04, ε: 0.8368}\n",
    "  - {charge: 0.0, hydrophobicity: !Lambda 0.5170874160398543, mass: 131.2,  name: MET, σ: 6.18, ε: 0.8368}\n",
    "  - {charge: 0.0, hydrophobicity: !Lambda 0.950628687301107,  mass: 163.18, name: TYR, σ: 6.46, ε: 0.8368}\n",
    "  - {charge: 0.0, hydrophobicity: !Lambda 0.2936174211771383, mass: 99.13,  name: VAL, σ: 5.86, ε: 0.8368}\n",
    "  - {charge: 0.0, hydrophobicity: !Lambda 1.033450123574512,  mass: 186.22, name: TRP, σ: 6.78, ε: 0.8368}\n",
    "  - {charge: 0.0, hydrophobicity: !Lambda 0.5548615312993875, mass: 113.16, name: LEU, σ: 6.18, ε: 0.8368}\n",
    "  - {charge: 0.0, hydrophobicity: !Lambda 0.5130398874425708, mass: 113.16, name: ILE, σ: 6.18, ε: 0.8368}\n",
    "  - {charge: 0.0, hydrophobicity: !Lambda 0.3469777523519372, mass: 97.12,  name: PRO, σ: 5.56, ε: 0.8368}\n",
    "  - {charge: 0.0, hydrophobicity: !Lambda 0.8906449355499866, mass: 147.18, name: PHE, σ: 6.36, ε: 0.8368}\n",
    "  - {charge: {{ \"%.2f\" % (zCYS * f) }}, hydrophobicity: !Lambda 0.5922529084601322, mass: 103.14, name: CYS, σ: 5.48, ε: 0.8368, custom: {alpha: {{ f * alpha }}}}\n",
    "  - {charge: 0.0, hydrophobicity: !Lambda 0.5922529084601322, mass: 103.14, name: CSS, σ: 5.48, ε: 0.8368}\n",
    "\n",
    "system:\n",
    "  energy:\n",
    "    nonbonded:\n",
    "      # Note that a Coulomb term is automatically added, so don't specify one here!\n",
    "      default:\n",
    "        - !AshbaughHatch {mixing: arithmetic, cutoff: 20.0}\n",
    "\"\"\""
   ]
  },
  {
   "cell_type": "code",
   "execution_count": 4,
   "id": "628e8267-3fab-4a26-8860-db26b40249ca",
   "metadata": {
    "execution": {
     "iopub.execute_input": "2025-09-18T08:41:50.326317Z",
     "iopub.status.busy": "2025-09-18T08:41:50.325769Z",
     "iopub.status.idle": "2025-09-18T08:41:50.505362Z",
     "shell.execute_reply": "2025-09-18T08:41:50.504991Z",
     "shell.execute_reply.started": "2025-09-18T08:41:50.326288Z"
    }
   },
   "outputs": [],
   "source": [
    "#cdr=convert_pqr('/Users/anze/Sandbox/BSA-chainA-pH7.20.pqr', 'test.xyz', chains='A')\n",
    "cdr=convert_pqr('/Users/anze/Sandbox/BSA-full-pH7.20.pqr', 'BSA-full2.xyz')"
   ]
  },
  {
   "cell_type": "code",
   "execution_count": 87,
   "id": "a3db9549-d871-4b42-8d37-ad66429ec1b5",
   "metadata": {
    "execution": {
     "iopub.execute_input": "2025-09-14T07:02:36.860579Z",
     "iopub.status.busy": "2025-09-14T07:02:36.859775Z",
     "iopub.status.idle": "2025-09-14T07:02:39.065618Z",
     "shell.execute_reply": "2025-09-14T07:02:39.065250Z",
     "shell.execute_reply.started": "2025-09-14T07:02:36.860507Z"
    }
   },
   "outputs": [
    {
     "name": "stderr",
     "output_type": "stream",
     "text": [
      "Error parsing line: invalid literal for int() with base 10: ''\n",
      "<CRYST1    1.000    1.000    1.000  90.00  90.00  90.00 P 1>\n",
      "Truncating remaining errors for record type:CRYST1\n",
      "Warning: /Users/anze/Sandbox/BSA_9QQD.pdb is a non-standard PDB file.\n",
      "\n",
      "['CRYST1']\n",
      "Missing atom OXT in residue ALA A 581\n",
      "Missing atom OXT in residue ALA A 581\n",
      "Missing atom OXT in residue ALA A 581\n",
      "Ignoring 467 header lines in output.\n"
     ]
    }
   ],
   "source": [
    "pqr=run_pdb2pqr(['/Users/anze/Sandbox/BSA_9QQD.pdb','BSA-2.pqr','--keep-chain','--titration-state-method=propka','--with-ph=7.20','--ff=PARSE','--drop-water','-q','--whitespace'])"
   ]
  },
  {
   "cell_type": "code",
   "execution_count": 5,
   "id": "3d7f97d9-adcc-4931-a24c-52a9ea6d38a6",
   "metadata": {
    "execution": {
     "iopub.execute_input": "2025-09-18T08:42:08.156846Z",
     "iopub.status.busy": "2025-09-18T08:42:08.156103Z",
     "iopub.status.idle": "2025-09-18T08:42:08.166722Z",
     "shell.execute_reply": "2025-09-18T08:42:08.165989Z",
     "shell.execute_reply.started": "2025-09-18T08:42:08.156786Z"
    }
   },
   "outputs": [],
   "source": [
    "#with open('topology.yaml', \"w\") as f:\n",
    "with open('BSA-full2.yaml', \"w\") as f:\n",
    "    f.write(\n",
    "\"\"\"comment: \"Calvados 3 coarse grained amino acid model for use with Duello / Faunus\"\n",
    "pH: %.2f\n",
    "version: 0.1.0\n",
    "atoms:\"\"\" % 7.20\n",
    ")\n",
    "    for key in cdr.keys(): f.write(\n",
    "\"\"\"\n",
    "  - {charge: %.2f, hydrophobicity: !Lambda 0, mass: 0, name: %s, σ: 2.0, ε: 0.8368}\"\"\" % (cdr[key],key)\n",
    "    )\n",
    "    f.write(\n",
    "\"\"\"\n",
    "  - {charge: 0.0, hydrophobicity: !Lambda 0.7407902764839954, mass: 156.19, name: ARG, σ: 6.56, ε: 0.8368}\n",
    "  - {charge: 0.0, hydrophobicity: !Lambda 0.092587557536158,  mass: 115.09, name: ASP, σ: 5.58, ε: 0.8368}\n",
    "  - {charge: 0.0, hydrophobicity: !Lambda 0.000249590539426,  mass: 129.11, name: GLU, σ: 5.92, ε: 0.8368}\n",
    "  - {charge: 0.0, hydrophobicity: !Lambda 0.1380602542039267, mass: 128.17, name: LYS, σ: 6.36, ε: 0.8368}\n",
    "  - {charge: 0.0, hydrophobicity: !Lambda 0.4087176216525476, mass: 137.14, name: HIS, σ: 6.08, ε: 0.8368}\n",
    "  - {charge: 0.0, hydrophobicity: !Lambda 0.3706962163690402, mass: 114.1,  name: ASN, σ: 5.68, ε: 0.8368}\n",
    "  - {charge: 0.0, hydrophobicity: !Lambda 0.3143449791669133, mass: 128.13, name: GLN, σ: 6.02, ε: 0.8368}\n",
    "  - {charge: 0.0, hydrophobicity: !Lambda 0.4473142572693176, mass: 87.08,  name: SER, σ: 5.18, ε: 0.8368}\n",
    "  - {charge: 0.0, hydrophobicity: !Lambda 0.7538308115197386, mass: 57.05,  name: GLY, σ: 4.5,  ε: 0.8368}\n",
    "  - {charge: 0.0, hydrophobicity: !Lambda 0.2672387936544146, mass: 101.11, name: THR, σ: 5.62, ε: 0.8368}\n",
    "  - {charge: 0.0, hydrophobicity: !Lambda 0.3377244362031627, mass: 71.07,  name: ALA, σ: 5.04, ε: 0.8368}\n",
    "  - {charge: 0.0, hydrophobicity: !Lambda 0.5170874160398543, mass: 131.2,  name: MET, σ: 6.18, ε: 0.8368}\n",
    "  - {charge: 0.0, hydrophobicity: !Lambda 0.950628687301107,  mass: 163.18, name: TYR, σ: 6.46, ε: 0.8368}\n",
    "  - {charge: 0.0, hydrophobicity: !Lambda 0.2936174211771383, mass: 99.13,  name: VAL, σ: 5.86, ε: 0.8368}\n",
    "  - {charge: 0.0, hydrophobicity: !Lambda 1.033450123574512,  mass: 186.22, name: TRP, σ: 6.78, ε: 0.8368}\n",
    "  - {charge: 0.0, hydrophobicity: !Lambda 0.5548615312993875, mass: 113.16, name: LEU, σ: 6.18, ε: 0.8368}\n",
    "  - {charge: 0.0, hydrophobicity: !Lambda 0.5130398874425708, mass: 113.16, name: ILE, σ: 6.18, ε: 0.8368}\n",
    "  - {charge: 0.0, hydrophobicity: !Lambda 0.3469777523519372, mass: 97.12,  name: PRO, σ: 5.56, ε: 0.8368}\n",
    "  - {charge: 0.0, hydrophobicity: !Lambda 0.8906449355499866, mass: 147.18, name: PHE, σ: 6.36, ε: 0.8368}\n",
    "  - {charge: 0.0, hydrophobicity: !Lambda 0.5922529084601322, mass: 103.14, name: CYS, σ: 5.48, ε: 0.8368}\n",
    "\"\"\"\n",
    ")\n",
    "    f.write(\n",
    "\"\"\"\n",
    "system:\n",
    "  energy:\n",
    "    nonbonded:\n",
    "      # Note that a Coulomb term is automatically added, so don't specify one here!\n",
    "      default:\n",
    "        - !AshbaughHatch {mixing: arithmetic, cutoff: 20.0}\n",
    "\"\"\"\n",
    ")"
   ]
  },
  {
   "cell_type": "markdown",
   "id": "b75ac2d3-0343-41c2-a4a9-1e32f6b0bdc0",
   "metadata": {},
   "source": [
    "Using PQR:\n",
    "* automatically takes care of N-terminal and C-terminal charges\n",
    "* automatically takes care of uncharged SS CYS residues\n",
    "\n",
    "While Duello:\n",
    "* Can assign double charge if the N-terminal AA has an ionizable side group\n",
    "\n",
    "Relevant atoms for sidegroups:\n",
    "* LYS: HZ*"
   ]
  },
  {
   "cell_type": "code",
   "execution_count": 40,
   "id": "acbc1055-a8d0-4c20-bda8-780cd149d6ce",
   "metadata": {
    "execution": {
     "iopub.execute_input": "2025-09-16T12:04:43.502982Z",
     "iopub.status.busy": "2025-09-16T12:04:43.502543Z",
     "iopub.status.idle": "2025-09-16T12:04:43.508084Z",
     "shell.execute_reply": "2025-09-16T12:04:43.506935Z",
     "shell.execute_reply.started": "2025-09-16T12:04:43.502954Z"
    }
   },
   "outputs": [],
   "source": [
    "sidechain_map = {\n",
    "            (\"ASP\"): (\"OD1\", \"Dsc\"),\n",
    "            (\"GLU\", \"OE1\"): \"Esc\",\n",
    "            (\"TYR\", \"CZ\"): \"Tsc\",\n",
    "            (\"ARG\", \"CZ\"): \"Rsc\",\n",
    "            (\"LYS\", \"NZ\"): \"Ksc\",\n",
    "            (\"HIS\", \"NE2\"): \"Hsc\",\n",
    "            (\"CYS\", \"SG\"): \"Csc\",\n",
    "}\n",
    "\n",
    "#bead_name = sidechain_map.get((res.name, atom.name))"
   ]
  },
  {
   "cell_type": "code",
   "execution_count": 42,
   "id": "6ef4af20-5b0a-4b6d-8c24-6c99c2bab73d",
   "metadata": {
    "execution": {
     "iopub.execute_input": "2025-09-16T12:04:56.574735Z",
     "iopub.status.busy": "2025-09-16T12:04:56.574127Z",
     "iopub.status.idle": "2025-09-16T12:04:56.581609Z",
     "shell.execute_reply": "2025-09-16T12:04:56.580796Z",
     "shell.execute_reply.started": "2025-09-16T12:04:56.574689Z"
    }
   },
   "outputs": [
    {
     "data": {
      "text/plain": [
       "'OD1'"
      ]
     },
     "execution_count": 42,
     "metadata": {},
     "output_type": "execute_result"
    }
   ],
   "source": [
    "sidechain_map.get(\"ASP\")[0]"
   ]
  },
  {
   "cell_type": "code",
   "execution_count": 81,
   "id": "1ac582d8-62cd-4c13-9105-4cf9ab01f43f",
   "metadata": {
    "execution": {
     "iopub.execute_input": "2025-09-16T12:32:07.649071Z",
     "iopub.status.busy": "2025-09-16T12:32:07.648424Z",
     "iopub.status.idle": "2025-09-16T12:32:07.658544Z",
     "shell.execute_reply": "2025-09-16T12:32:07.657868Z",
     "shell.execute_reply.started": "2025-09-16T12:32:07.649022Z"
    }
   },
   "outputs": [
    {
     "data": {
      "text/plain": [
       "<AtomGroup with 1 atom>"
      ]
     },
     "execution_count": 81,
     "metadata": {},
     "output_type": "execute_result"
    }
   ],
   "source": [
    "traj.select_atoms('resid 573 and name NZ')"
   ]
  },
  {
   "cell_type": "code",
   "execution_count": 62,
   "id": "97c4a652-fbc3-4d3c-9046-19f4e5aed412",
   "metadata": {
    "execution": {
     "iopub.execute_input": "2025-09-16T12:12:26.280848Z",
     "iopub.status.busy": "2025-09-16T12:12:26.280171Z",
     "iopub.status.idle": "2025-09-16T12:12:26.291165Z",
     "shell.execute_reply": "2025-09-16T12:12:26.290384Z",
     "shell.execute_reply.started": "2025-09-16T12:12:26.280793Z"
    }
   },
   "outputs": [
    {
     "data": {
      "text/plain": [
       "array([[-3.444, 33.006, 83.23 ]], dtype=float32)"
      ]
     },
     "execution_count": 62,
     "metadata": {},
     "output_type": "execute_result"
    }
   ],
   "source": [
    "sl.positions"
   ]
  },
  {
   "cell_type": "code",
   "execution_count": null,
   "id": "ddc970c0-c340-4b00-973e-b0ef676a4dad",
   "metadata": {},
   "outputs": [],
   "source": []
  }
 ],
 "metadata": {
  "kernelspec": {
   "display_name": "Python 3 (ipykernel)",
   "language": "python",
   "name": "python3"
  },
  "language_info": {
   "codemirror_mode": {
    "name": "ipython",
    "version": 3
   },
   "file_extension": ".py",
   "mimetype": "text/x-python",
   "name": "python",
   "nbconvert_exporter": "python",
   "pygments_lexer": "ipython3",
   "version": "3.10.18"
  }
 },
 "nbformat": 4,
 "nbformat_minor": 5
}
